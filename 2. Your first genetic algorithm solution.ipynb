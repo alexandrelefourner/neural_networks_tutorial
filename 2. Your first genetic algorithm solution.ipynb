{
 "cells": [
  {
   "cell_type": "markdown",
   "metadata": {},
   "source": [
    "# Your first genetic algorithm\n",
    "\n",
    "Now that you understand the building block of a neural network, we will create one based on genetic evolution.<br>\n",
    "You will first need to install the gym_snake from seanbae.<br><br>\n",
    "\n",
    "<center><b><a href=\"https://github.com/nicomon24/Sneks\" target=\"_blank\">https://github.com/nicomon24/Sneks</a></b></center><br><br>\n",
    "To install the library, run the following cell (this may take a few minutes)"
   ]
  },
  {
   "cell_type": "code",
   "execution_count": 1,
   "metadata": {
    "scrolled": true
   },
   "outputs": [
    {
     "name": "stderr",
     "output_type": "stream",
     "text": [
      "Cloning into 'Sneks'...\n"
     ]
    },
    {
     "name": "stdout",
     "output_type": "stream",
     "text": [
      "Obtaining file:///D:/git/all-ml/Sneks\n",
      "Requirement already satisfied: gym in c:\\users\\alexandre\\appdata\\local\\programs\\python\\python36\\lib\\site-packages (from sneks==0.0.1) (0.12.1)\n",
      "Requirement already satisfied: numpy in c:\\users\\alexandre\\appdata\\local\\programs\\python\\python36\\lib\\site-packages (from sneks==0.0.1) (1.16.2)\n",
      "Requirement already satisfied: opencv-python in c:\\users\\alexandre\\appdata\\local\\programs\\python\\python36\\lib\\site-packages (from sneks==0.0.1) (3.4.2.17)\n",
      "Requirement already satisfied: pyglet>=1.2.0 in c:\\users\\alexandre\\appdata\\local\\programs\\python\\python36\\lib\\site-packages (from gym->sneks==0.0.1) (1.3.2)\n",
      "Requirement already satisfied: scipy in c:\\users\\alexandre\\appdata\\local\\programs\\python\\python36\\lib\\site-packages (from gym->sneks==0.0.1) (1.1.0)\n",
      "Requirement already satisfied: six in c:\\users\\alexandre\\appdata\\local\\programs\\python\\python36\\lib\\site-packages (from gym->sneks==0.0.1) (1.11.0)\n",
      "Requirement already satisfied: requests>=2.0 in c:\\users\\alexandre\\appdata\\local\\programs\\python\\python36\\lib\\site-packages (from gym->sneks==0.0.1) (2.19.1)\n",
      "Requirement already satisfied: future in c:\\users\\alexandre\\appdata\\local\\programs\\python\\python36\\lib\\site-packages (from pyglet>=1.2.0->gym->sneks==0.0.1) (0.16.0)\n",
      "Requirement already satisfied: chardet<3.1.0,>=3.0.2 in c:\\users\\alexandre\\appdata\\local\\programs\\python\\python36\\lib\\site-packages (from requests>=2.0->gym->sneks==0.0.1) (3.0.4)\n",
      "Requirement already satisfied: idna<2.8,>=2.5 in c:\\users\\alexandre\\appdata\\local\\programs\\python\\python36\\lib\\site-packages (from requests>=2.0->gym->sneks==0.0.1) (2.7)\n",
      "Requirement already satisfied: urllib3<1.24,>=1.21.1 in c:\\users\\alexandre\\appdata\\local\\programs\\python\\python36\\lib\\site-packages (from requests>=2.0->gym->sneks==0.0.1) (1.23)\n",
      "Requirement already satisfied: certifi>=2017.4.17 in c:\\users\\alexandre\\appdata\\local\\programs\\python\\python36\\lib\\site-packages (from requests>=2.0->gym->sneks==0.0.1) (2018.8.24)\n",
      "Installing collected packages: sneks\n",
      "  Found existing installation: sneks 0.0.1\n",
      "    Uninstalling sneks-0.0.1:\n",
      "      Successfully uninstalled sneks-0.0.1\n",
      "  Running setup.py develop for sneks\n",
      "Successfully installed sneks\n"
     ]
    },
    {
     "name": "stderr",
     "output_type": "stream",
     "text": [
      "c:\\users\\alexandre\\appdata\\local\\programs\\python\\python36\\lib\\site-packages\\pip\\_internal\\req\\req_install.py:391: UserWarning: Unbuilt egg for Unknown [unknown version] (c:\\users\\alexandre\\appdata\\local\\programs\\python\\python36\\lib\\site-packages)\n",
      "  self.satisfied_by = pkg_resources.get_distribution(str(no_marker))\n"
     ]
    }
   ],
   "source": [
    "!git clone https://github.com/nicomon24/Sneks\n",
    "!pip install -e ./Sneks"
   ]
  },
  {
   "cell_type": "markdown",
   "metadata": {},
   "source": [
    "If you are running on windows, execute this cell to complete the installation:"
   ]
  },
  {
   "cell_type": "code",
   "execution_count": 2,
   "metadata": {},
   "outputs": [
    {
     "name": "stdout",
     "output_type": "stream",
     "text": [
      "        1 r‚pertoires d‚plac‚s.\n",
      "        1 r‚pertoires d‚plac‚s.\n"
     ]
    }
   ],
   "source": [
    "!move ./Sneks/sneks ./snek\n",
    "!rd /s /q Sneks\n",
    "!move ./snek ./sneks"
   ]
  },
  {
   "cell_type": "markdown",
   "metadata": {},
   "source": [
    "Linux lovers, here is yours:"
   ]
  },
  {
   "cell_type": "code",
   "execution_count": null,
   "metadata": {},
   "outputs": [],
   "source": [
    "!mv ./Sneks/sneks ./snek\n",
    "!rm -rf gym-snake\n",
    "!move ./snek ./sneks"
   ]
  },
  {
   "cell_type": "markdown",
   "metadata": {},
   "source": [
    "# Basics of gym\n",
    "\n",
    "Now that we have the environment ready to be used, we will focus on how this works.\n",
    "Let's import the newly set environment."
   ]
  },
  {
   "cell_type": "code",
   "execution_count": 3,
   "metadata": {},
   "outputs": [],
   "source": [
    "import gym #Import gym library from OpenAI\n",
    "import sneks\n",
    "\n",
    "env = gym.make('babysnek-raw-16-v1') #Create the environment."
   ]
  },
  {
   "cell_type": "markdown",
   "metadata": {},
   "source": [
    "If the above cell did not execute correctly, please check you correctly have correctly have the sneks folder in the same directory of the notebook. It should be without any caps!\n",
    "\n",
    "<center><img src=\"ipynb_images/install_snake.jpg\"></img></center><br>"
   ]
  },
  {
   "cell_type": "markdown",
   "metadata": {},
   "source": [
    "Ok. Now that your installation works and we created the environment, let's see how it works..."
   ]
  },
  {
   "cell_type": "code",
   "execution_count": 4,
   "metadata": {},
   "outputs": [],
   "source": [
    "env.reset(); #This function is to call before each \"game\" your neural network will run.\n",
    "#This will restart the game.\n",
    "#The function returns a matrice of the observation state. I'll get back to this later."
   ]
  },
  {
   "cell_type": "code",
   "execution_count": 5,
   "metadata": {},
   "outputs": [],
   "source": [
    "env.render(); #This function is used to render a visual representation of what's going on in the game.\n",
    "#You should see a window opening. If it freezes, it's normal. Don't panic!"
   ]
  },
  {
   "cell_type": "markdown",
   "metadata": {},
   "source": [
    "Generally, the <i>env.render()</i> function is called when you want to see what your neural network does.<br>\n",
    "However, you will see we will that most of the time we will not use this function.<br>\n",
    "We want to train an agent and train it fast. Rendering is done at the same time the game is played, which reduces a lot the time performance!<br><br><br>\n",
    "Now that we have started the environment we will play random actions to display how things work.<br>If you were in Mario, this action could be \"move right, move left, jump...\". Here, it is the movement of the snake we want to see."
   ]
  },
  {
   "cell_type": "code",
   "execution_count": 6,
   "metadata": {},
   "outputs": [
    {
     "data": {
      "text/plain": [
       "Discrete(4)"
      ]
     },
     "execution_count": 6,
     "metadata": {},
     "output_type": "execute_result"
    }
   ],
   "source": [
    "env.action_space #Shows what is the structure of the expected input"
   ]
  },
  {
   "cell_type": "markdown",
   "metadata": {},
   "source": [
    "The action_space is part of our environment. It describe here that we can give 4 different actions : 0, 1, 2 and 3.<br><br>\n",
    "The environment is said <b><u>discrete</u></b> which means you can only select integer number.<br>\n",
    "Discrete is opposed to <b><u>continuous</u></b>, which represents continuous variable.<br><br>\n",
    "A discrete variable could be the face of a dice, it can only be 1, 2, 3, 4, 5 or 6.<br>But if you think of the weight of your dog, you would have something like 17,841Kg.<br>\n",
    "Your dog don't come from 17Kg to 18Kg as a \"jump\". His weights <u>continuously</u> grows from 17 to 18. This is a continuous variable!"
   ]
  },
  {
   "cell_type": "code",
   "execution_count": 7,
   "metadata": {},
   "outputs": [
    {
     "data": {
      "text/plain": [
       "2"
      ]
     },
     "execution_count": 7,
     "metadata": {},
     "output_type": "execute_result"
    }
   ],
   "source": [
    "env.action_space.sample() #Calls a random possible movement of the snake, an integer between 0 and 4."
   ]
  },
  {
   "cell_type": "markdown",
   "metadata": {},
   "source": [
    "Now that we know what to send to the environment, we want our movement to be taken into consideration. For this, we will call the **env.step()** function.<br>\n",
    "It returns the following information:<br>\n",
    "- <u>Observation:</u> This is how the environment looks after your action. It allows you to track the movement of your snake. The observation is given when you execute a step and when you call *env.reset()*\n",
    "- <u>reward:</u> The reward acquired in the last action. Did your snake eat the red dot ? If yes, this is a reward.\n",
    "- <u>done:</u> Can you still play ? If your snake ate his tail or ran in the cliff... your game is finished. This is shown by a done set to True.\n",
    "- <u>info:</u> Any additionnal information given by the environment."
   ]
  },
  {
   "cell_type": "code",
   "execution_count": 8,
   "metadata": {},
   "outputs": [
    {
     "data": {
      "text/plain": [
       "(array([[  0.,   0.,   0.,   0.,   0.,   0.,   0.,   0.,   0.,   0.,   0.,\n",
       "           0.,   0.,   0.,   0.,   0.],\n",
       "        [  0.,   0.,   0.,   0.,   0.,   0.,   0.,   0.,   0.,   0.,   0.,\n",
       "           0.,   0.,   0.,   0.,   0.],\n",
       "        [  0.,   0.,   0.,   0.,   0.,   0.,   0.,   0.,   0.,   0., 255.,\n",
       "           0.,   0.,   0.,   0.,   0.],\n",
       "        [  0.,   0.,   0.,   0.,   0.,   0.,   0.,   0.,   0.,   0.,   0.,\n",
       "           0.,   0.,   0.,   0.,   0.],\n",
       "        [  0.,   0.,   0.,   0.,   0.,   0.,   0.,   0.,   0.,   0.,   0.,\n",
       "           0.,   0.,   0.,   0.,   0.],\n",
       "        [  0.,   0.,   0.,   0.,   0.,   0.,   0.,   0.,   0.,   0.,   0.,\n",
       "           0.,   0.,   0.,   0.,   0.],\n",
       "        [  0.,   0.,   0.,   0.,   0.,   0.,   0.,   0.,   0.,   0.,   0.,\n",
       "         101.,   0.,   0.,   0.,   0.],\n",
       "        [  0.,   0.,   0.,   0.,   0.,   0.,   0.,   0.,   0., 100., 100.,\n",
       "         100.,   0.,   0.,   0.,   0.],\n",
       "        [  0.,   0.,   0.,   0.,   0.,   0.,   0.,   0.,   0.,   0.,   0.,\n",
       "           0.,   0.,   0.,   0.,   0.],\n",
       "        [  0.,   0.,   0.,   0.,   0.,   0.,   0.,   0.,   0.,   0.,   0.,\n",
       "           0.,   0.,   0.,   0.,   0.],\n",
       "        [  0.,   0.,   0.,   0.,   0.,   0.,   0.,   0.,   0.,   0.,   0.,\n",
       "           0.,   0.,   0.,   0.,   0.],\n",
       "        [  0.,   0.,   0.,   0.,   0.,   0.,   0.,   0.,   0.,   0.,   0.,\n",
       "           0.,   0.,   0.,   0.,   0.],\n",
       "        [  0.,   0.,   0.,   0.,   0.,   0.,   0.,   0.,   0.,   0.,   0.,\n",
       "           0.,   0.,   0.,   0.,   0.],\n",
       "        [  0.,   0.,   0.,   0.,   0.,   0.,   0.,   0.,   0.,   0.,   0.,\n",
       "           0.,   0.,   0.,   0.,   0.],\n",
       "        [  0.,   0.,   0.,   0.,   0.,   0.,   0.,   0.,   0.,   0.,   0.,\n",
       "           0.,   0.,   0.,   0.,   0.],\n",
       "        [  0.,   0.,   0.,   0.,   0.,   0.,   0.,   0.,   0.,   0.,   0.,\n",
       "           0.,   0.,   0.,   0.,   0.]]), 0, False, {})"
      ]
     },
     "execution_count": 8,
     "metadata": {},
     "output_type": "execute_result"
    }
   ],
   "source": [
    "env.step(env.action_space.sample())"
   ]
  },
  {
   "cell_type": "markdown",
   "metadata": {},
   "source": [
    "If you look at your opened window, you will see the black point did not move. It is because we need to call the env.render() to get an update."
   ]
  },
  {
   "cell_type": "code",
   "execution_count": 9,
   "metadata": {},
   "outputs": [
    {
     "name": "stdout",
     "output_type": "stream",
     "text": [
      "(array([[  0.,   0.,   0.,   0.,   0.,   0.,   0.,   0.,   0.,   0.,   0.,\n",
      "          0.,   0.,   0.,   0.,   0.],\n",
      "       [  0.,   0.,   0.,   0.,   0.,   0.,   0.,   0.,   0.,   0.,   0.,\n",
      "          0.,   0.,   0.,   0.,   0.],\n",
      "       [  0.,   0.,   0.,   0.,   0.,   0.,   0.,   0.,   0.,   0.,   0.,\n",
      "          0.,   0.,   0.,   0.,   0.],\n",
      "       [  0.,   0.,   0.,   0.,   0.,   0.,   0.,   0.,   0.,   0.,   0.,\n",
      "          0.,   0.,   0.,   0.,   0.],\n",
      "       [  0.,   0.,   0.,   0.,   0.,   0.,   0.,   0.,   0.,   0.,   0.,\n",
      "          0.,   0.,   0.,   0.,   0.],\n",
      "       [  0.,   0.,   0.,   0.,   0., 101.,   0.,   0.,   0.,   0.,   0.,\n",
      "          0.,   0.,   0.,   0.,   0.],\n",
      "       [  0.,   0.,   0.,   0.,   0., 100.,   0.,   0.,   0.,   0.,   0.,\n",
      "          0.,   0.,   0.,   0.,   0.],\n",
      "       [  0.,   0.,   0.,   0.,   0., 100.,   0.,   0.,   0.,   0.,   0.,\n",
      "          0.,   0.,   0.,   0.,   0.],\n",
      "       [  0.,   0.,   0.,   0.,   0., 100.,   0.,   0.,   0.,   0.,   0.,\n",
      "          0.,   0.,   0.,   0.,   0.],\n",
      "       [  0.,   0.,   0.,   0.,   0.,   0.,   0.,   0.,   0.,   0.,   0.,\n",
      "          0.,   0.,   0.,   0.,   0.],\n",
      "       [  0.,   0.,   0.,   0.,   0.,   0.,   0.,   0.,   0.,   0.,   0.,\n",
      "          0.,   0., 255.,   0.,   0.],\n",
      "       [  0.,   0.,   0.,   0.,   0.,   0.,   0.,   0.,   0.,   0.,   0.,\n",
      "          0.,   0.,   0.,   0.,   0.],\n",
      "       [  0.,   0.,   0.,   0.,   0.,   0.,   0.,   0.,   0.,   0.,   0.,\n",
      "          0.,   0.,   0.,   0.,   0.],\n",
      "       [  0.,   0.,   0.,   0.,   0.,   0.,   0.,   0.,   0.,   0.,   0.,\n",
      "          0.,   0.,   0.,   0.,   0.],\n",
      "       [  0.,   0.,   0.,   0.,   0.,   0.,   0.,   0.,   0.,   0.,   0.,\n",
      "          0.,   0.,   0.,   0.,   0.],\n",
      "       [  0.,   0.,   0.,   0.,   0.,   0.,   0.,   0.,   0.,   0.,   0.,\n",
      "          0.,   0.,   0.,   0.,   0.]]), 0, False, {})\n"
     ]
    }
   ],
   "source": [
    "env.reset();\n",
    "print(env.step(env.action_space.sample()))\n",
    "env.render();"
   ]
  },
  {
   "cell_type": "markdown",
   "metadata": {},
   "source": [
    "As you can see, the env.step() function returns a full matrice a observation.<br>\n",
    "- 0 means you have nothing on the cell\n",
    "- 255 is the food\n",
    "- 101 is the head of the snake\n",
    "- 100 is the tail of the snake<br><br>"
   ]
  },
  {
   "cell_type": "code",
   "execution_count": 10,
   "metadata": {},
   "outputs": [],
   "source": [
    "#Generally, each 4 values are extracted as follow:\n",
    "observation, reward, done, info = env.step(env.action_space.sample())"
   ]
  },
  {
   "cell_type": "markdown",
   "metadata": {},
   "source": [
    "Now that we understand how Gym works we will start working on the neural network."
   ]
  },
  {
   "cell_type": "markdown",
   "metadata": {},
   "source": [
    "# The Neural network\n",
    "## Data flow\n",
    "\n",
    "When you enter in this new chapter, you should have already the basics of our building blocs from this <a href=\"https://github.com/alexandrelefourner/neural_networks_tutorial/blob/master/1.%20Neural%20Network%20principles%20exercices.ipynb\" target=\"_blank\">previous tutorial</a>. If not, I hardly recommend you to get a look at it.<br>\n",
    "<br>\n",
    "<br>\n",
    "From what we saw with the gym environment, we need to select 1 out of 4 different numbers.\n",
    "<br>This means our neural network will have 4 output neurons : One neuron for each decision.<br>\n",
    "\n",
    "<center><img src=\"ipynb_images/neural_network_1.jpg\"></img></center><br><br>\n",
    "\n",
    "We feed the observation (each pixel) at the entrance of the neural network.<br>\n",
    "Next, the information of the observation flows among the different layer of the neural network, up to the output layer.<br>\n",
    "The neuron which lights at the end makes the decision to move the snake.<br><br>\n",
    "\n",
    "## Genetic Algorithm Principles\n",
    "\n",
    "Now that we understand how a decision wil be made to move the snake, we need to find out how to optimize this decision.<br>\n",
    "For this, we will use a particular approach called _Genetic Algorithm_ which is based on evolution.<br>\n",
    "The idea is to run an import number of simulations of similar networks. Once the simulation finished, we will check which network performed at best. Let's image 4 different networks:\n",
    "- N1 got a score of -4\n",
    "- N2 got a score of 31\n",
    "- N3 got a score of 2\n",
    "- N4 got a score of 10\n",
    "\n",
    "We will take the best neural network (N2) and slightly modify it in multiple new versions (N2'1, N2'2, N2'3,...).<br><br>\n",
    "This modification leads to a second generation of networks (N2').<br><br>\n",
    "Being different, the networks may give different scores. We run new simulations and check the results:<br>\n",
    "- N2'1 got a score of 32\n",
    "- N2'2 got a score of 20\n",
    "- N2'3 got a score of -2\n",
    "- N2'4 got a score of 35\n",
    "\n",
    "\n",
    "We take N2'4 to breed a new genertion and check again the results:<br>\n",
    "- N2'4'1 got a score of 17\n",
    "- N2'4'2 got a score of 60\n",
    "- N2'4'3 got a score of 41\n",
    "- N2'4'4 got a score of 28\n",
    "\n",
    "N2'4'3 got the best result. We use it for next generation, etc...<br><br>\n",
    "Progressively, we expect our networks to find the best structure to answer our problem.<br>\n",
    "Let's create the first building block of our networks."
   ]
  },
  {
   "cell_type": "markdown",
   "metadata": {},
   "source": [
    "## Neural Network Skeleton & Forward pass"
   ]
  },
  {
   "cell_type": "code",
   "execution_count": 11,
   "metadata": {},
   "outputs": [
    {
     "data": {
      "text/plain": [
       "Box(16, 16)"
      ]
     },
     "execution_count": 11,
     "metadata": {},
     "output_type": "execute_result"
    }
   ],
   "source": [
    "env.observation_space #We check the structure of the observation space."
   ]
  },
  {
   "cell_type": "markdown",
   "metadata": {},
   "source": [
    "The input to give is a table of 16x16, as we saw previously.<br>\n",
    "We will see in the future specific architecture which look at pixel and their surrouding, using <u>convolution</u>. For now however, we are not going to go that deep yet. Let's make it simple!<br>\n",
    "We will consider each pixel separetely and flatten our representation :<br><br>\n",
    "\n",
    "\n",
    "<center><img src=\"ipynb_images/flattening.jpg\"></img></center><br><br>"
   ]
  },
  {
   "cell_type": "code",
   "execution_count": 12,
   "metadata": {},
   "outputs": [],
   "source": [
    "import numpy as np #We will use numpy to speed up calculation."
   ]
  },
  {
   "cell_type": "markdown",
   "metadata": {},
   "source": [
    "Numpy is a python library based on C. This makes the calculations faster.<br>\n",
    "If you plan to do neural networks or compure science, you should really master the <a href=\"\" target=\"_blank\">basics of numpy</a>.<br>"
   ]
  },
  {
   "cell_type": "code",
   "execution_count": 13,
   "metadata": {},
   "outputs": [],
   "source": [
    "class NeuralNetwork():\n",
    "    def __init__(self): #Called when the model is created.\n",
    "        self._layers = [] #We create a list which will contain all our layers information\n",
    "        self._outputs = np.ones(4) #We create the output neurons of our neural network.\n",
    "\n",
    "    def forward(self, inputs):#Called when the model must make a prediction.\n",
    "        inputs = inputs.reshape(-1) #We create a 16x16 table and flatten it.\n",
    "                                     #each cell of this table will be a neuron.\n",
    "        pass\n",
    "    \n",
    "    def mutate(self):#Called when the model is selected to breed a new generation.\n",
    "        pass"
   ]
  },
  {
   "cell_type": "markdown",
   "metadata": {},
   "source": [
    "We now have the skeleton of our neural network.<br>\n",
    "To calculate the dataflow, we could simply multiply each neuron separately... but this would be very long. Numpy helps us to do it faster through matrix multiplications.<br>\n",
    "Imagine you have a neural network of 2 layers : 5 input neurons, 2 output neurons.<br><br>\n",
    "<center><img src=\"ipynb_images/neural_network_2.jpg\"></img></center><br><br>\n",
    "For each neuron of the second layer, you need to multiply each 5 neurons by their weights and sum them.\n",
    "This makes 10 different multiplication and 10 more additions.<br>\n",
    "\n",
    "No1 = Ni1\\*$W_{1}^{1}$ + Ni2\\*$W_{1}^{2}$ + Ni3\\*$W_{1}^{3}$ + Ni4\\*$W_{1}^{4}$ + Ni5\\*$W_{1}^{5}$<br>\n",
    "No2 = Ni1\\*$W_{2}^{1}$ + Ni2\\*$W_{2}^{2}$ + Ni3\\*$W_{2}^{3}$ + Ni4\\*$W_{2}^{4}$ + Ni5\\*$W_{2}^{5}$<br>\n",
    "\n",
    "Lucky for us, the multiplication can be done in parallel, which means through parallelization, we can be up to 10 times faster when computing each layer.<br>\n",
    "<br>\n",
    "We need for this to compute through matrix multiplications. The value of our input is stored in a matrice (here, a vector because we only have 1 dimension) and the weights in a second matrice.<br>\n",
    "By multiplying both, we are able to get our neurons value.<br><br>\n",
    "<center><img src=\"ipynb_images/matmul.jpg\"></img></center><br><br>"
   ]
  },
  {
   "cell_type": "code",
   "execution_count": 14,
   "metadata": {},
   "outputs": [
    {
     "data": {
      "text/plain": [
       "array([[0],\n",
       "       [1],\n",
       "       [2],\n",
       "       [3],\n",
       "       [4]])"
      ]
     },
     "execution_count": 14,
     "metadata": {},
     "output_type": "execute_result"
    }
   ],
   "source": [
    "input_layer = np.arange(5).reshape((5,1)) #We create the matrice NiX\n",
    "input_layer"
   ]
  },
  {
   "cell_type": "code",
   "execution_count": 15,
   "metadata": {},
   "outputs": [
    {
     "data": {
      "text/plain": [
       "array([[0, 1, 2, 3, 4],\n",
       "       [5, 6, 7, 8, 9]])"
      ]
     },
     "execution_count": 15,
     "metadata": {},
     "output_type": "execute_result"
    }
   ],
   "source": [
    "weights_layer = np.arange(10).reshape((2,5)) #We generate the weights\n",
    "weights_layer"
   ]
  },
  {
   "cell_type": "code",
   "execution_count": 16,
   "metadata": {},
   "outputs": [
    {
     "data": {
      "text/plain": [
       "array([[30],\n",
       "       [80]])"
      ]
     },
     "execution_count": 16,
     "metadata": {},
     "output_type": "execute_result"
    }
   ],
   "source": [
    "output_layer = np.matmul(weights_layer,input_layer) #We calculate the multiplication\n",
    "output_layer"
   ]
  },
  {
   "cell_type": "markdown",
   "metadata": {},
   "source": [
    "Our forward pass will use matrices multiplications. Therefore, we can edit our neural network to match this idea. "
   ]
  },
  {
   "cell_type": "code",
   "execution_count": 17,
   "metadata": {},
   "outputs": [],
   "source": [
    "def activate(layer): #the neuron equals 1 if the sum is superior equal to 1.\n",
    "                    #Otherwise, it's 0.\n",
    "    return np.where(layer >= 1, 1, 0)\n",
    "\n",
    "class NeuralNetwork():\n",
    "    def __init__(self):\n",
    "        self._layers = []\n",
    "        self._outputs = np.ones(4)\n",
    "\n",
    "    def forward(self, inputs):\n",
    "        inputs = inputs.reshape((-1,1)) #Please note that we reshape with (-1,1) to have it as a matrice.\n",
    "                                        #Having at least 2 dimensions is required for numpy to calculate matmul.\n",
    "        \n",
    "        for layer in self._layers: #We iterate through each layer.\n",
    "            #layer contain the weights of the layer.\n",
    "            #if we multiply them by the inputs, we get the value of the second layer\n",
    "            #(we will need to activate them, but let's get to this after!)\n",
    "            \n",
    "            inputs = np.matmul(layer,inputs) #inputs now contains the value of the layer.\n",
    "                                            #This layer will be used as input for the next layer.\n",
    "            inputs = activate(inputs) #We don't forget to active the value!\n",
    "        \n",
    "        #inputs now contains the value of the last layer.\n",
    "        #We perform the matrix multiplication based on our self.output\n",
    "        \n",
    "        #With the actual code... it would not work, because our self._outputs is not a matrice.\n",
    "        #but we will fix it in the next cells.\n",
    "        \n",
    "        output_layer = np.matmul(self._outputs, inputs) \n",
    "        \n",
    "        return activate(output_layer)\n",
    "    \n",
    "    def mutate(self):\n",
    "        pass"
   ]
  },
  {
   "cell_type": "markdown",
   "metadata": {},
   "source": [
    "The code is getting closer and closer to what we want... however, we have a multiple problems yet:\n",
    "- The code does not contain any layer and thus, it cannot work (but we will work on that later!)\n",
    "- Since the network only fires 0 and 1... what to do if 2 neurons of the output layer fire ?\n",
    "\n",
    "If the network says \"go up\" and \"go down\" at the same time, we could randomly take one... But this points another problem we did not touch yet : Continuous and discrete space.<br><br>\n",
    "Up to now, we built the blocks by getting inspired with the biological system. The rule of the \"all or none\" : A neuron fires an electric impulse, or it does not.<br>\n",
    "<br>\n",
    "If we want to make a decision however, we are not always \"100% sure\" of something. We base our decisions on a part of uncertainety:<br>\n",
    "- \"I am not totally sure I can jump to this high\"\n",
    "- \"I may be able to gain a few minute if I drive through this road\"\n",
    "\n",
    "All of this mean means \"part of me think it might be possible, but another don't...\". To base my decision, I inconsciently measure what part think it might succeed and what part think it might fail. Sometimes, we are even unable to make a choice : we know we don't have enough information to make a rational decision.<br>\n",
    "This is this idea of uncertainety that we will develop in the next part."
   ]
  },
  {
   "cell_type": "markdown",
   "metadata": {},
   "source": [
    "## Continuous Activation function\n",
    "\n",
    "Remember when we discussed about the threshold ?... Well, here comes our problem. if we plot our current activation functon, we will get something like this :"
   ]
  },
  {
   "cell_type": "code",
   "execution_count": 18,
   "metadata": {},
   "outputs": [],
   "source": [
    "import matplotlib.pyplot as plt\n",
    "\n",
    "space = np.arange(-3, 3, 0.02)\n",
    "activated = np.where(space >=1, 1, 0)\n",
    "plt.plot(space,space, color = \"blue\");\n",
    "plt.plot(space,activated, color = \"orange\");\n",
    "plt.title(\"Neuron value in blue, once activate in orange (all or none)\")\n",
    "plt.axvline(0, color=\"red\", alpha = 0.2);\n",
    "plt.axhline(0, color=\"red\", alpha = 0.2);"
   ]
  },
  {
   "cell_type": "code",
   "execution_count": 19,
   "metadata": {
    "scrolled": true
   },
   "outputs": [
    {
     "data": {
      "image/png": "[encoded data removed]",
      "text/plain": [
       "<Figure size 432x288 with 1 Axes>"
      ]
     },
     "metadata": {
      "needs_background": "light"
     },
     "output_type": "display_data"
    }
   ],
   "source": [
    "activated = np.where(space >=1, 1, np.where(space <0, 0, space))\n",
    "plt.plot(space,space, color = \"blue\");\n",
    "plt.plot(space,activated, color = \"orange\");\n",
    "plt.title(\"Continuous activation between 0 and 1\")\n",
    "plt.axvline(0, color=\"red\", alpha = 0.2);\n",
    "plt.axhline(0, color=\"red\", alpha = 0.2);"
   ]
  },
  {
   "cell_type": "markdown",
   "metadata": {},
   "source": [
    "This activation function is better than the previous, because we now have a continuous activation.<br>\n",
    "They are a vast number of activation, that you can find below. We will detail them more and see why they are so important in the next chapters."
   ]
  },
  {
   "cell_type": "code",
   "execution_count": 20,
   "metadata": {
    "scrolled": true
   },
   "outputs": [
    {
     "data": {
      "image/png": "[encoded data removed]",
      "text/plain": [
       "<Figure size 432x288 with 1 Axes>"
      ]
     },
     "metadata": {
      "needs_background": "light"
     },
     "output_type": "display_data"
    },
    {
     "data": {
      "image/png": "[encoded data removed]",
      "text/plain": [
       "<Figure size 432x288 with 1 Axes>"
      ]
     },
     "metadata": {
      "needs_background": "light"
     },
     "output_type": "display_data"
    },
    {
     "data": {
      "image/png": "[encoded data removed]",
      "text/plain": [
       "<Figure size 432x288 with 1 Axes>"
      ]
     },
     "metadata": {
      "needs_background": "light"
     },
     "output_type": "display_data"
    },
    {
     "data": {
      "image/png": "[encoded data removed]",
      "text/plain": [
       "<Figure size 432x288 with 1 Axes>"
      ]
     },
     "metadata": {
      "needs_background": "light"
     },
     "output_type": "display_data"
    }
   ],
   "source": [
    "from lexml import lexmlcourses\n",
    "lexmlcourses.display_activations_functions();"
   ]
  },
  {
   "cell_type": "markdown",
   "metadata": {},
   "source": [
    "Our activation function tried to contrain the flow between 0 and 1. However, it does not give possibility to have values in between.<br>\n",
    "Instead, we may use something which takes all values between 0 and 1, but reduce all values more than 1 to 1 and everything negative to 0.<br>\n",
    "During this project, we will use sigmoid at the end of each layer. The idea behind is to keep some information from each gate, even if it is not that much.<br>\n",
    "<br>\n",
    "But what about our final layer ?... Even if the probability to get the same value for 2 neurons is inferior with sigmoid than it was with the All-or-None gate; we may prefere specific activation function, like <a href=\"https://en.wikipedia.org/wiki/Softmax_function\">Softmax</a>.<br><br>\n",
    "\n",
    "<center><img src=\"ipynb_images/softmaxfunction.jpg\"></img></center><br><br>\n",
    "\n",
    "If you did not do too much calculus in school Softmax may seem a bit complicated at first, but don't worry, it is not.<br>\n",
    "If you have to remember one thing : If I activate all neurons of a layer with softmax, the sum of their activation will be 1.<br>\n",
    "In genetic algorithm, we may not find a huge difference in performance compared to sigmoid.<br>\n",
    "In the next chapter however, you will see more its efficiency.<br>"
   ]
  },
  {
   "cell_type": "code",
   "execution_count": 21,
   "metadata": {},
   "outputs": [],
   "source": [
    "def sigmoid_activate(layer): #Sigmoid function\n",
    "    return 1/(1+np.exp(-layer))\n",
    "\n",
    "\n",
    "def softmax_activate(layer): #Softmax function\n",
    "    m = np.exp(layer)\n",
    "    return m/m.sum(len(layer.shape)-1)"
   ]
  },
  {
   "cell_type": "code",
   "execution_count": 22,
   "metadata": {},
   "outputs": [],
   "source": [
    "class NeuralNetwork():\n",
    "    def __init__(self):\n",
    "        self._layers = []\n",
    "        self._outputs = np.ones(4)\n",
    "\n",
    "    def forward(self, inputs):\n",
    "        inputs = inputs.reshape((-1,1))\n",
    "        \n",
    "        for layer in self._layers:\n",
    "            inputs = np.matmul(layer,inputs)\n",
    "            inputs = sigmoid_activate(inputs) #Updated to sigmoid\n",
    "        \n",
    "        output_layer = np.matmul(self._outputs, inputs)\n",
    "            #Does not take into account the different size of the matrix.\n",
    "            #We will fix it soon!\n",
    "        \n",
    "        return softmax_activate(output_layer)#Updated to softmax\n",
    "        \n",
    "\n",
    "    def mutate(self):\n",
    "        pass"
   ]
  },
  {
   "cell_type": "markdown",
   "metadata": {},
   "source": [
    "## Finishing the forward pass\n",
    "Up to now, we created a skeleton which can forward the data through different layers.<br>\n",
    "We will now prepare the intialization of our neural networks.<br>\n",
    "For this, we will initialize a certain number of layers with a certain size, but also adding the biases.<br>"
   ]
  },
  {
   "cell_type": "code",
   "execution_count": 25,
   "metadata": {},
   "outputs": [],
   "source": [
    "nb_layers = 3 #We set up 3 hidden layers.\n",
    "neurons = 25 #Neurons per layers"
   ]
  },
  {
   "cell_type": "code",
   "execution_count": 31,
   "metadata": {},
   "outputs": [],
   "source": [
    "class NeuralNetwork():\n",
    "    def __init__(self, observation_size): #We specify the observation\n",
    "        self._layers = []\n",
    "        self._biases = [] #we implement the biases\n",
    "        \n",
    "        for i in range(nb_layers):\n",
    "            entry_size = neurons if i != 0 else observation_size #First layer must match the input layer.\n",
    "                                                                #Remember : The input layer is all the map, flattened.\n",
    "            \n",
    "            #our weights values will be from -1 to 1.\n",
    "            self._layers.append(np.random.rand(neurons,entry_size)*2-1) #we initialize random values\n",
    "            self._biases.append(np.random.rand(neurons, 1)*2-1) #we initialize random values.\n",
    "        \n",
    "\n",
    "        self._outputs = np.random.rand(4,neurons)*2-1 #Output layer must contain a total of 4 cells.\n",
    "        #We don't add it into self._layers because we want to activate it with a softmax.\n",
    "\n",
    "\n",
    "    def forward(self, inputs):\n",
    "        inputs = inputs.reshape((-1,1))\n",
    "        \n",
    "\n",
    "        for layer, bias in zip(self._layers, self._biases): #we zip the biases to the layer\n",
    "            inputs = np.matmul(layer,inputs)\n",
    "            inputs = inputs+bias\n",
    "            inputs = sigmoid_activate(inputs)\n",
    "            \n",
    "        inputs = np.matmul(self._outputs, inputs) #(4,1)\n",
    "        inputs = inputs.reshape(-1) #Just a vector of 4 elements.\n",
    "        \n",
    "        \n",
    "        return softmax_activate(inputs)#Updated to softmax\n",
    "\n",
    "    def mutate(self):\n",
    "        pass"
   ]
  },
  {
   "cell_type": "code",
   "execution_count": 32,
   "metadata": {},
   "outputs": [
    {
     "name": "stdout",
     "output_type": "stream",
     "text": [
      "list of decision: [0.00714822 0.05383172 0.05771648 0.88130358]\n",
      "Decision taken: 3\n"
     ]
    }
   ],
   "source": [
    "#Let's test our forward pass\n",
    "obs_size = env.observation_space.shape[0] * env.observation_space.shape[1]\n",
    "Sample = NeuralNetwork(obs_size) #Creating a new agen.\n",
    "\n",
    "#random observation\n",
    "obs = np.random.rand(obs_size)\n",
    "\n",
    "choice = Sample.forward(obs)\n",
    "print(\"list of decision:\",choice)\n",
    "print(\"Decision taken:\",choice.argmax())"
   ]
  },
  {
   "cell_type": "markdown",
   "metadata": {},
   "source": [
    "We successly implemented the forward pass!\n",
    "Our agent is now able to take a decision based on the input we provide."
   ]
  },
  {
   "cell_type": "markdown",
   "metadata": {},
   "source": [
    "## First simulation\n",
    "\n",
    "Now that our agent can take a decision, we will generate an environment for it to run."
   ]
  },
  {
   "cell_type": "code",
   "execution_count": 33,
   "metadata": {},
   "outputs": [],
   "source": [
    "import time #used to wait between each frame.\n",
    "\n",
    "observation = env.reset()#We get the first element of the game.\n",
    "env.render() #We render it.\n",
    "\n",
    "done = False #While not True, the simulation runs.\n",
    "\n",
    "while(not done):\n",
    "    observation, reward, done, info = env.step(Sample.forward(observation).argmax()) #We exectue an action.\n",
    "    env.render() #We tell gym we want to render.\n",
    "    time.sleep(0.1) #Used for rendering."
   ]
  },
  {
   "cell_type": "markdown",
   "metadata": {},
   "source": [
    "Well... The snake moves but rush toward the cliff. Our Artificial Intelligence does not show too much intelligence... and it's normal. Its behavior is totally made through randomness.<br>\n",
    "\n"
   ]
  },
  {
   "cell_type": "markdown",
   "metadata": {},
   "source": [
    "# Genetic Algorithm\n",
    "\n",
    "## Creating candidates\n",
    "Now that we now how to run the algorithm, we can create a group of snake candidates and launch them into a feeding race. However, we want to track the evolution of the rewards, so we add it to the Snake object"
   ]
  },
  {
   "cell_type": "code",
   "execution_count": 34,
   "metadata": {},
   "outputs": [],
   "source": [
    "class NeuralNetwork():\n",
    "    def __init__(self, observation_size):\n",
    "        self._rewards = 0 #Number of registered rewards.\n",
    "        self._layers = []\n",
    "        self._biases = []\n",
    "        \n",
    "        for i in range(nb_layers):\n",
    "            entry_size = neurons if i != 0 else observation_size\n",
    "            self._layers.append(np.random.rand(neurons,entry_size)*2-1)\n",
    "            self._biases.append(np.random.rand(neurons,1)*2-1)\n",
    "        \n",
    "\n",
    "        self._outputs = np.random.rand(4,neurons)*2-1\n",
    "\n",
    "\n",
    "    def forward(self, inputs):\n",
    "        inputs = inputs.reshape((-1,1))\n",
    "        \n",
    "\n",
    "        for layer, bias in zip(self._layers, self._biases):\n",
    "            inputs = np.matmul(layer,inputs)\n",
    "            inputs = inputs+bias\n",
    "            inputs = sigmoid_activate(inputs)\n",
    "            \n",
    "        inputs = np.matmul(self._outputs, inputs)\n",
    "        inputs = inputs.reshape(-1)\n",
    "        \n",
    "        \n",
    "        return softmax_activate(inputs)\n",
    "\n",
    "    def mutate(self): #TODO\n",
    "        pass\n",
    "    \n",
    "    def set_reward(self, r): #We register the reward it got.\n",
    "        self._reward = r"
   ]
  },
  {
   "cell_type": "code",
   "execution_count": 35,
   "metadata": {},
   "outputs": [],
   "source": [
    "number_of_snakes = 200 #Your number of snakes (I'm sure you saw it comming. See, you understand by yourself ;)"
   ]
  },
  {
   "cell_type": "code",
   "execution_count": 36,
   "metadata": {},
   "outputs": [],
   "source": [
    "farm = []\n",
    "for _ in range(number_of_snakes):\n",
    "    S = NeuralNetwork(obs_size)\n",
    "    farm.append(S)"
   ]
  },
  {
   "cell_type": "markdown",
   "metadata": {},
   "source": [
    "Our farm is ready, we can now run a bunch of simulations with them.<br>\n",
    "As you may have seen however, everytime we restart the environment, we get different initial conditions... which may be a bias for the rest of the test (we want to select the best... but is it because you got once an A* in your life that you're a genius?... not really).<br>\n",
    "We will thus judge the results with a certain number of simulations."
   ]
  },
  {
   "cell_type": "code",
   "execution_count": 37,
   "metadata": {},
   "outputs": [],
   "source": [
    "def run_simulation(snake, nb_of_simulations=10):\n",
    "    \n",
    "    total_reward = 0 #Used to track the performance of the Snake.\n",
    "    \n",
    "    for _ in range(nb_of_simulations):\n",
    "        \n",
    "        observation = env.reset()\n",
    "        done = False\n",
    "        \n",
    "        while(not done):\n",
    "            observation, reward, done, info = env.step(snake.forward(observation).argmax()) #We exectue an action.\n",
    "            #env.render() #We DO NOT CALL RENDER HERE, we now need speed!\n",
    "            total_reward += reward\n",
    "    \n",
    "    snake.set_reward(total_reward)\n",
    "    \n",
    "    return total_reward"
   ]
  },
  {
   "cell_type": "code",
   "execution_count": 38,
   "metadata": {},
   "outputs": [],
   "source": [
    "from tqdm import tqdm_notebook as tqdm #Used to follow the progression."
   ]
  },
  {
   "cell_type": "code",
   "execution_count": 39,
   "metadata": {
    "scrolled": true
   },
   "outputs": [
    {
     "data": {
      "application/vnd.jupyter.widget-view+json": {
       "model_id": "fa68a3a4f5af4ff28ac1e82a533044b7",
       "version_major": 2,
       "version_minor": 0
      },
      "text/plain": [
       "HBox(children=(IntProgress(value=0, max=200), HTML(value='')))"
      ]
     },
     "metadata": {},
     "output_type": "display_data"
    },
    {
     "name": "stdout",
     "output_type": "stream",
     "text": [
      "\n"
     ]
    }
   ],
   "source": [
    "rewards = []\n",
    "for S in tqdm(farm):\n",
    "    rewards.append(run_simulation(S))"
   ]
  },
  {
   "cell_type": "markdown",
   "metadata": {},
   "source": [
    "We can now plot the results we got."
   ]
  },
  {
   "cell_type": "code",
   "execution_count": 40,
   "metadata": {},
   "outputs": [
    {
     "data": {
      "image/png": "[encoded data removed]",
      "text/plain": [
       "<Figure size 432x288 with 1 Axes>"
      ]
     },
     "metadata": {
      "needs_background": "light"
     },
     "output_type": "display_data"
    }
   ],
   "source": [
    "plt.hist(rewards, bins=200);"
   ]
  },
  {
   "cell_type": "markdown",
   "metadata": {},
   "source": [
    "You should normally see some snakes who could get some fruits. It might be because your neural network works already (but I'm very doubtful about that), or just because they were some fruits in their path to rush to the cliff.<br>\n",
    "Still, those are the candidates we will breed for the next generation."
   ]
  },
  {
   "cell_type": "code",
   "execution_count": 41,
   "metadata": {},
   "outputs": [],
   "source": [
    "percentage_saved = 0.1 #percentage of snakes which will be removed because they performance are too low\n",
    "chances_of_mutation = 1e-2 #Chance that a neuron mutates when a breeding occurs."
   ]
  },
  {
   "cell_type": "code",
   "execution_count": 42,
   "metadata": {},
   "outputs": [],
   "source": [
    "farm.sort(key=lambda snake: snake._reward, reverse=True) #We order our list based on reward."
   ]
  },
  {
   "cell_type": "code",
   "execution_count": 43,
   "metadata": {
    "scrolled": true
   },
   "outputs": [
    {
     "name": "stdout",
     "output_type": "stream",
     "text": [
      "Worst score was -10; best score was-4\n"
     ]
    }
   ],
   "source": [
    "print(\"Worst score was \"+str(farm[-1]._reward)+\"; best score was\"+str(farm[0]._reward))"
   ]
  },
  {
   "cell_type": "markdown",
   "metadata": {},
   "source": [
    "We now define the mutation which will be able to create new snake based on the best"
   ]
  },
  {
   "cell_type": "code",
   "execution_count": 44,
   "metadata": {},
   "outputs": [],
   "source": [
    "class NeuralNetwork():\n",
    "    def __init__(self, observation_size, isACopy=False): #We add the isACopy to track the copy of layers.\n",
    "        self._rewards = 0\n",
    "        self._layers = []\n",
    "        self._biases = []\n",
    "        \n",
    "        if(not isACopy):\n",
    "            for i in range(nb_layers):\n",
    "                entry_size = neurons if i != 0 else observation_size\n",
    "                self._layers.append(np.random.rand(neurons,entry_size)*2-1)\n",
    "                self._biases.append(np.random.rand(neurons,1)*2-1)\n",
    "\n",
    "\n",
    "            self._outputs = np.random.rand(4,neurons)*2-1\n",
    "\n",
    "\n",
    "    def forward(self, inputs):\n",
    "        inputs = inputs.reshape((-1,1))\n",
    "        \n",
    "\n",
    "        for layer, bias in zip(self._layers, self._biases):\n",
    "            inputs = np.matmul(layer,inputs)\n",
    "            inputs = inputs+bias\n",
    "            inputs = sigmoid_activate(inputs)\n",
    "            \n",
    "        inputs = np.matmul(self._outputs, inputs)\n",
    "        inputs = inputs.reshape(-1)\n",
    "        \n",
    "        \n",
    "        return softmax_activate(inputs)\n",
    "\n",
    "    def mutate(self):\n",
    "        new_snake = NeuralNetwork(self._layers[0].shape[1],isACopy=True) #Create a new object.\n",
    "        \n",
    "        for l in self._layers: #We copy the layers.. but we consider a possible mutation.\n",
    "            random_mutation_probs = np.random.rand(l.shape[0], l.shape[1])\n",
    "            #We create a mask that we will add to the layer.\n",
    "            random_mutation_probs = np.where(random_mutation_probs < chances_of_mutation,\n",
    "                                             (np.random.rand()-0.5)/2, 0)\n",
    "            new_l = l + random_mutation_probs #we add he possible mutations\n",
    "            new_snake._layers.append(new_l) #we affect the layer to the new snake.\n",
    "            \n",
    "            \n",
    "        for b in self._biases: #Same for biases\n",
    "            random_mutation_probs = np.random.rand(b.shape[0], 1)\n",
    "            random_mutation_probs = np.where(random_mutation_probs < chances_of_mutation,\n",
    "                                             (np.random.rand()-0.5)/2, 0)\n",
    "            new_l = b + random_mutation_probs\n",
    "            new_snake._biases.append(new_l)\n",
    "    \n",
    "    \n",
    "        random_mutation_probs = np.random.rand(self._outputs.shape[0],self._outputs.shape[1])\n",
    "        random_mutation_probs = np.where(random_mutation_probs < chances_of_mutation,\n",
    "                                         (np.random.rand()-0.5)/2, 0)\n",
    "        \n",
    "        new_l = self._outputs + random_mutation_probs\n",
    "        new_snake._outputs = new_l #Same for the output.\n",
    "        return new_snake\n",
    "\n",
    "    def set_reward(self, r):\n",
    "        self._reward = r"
   ]
  },
  {
   "cell_type": "code",
   "execution_count": 45,
   "metadata": {},
   "outputs": [
    {
     "data": {
      "application/vnd.jupyter.widget-view+json": {
       "model_id": "12f018c65f9b431388cf3b57f9c2094c",
       "version_major": 2,
       "version_minor": 0
      },
      "text/plain": [
       "HBox(children=(IntProgress(value=0, max=200), HTML(value='')))"
      ]
     },
     "metadata": {},
     "output_type": "display_data"
    },
    {
     "name": "stdout",
     "output_type": "stream",
     "text": [
      "\n"
     ]
    },
    {
     "data": {
      "image/png": "[encoded data removed]",
      "text/plain": [
       "<Figure size 432x288 with 1 Axes>"
      ]
     },
     "metadata": {
      "needs_background": "light"
     },
     "output_type": "display_data"
    },
    {
     "name": "stdout",
     "output_type": "stream",
     "text": [
      "Best reward this time :-4\n"
     ]
    },
    {
     "data": {
      "text/plain": [
       "-4"
      ]
     },
     "execution_count": 45,
     "metadata": {},
     "output_type": "execute_result"
    }
   ],
   "source": [
    "def restart_simulation(): #Useful when we change the code of the Neural Network... as actual snake won't be updated.\n",
    "    global farm\n",
    "    \n",
    "    for s in farm:\n",
    "        del(s) #Memory cleaning.\n",
    "        \n",
    "    farm = []\n",
    "    for _ in range(number_of_snakes):\n",
    "        S = NeuralNetwork(obs_size)\n",
    "        farm.append(S)\n",
    "\n",
    "def run_global_simulation(display_tqdm = True, display_graph = True, track_best = True): #We create a function which gives a run.\n",
    "    global farm\n",
    "    \n",
    "    rewards = []\n",
    "    \n",
    "    if(display_tqdm):\n",
    "        for S in tqdm(farm):\n",
    "            rewards.append(run_simulation(S))\n",
    "    else:\n",
    "        for S in farm:\n",
    "            rewards.append(run_simulation(S))\n",
    "    \n",
    "    if(display_graph):\n",
    "        plt.hist(rewards, bins=200);\n",
    "        plt.show();\n",
    "    \n",
    "    farm.sort(key=lambda snake: snake._reward, reverse=True) #We order our list based on reward.\n",
    "    \n",
    "    if(track_best):\n",
    "        print(\"Best reward this time :\"+str(farm[0]._reward))\n",
    "        \n",
    "    return farm[0]._reward #Used for ploting.\n",
    "        \n",
    "restart_simulation()\n",
    "run_global_simulation()\n"
   ]
  },
  {
   "cell_type": "code",
   "execution_count": 46,
   "metadata": {
    "scrolled": false
   },
   "outputs": [],
   "source": [
    "def darwin_cleaner():#Will clean the farm from the bad species.\n",
    "    global farm #We will edit the variable from the function.\n",
    "    \n",
    "    qte_to_keep = int(percentage_saved * len(farm))\n",
    "    new_farm = farm[:qte_to_keep] #The snakes we'll keep.\n",
    "    \n",
    "    new_species = []\n",
    "    for i in range(len(farm) - qte_to_keep):\n",
    "        father_snake = new_farm[i%qte_to_keep]\n",
    "        new_snake = father_snake.mutate()\n",
    "        new_species.append(new_snake)\n",
    "        \n",
    "    farm = new_farm + new_species"
   ]
  },
  {
   "cell_type": "code",
   "execution_count": 47,
   "metadata": {},
   "outputs": [],
   "source": [
    "darwin_cleaner()"
   ]
  },
  {
   "cell_type": "markdown",
   "metadata": {},
   "source": [
    "Let's try to some breeding... how about 15 generations to start ? (It's normal if it does not work!)"
   ]
  },
  {
   "cell_type": "code",
   "execution_count": 48,
   "metadata": {},
   "outputs": [
    {
     "data": {
      "application/vnd.jupyter.widget-view+json": {
       "model_id": "e83d221b2c3641dfb71613d333e44efd",
       "version_major": 2,
       "version_minor": 0
      },
      "text/plain": [
       "HBox(children=(IntProgress(value=0, max=15), HTML(value='')))"
      ]
     },
     "metadata": {},
     "output_type": "display_data"
    },
    {
     "name": "stdout",
     "output_type": "stream",
     "text": [
      "\n"
     ]
    },
    {
     "data": {
      "image/png": "[encoded data removed]",
      "text/plain": [
       "<Figure size 432x288 with 1 Axes>"
      ]
     },
     "metadata": {
      "needs_background": "light"
     },
     "output_type": "display_data"
    }
   ],
   "source": [
    "rewards = []\n",
    "for _ in tqdm(range(15)):\n",
    "    rewards.append(run_global_simulation(False, False, False))\n",
    "    darwin_cleaner()\n",
    "plt.plot(rewards);"
   ]
  },
  {
   "cell_type": "markdown",
   "metadata": {},
   "source": [
    "Unless you are lucky, your results will be disappointing, like if your algorithm is not learning anything.<br>\n",
    "Given the context, they are multiple elements which make it hard to learn :\n",
    "- Lack of clear information in the dimensions\n",
    "- Absence of normalization\n",
    "- Too many dimensions\n",
    "- Bad reward shaping\n",
    "- Not enough epochs"
   ]
  },
  {
   "cell_type": "markdown",
   "metadata": {},
   "source": [
    "## Dimensionality reduction\n",
    "\n",
    "If you begin in the field, let met warn you : Dimensionality reduction is a term you will often hear in Machine Learning. It is not a very complex idea to understand, and it represents a large domain of research.<br><br>\n",
    "<br>\n",
    "This is pretty simple : Is it easier for you to dedicate your attention on 3 different screens or thousands ?<br>\n",
    "Answer is simple : the less you have to focus on, the better you are.<br>\n",
    "In Machine Learning, it is the same. All non essential data are considered as *noise*. So you try to reduce the noise as much as you can, so your network is able to be more efficient.<br>\n",
    "Here, the main noise you have comes from the signification of observation neurons:\n",
    "\n",
    "- Sometimes, the input neuron indicates the tail of the snake\n",
    "- Sometimes, the input neuron indicates the fruit.\n",
    "- Sometimes, the input neuron indicates the head of the snake.\n",
    "- Somtimes, the input neurons indicates there is nothing on the cell.\n",
    "\n",
    "Each case is a dimensions, so we have here 4 dimensions.<br>\n",
    "Allowing the snake to understand where it is might thus be very hard.<br>\n",
    "Imagine the following scenario :\n",
    "\n",
    "<center><img src=\"ipynb_images/snake_next_to.jpg\"></img></center><br><br>\n",
    "\n",
    "Here, the Snake may have learnt that going up will give him the opportunity to earn a reward. However, this behavior is mapped to a specific neuron. Does the next image looks familiar ?\n",
    "\n",
    "<center><img src=\"ipynb_images/snake_next_to_bot.jpg\"></img></center><br><br>\n",
    "\n",
    "It is for us, because we think \"it only has to go on the top, like the previous one.\". However, this is a totally different neuron which gives the same information : \"a food is just up to you\". We see here how we could reduce the dimensions : Keeping it at the same place (let's say the center of the view).\n",
    "This way, the head is always in the center of the screen. The consequences are even greater :<br><br>\n",
    "\n",
    "<center><img src=\"ipynb_images/snake_next_to_diag.jpg\"></img></center><br><br>\n",
    "\n",
    "If the fruit is 1 cell in diagonal next to him... it will always be the same pattern to do, no matter where it is on the map.<br>\n",
    "Let's map him in the center of the map."
   ]
  },
  {
   "cell_type": "code",
   "execution_count": 49,
   "metadata": {},
   "outputs": [
    {
     "data": {
      "text/plain": [
       "array([101., 100., 100., 255.])"
      ]
     },
     "execution_count": 49,
     "metadata": {},
     "output_type": "execute_result"
    }
   ],
   "source": [
    "observation[observation != 0]"
   ]
  },
  {
   "cell_type": "markdown",
   "metadata": {},
   "source": [
    "In the above example, we see different parameters :\n",
    "- 101 : The head\n",
    "- 100 : The tail\n",
    "- 255 : the fruit.\n",
    "\n",
    "It is possible for us to localize the head thanks to the <a href=\"https://docs.scipy.org/doc/numpy/reference/generated/numpy.argwhere.html\">np.argwhere()</a> function."
   ]
  },
  {
   "cell_type": "code",
   "execution_count": 50,
   "metadata": {},
   "outputs": [
    {
     "data": {
      "text/plain": [
       "array([[9, 0]], dtype=int64)"
      ]
     },
     "execution_count": 50,
     "metadata": {},
     "output_type": "execute_result"
    }
   ],
   "source": [
    "np.argwhere(observation == 101)"
   ]
  },
  {
   "cell_type": "markdown",
   "metadata": {},
   "source": [
    "we can next use the np.roll() to set our head in the center."
   ]
  },
  {
   "cell_type": "code",
   "execution_count": 51,
   "metadata": {},
   "outputs": [
    {
     "data": {
      "text/plain": [
       "array([[0., 0., 0., 0., 0., 0., 0., 0., 0., 0., 0.],\n",
       "       [0., 0., 0., 0., 0., 0., 0., 0., 0., 0., 0.],\n",
       "       [0., 0., 0., 0., 0., 0., 0., 0., 0., 0., 0.],\n",
       "       [0., 0., 0., 0., 0., 0., 0., 0., 0., 0., 0.],\n",
       "       [0., 0., 0., 0., 0., 0., 0., 0., 0., 0., 0.],\n",
       "       [0., 0., 0., 0., 0., 0., 0., 0., 0., 0., 0.],\n",
       "       [0., 0., 0., 0., 0., 0., 0., 0., 0., 0., 0.],\n",
       "       [0., 0., 0., 1., 0., 0., 0., 0., 0., 0., 0.],\n",
       "       [0., 0., 0., 0., 0., 0., 0., 0., 0., 0., 0.],\n",
       "       [0., 0., 0., 0., 0., 0., 0., 0., 0., 0., 0.],\n",
       "       [0., 0., 0., 0., 0., 0., 0., 0., 0., 0., 0.]])"
      ]
     },
     "execution_count": 51,
     "metadata": {},
     "output_type": "execute_result"
    }
   ],
   "source": [
    "sample_env = np.zeros((11,11))\n",
    "sample_env[7][3]=1\n",
    "sample_env"
   ]
  },
  {
   "cell_type": "code",
   "execution_count": 52,
   "metadata": {},
   "outputs": [
    {
     "data": {
      "text/plain": [
       "array([[0., 0., 0., 0., 0., 0., 0., 0., 0., 0., 0.],\n",
       "       [0., 0., 0., 0., 0., 0., 0., 0., 0., 0., 0.],\n",
       "       [0., 0., 0., 0., 0., 0., 0., 0., 0., 0., 0.],\n",
       "       [0., 0., 0., 0., 0., 0., 0., 0., 0., 0., 0.],\n",
       "       [0., 0., 0., 0., 0., 0., 0., 0., 0., 0., 0.],\n",
       "       [0., 0., 0., 0., 0., 1., 0., 0., 0., 0., 0.],\n",
       "       [0., 0., 0., 0., 0., 0., 0., 0., 0., 0., 0.],\n",
       "       [0., 0., 0., 0., 0., 0., 0., 0., 0., 0., 0.],\n",
       "       [0., 0., 0., 0., 0., 0., 0., 0., 0., 0., 0.],\n",
       "       [0., 0., 0., 0., 0., 0., 0., 0., 0., 0., 0.],\n",
       "       [0., 0., 0., 0., 0., 0., 0., 0., 0., 0., 0.]])"
      ]
     },
     "execution_count": 52,
     "metadata": {},
     "output_type": "execute_result"
    }
   ],
   "source": [
    "localization = np.argwhere(sample_env == 1).reshape(-1)\n",
    "sample_env = np.roll(sample_env,int(sample_env.shape[0]/2)-localization[0], axis = 0)\n",
    "sample_env = np.roll(sample_env,int(sample_env.shape[1]/2)-localization[1], axis = 1)\n",
    "sample_env"
   ]
  },
  {
   "cell_type": "code",
   "execution_count": 53,
   "metadata": {},
   "outputs": [
    {
     "data": {
      "text/plain": [
       "array([[  0.,   0.,   0.,   0.,   0.],\n",
       "       [  0.,   0.,   0.,   0.,   0.],\n",
       "       [  0.,   0., 101., 100., 100.],\n",
       "       [  0.,   0.,   0.,   0.,   0.],\n",
       "       [  0.,   0.,   0.,   0.,   0.]])"
      ]
     },
     "execution_count": 53,
     "metadata": {},
     "output_type": "execute_result"
    }
   ],
   "source": [
    "def update_observations(observation):\n",
    "\n",
    "    localization = np.argwhere(observation == 101).reshape(-1) #We localize the head\n",
    "    \n",
    "    observation = np.roll(observation,int(observation.shape[0]/2)-localization[0], axis = 0)#Then shift the game.\n",
    "    return np.roll(observation,int(observation.shape[1]/2)-localization[1], axis = 1)\n",
    "\n",
    "observations = update_observations(observation)\n",
    "observations[6:11,6:11]"
   ]
  },
  {
   "cell_type": "markdown",
   "metadata": {},
   "source": [
    "Head in center, we can see the tail with the 100... However, we added a problem when we solved the other : What about the cliff ?<br>\n",
    "We don't have anymore boundaries informing about the limit of the map!<br>\n",
    "Let's consider the following case :<br><br>\n",
    "\n",
    "<center><img src=\"ipynb_images/snake_opposit.jpg\"></img></center><br><br>\n",
    "\n",
    "With our current algorithm, this is shown as the following :"
   ]
  },
  {
   "cell_type": "code",
   "execution_count": 54,
   "metadata": {},
   "outputs": [
    {
     "data": {
      "text/plain": [
       "array([[  0.,   0.,   0.,   0.,   0.],\n",
       "       [  0.,   0.,   0.,   0.,   0.],\n",
       "       [100., 100., 101., 255.,   0.],\n",
       "       [  0.,   0.,   0.,   0.,   0.],\n",
       "       [  0.,   0.,   0.,   0.,   0.]])"
      ]
     },
     "execution_count": 54,
     "metadata": {},
     "output_type": "execute_result"
    }
   ],
   "source": [
    "example_observation = np.zeros(observations.shape)\n",
    "example_observation[4, example_observation.shape[1]-1] = 101\n",
    "example_observation[4, example_observation.shape[1]-2] = 100\n",
    "example_observation[4, example_observation.shape[1]-3] = 100\n",
    "example_observation[4, 0] = 255\n",
    "example_observation = update_observations(example_observation)#We apply or centering.\n",
    "example_observation[6:11,6:11] #We zoom"
   ]
  },
  {
   "cell_type": "markdown",
   "metadata": {},
   "source": [
    "The logical deduction for our algorithm would be \"If I go right, I get a reward\"... when it facts, not really. Instead, it looses the game. We need to \"inform\" the snake that it must go on the right.\n",
    "To do it... we will create boundaries around the map. A wall.<br><br>\n",
    "<center><img src=\"ipynb_images/snake_wall.jpg\"></img></center><br><br>\n",
    "Why did I choose this horrible green color you may ask ?... Well, it's because we can represent the risk of a wall like the tail. Touching the tail or the cliff with the head leads to the same effect : loosing the game.<br>\n",
    "By coding 101 both cliff and tail, we avoid to create a new dimension which would differentiate the tail from the cliff."
   ]
  },
  {
   "cell_type": "code",
   "execution_count": 55,
   "metadata": {},
   "outputs": [
    {
     "data": {
      "text/plain": [
       "array([[  0.,   0.,   0.,   0., 100., 100.,   0.],\n",
       "       [  0.,   0.,   0.,   0., 100., 100.,   0.],\n",
       "       [  0.,   0.,   0.,   0., 100., 100.,   0.],\n",
       "       [  0., 100., 100., 101., 100., 100., 255.],\n",
       "       [  0.,   0.,   0.,   0., 100., 100.,   0.],\n",
       "       [  0.,   0.,   0.,   0., 100., 100.,   0.],\n",
       "       [  0.,   0.,   0.,   0., 100., 100.,   0.]])"
      ]
     },
     "execution_count": 55,
     "metadata": {},
     "output_type": "execute_result"
    }
   ],
   "source": [
    "def update_observations(observation):\n",
    "    \n",
    "    cliffs = np.ones((observation.shape[0]+2,observation.shape[1]+2))#We clone the shape of the observation\n",
    "    cliffs *= 100 #We set up all values to 100 (tails = cliff)\n",
    "    cliffs[1:cliffs.shape[0]-1,1:cliffs.shape[1]-1] = observation #We paste our observatoin\n",
    "    \n",
    "    observation = cliffs #We transfer variables to reuse the same code.\n",
    "    \n",
    "    localization = np.argwhere(observation == 101).reshape(-1)\n",
    "    \n",
    "    observation = np.roll(observation,int(observation.shape[0]/2)-localization[0], axis = 0)\n",
    "    observation = np.roll(observation,int(observation.shape[1]/2)-localization[1], axis = 1)\n",
    "    \n",
    "    return observation\n",
    "\n",
    "observations = env.reset();\n",
    "example_observation = np.zeros(observations.shape)\n",
    "example_observation[4, example_observation.shape[1]-1] = 101\n",
    "example_observation[4, example_observation.shape[1]-2] = 100\n",
    "example_observation[4, example_observation.shape[1]-3] = 100\n",
    "example_observation[4, 0] = 255\n",
    "example_observation = update_observations(example_observation)#We apply or centering.\n",
    "example_observation[6:13, 6:13]"
   ]
  },
  {
   "cell_type": "markdown",
   "metadata": {},
   "source": [
    "The result is good : We see clearly a wall between the food and our snake... But, we added more difficulty : The surrounding square increased the number of 68. Something should be done with this...<br>\n",
    "So what about the nice view you see upper ? We don't need to display the full map... We can simply use a part of it to focus the network's attention.<br>"
   ]
  },
  {
   "cell_type": "code",
   "execution_count": 56,
   "metadata": {},
   "outputs": [
    {
     "data": {
      "text/plain": [
       "array([[  0.,   0.,   0.,   0.,   0.],\n",
       "       [  0.,   0.,   0.,   0.,   0.],\n",
       "       [100., 100., 101.,   0.,   0.],\n",
       "       [  0.,   0.,   0.,   0.,   0.],\n",
       "       [  0.,   0.,   0.,   0.,   0.]])"
      ]
     },
     "execution_count": 56,
     "metadata": {},
     "output_type": "execute_result"
    }
   ],
   "source": [
    "def update_observations(observation, view_size = 2):\n",
    "    assert view_size > 0, \"The agent cannot see the map if you don't set a view_size over 0!\"\n",
    "    \n",
    "    cliffs = np.ones((observation.shape[0]+2,observation.shape[1]+2))\n",
    "    cliffs *= 100\n",
    "    cliffs[1:cliffs.shape[0]-1,1:cliffs.shape[1]-1] = observation\n",
    "    \n",
    "    observation = cliffs\n",
    "    \n",
    "    localization = np.argwhere(observation == 101).reshape(-1)\n",
    "    \n",
    "    observation = np.roll(observation,int(observation.shape[0]/2)-localization[0], axis = 0)\n",
    "    observation = np.roll(observation,int(observation.shape[1]/2)-localization[1], axis = 1)\n",
    "    \n",
    "    \n",
    "    localization = np.argwhere(observation == 101).reshape(-1)\n",
    "    \n",
    "    \n",
    "    observation = observation[localization[0]-view_size:localization[0]+view_size+1,\n",
    "                       localization[1]-view_size:localization[1]+view_size+1] #We zoom\n",
    "    \n",
    "    return observation\n",
    "\n",
    "observation = update_observations(env.reset())\n",
    "observation"
   ]
  },
  {
   "cell_type": "markdown",
   "metadata": {},
   "source": [
    "Our observation is flatten by the network, therefore we can do it in our *update_observations* function.<br>\n",
    "Also, when we think about the center neuron, it will always remain the same : always the head of the snake. So let's remove it at the same time, we will decrease the number of dimension by 1 unnecessary.<br>"
   ]
  },
  {
   "cell_type": "code",
   "execution_count": 57,
   "metadata": {
    "scrolled": true
   },
   "outputs": [
    {
     "data": {
      "text/plain": [
       "array([  0.,   0.,   0.,   0.,   0.,   0.,   0.,   0.,   0.,   0., 100.,\n",
       "       100.,   0.,   0.,   0.,   0.,   0.,   0.,   0.,   0.,   0.,   0.,\n",
       "         0.,   0.])"
      ]
     },
     "execution_count": 57,
     "metadata": {},
     "output_type": "execute_result"
    }
   ],
   "source": [
    "def update_observations(observation, view_size = 2):\n",
    "    assert view_size > 0, \"The agent cannot see the map if you don't set a view_size over 0!\"\n",
    "    \n",
    "    cliffs = np.ones((observation.shape[0]+2,observation.shape[1]+2))\n",
    "    cliffs *= 100\n",
    "    cliffs[1:cliffs.shape[0]-1,1:cliffs.shape[1]-1] = observation\n",
    "    \n",
    "    observation = cliffs\n",
    "    \n",
    "    localization = np.argwhere(observation == 101).reshape(-1)\n",
    "    \n",
    "    observation = np.roll(observation,int(observation.shape[0]/2)-localization[0], axis = 0)\n",
    "    observation = np.roll(observation,int(observation.shape[1]/2)-localization[1], axis = 1)\n",
    "    \n",
    "    \n",
    "    localization = np.argwhere(observation == 101).reshape(-1)\n",
    "    \n",
    "    observation = observation[localization[0]-view_size:localization[0]+view_size+1,\n",
    "                       localization[1]-view_size:localization[1]+view_size+1]\n",
    "    \n",
    "    observation = np.reshape(observation, (-1)) #we flatten the view\n",
    "    localization = np.argwhere(observation == 101).reshape(-1)[0] #We get the offset of the head.\n",
    "    observation = np.delete(observation, localization)#We remove the head.\n",
    "    \n",
    "    return observation\n",
    "\n",
    "observation = update_observations(env.reset())\n",
    "observation"
   ]
  },
  {
   "cell_type": "markdown",
   "metadata": {},
   "source": [
    "So, let's make a recap. In this part we have :\n",
    "- Reduced the total number of view to 1\n",
    "- Remove the head dimension from the map\n",
    "- Inform specifically where the boundaries of the map are. If the network learns to recognize them, it will also learn to recognize its tail.\n",
    "- Reduced vision to 24 neurons\n",
    "\n",
    "Considering the last step divides by 10 the complexity of the vision, I am sure you see how much simpler this vision has become.<br>\n",
    "However now... how can the snake know where to find the apple ? It could roam randomly, but we will help him.<br>\n",
    "We could add a neuron to to state if it the fruit is up or down from him, and another if is on the right or left.<br>\n",
    "Let's just give a negative value if the index is before his, a positive if it is after."
   ]
  },
  {
   "cell_type": "code",
   "execution_count": 58,
   "metadata": {},
   "outputs": [
    {
     "data": {
      "text/plain": [
       "array([  0.,   0.,   0.,   0.,   0.,   0.,   0.,   0.,   0.,   0.,   0.,\n",
       "         0., 100., 100.,   0.,   0.,   0.,   0.,   0.,   0.,   0.,   0.,\n",
       "         0.,   0.,   0.,  -1.])"
      ]
     },
     "execution_count": 58,
     "metadata": {},
     "output_type": "execute_result"
    }
   ],
   "source": [
    "def update_observations(observation, view_size = 2):\n",
    "    assert view_size > 0, \"The agent cannot see the map if you don't set a view_size over 0!\"\n",
    "    \n",
    "    cliffs = np.ones((observation.shape[0]+2,observation.shape[1]+2))\n",
    "    cliffs *= 100\n",
    "    cliffs[1:cliffs.shape[0]-1,1:cliffs.shape[1]-1] = observation\n",
    "    \n",
    "    observation = cliffs\n",
    "    \n",
    "    localization = np.argwhere(observation == 101).reshape(-1)\n",
    "    \n",
    "    fruit_localization = np.argwhere(observation == 255).reshape(-1) #We localize the fruit.\n",
    "    high = (localization[0] - fruit_localization[0]) #We create a neuron (up or down)\n",
    "    width = (localization[1] - fruit_localization[1]) #Then a second (left or right)\n",
    "    high = min(max(-1,high),1) #We don't need to know the distance, let's make it simple : 1, 0 or -1\n",
    "    width = min(max(-1,width),1)\n",
    "    \n",
    "    observation = np.roll(observation,int(observation.shape[0]/2)-localization[0], axis = 0)\n",
    "    observation = np.roll(observation,int(observation.shape[1]/2)-localization[1], axis = 1)\n",
    "    \n",
    "    \n",
    "    localization = np.argwhere(observation == 101).reshape(-1)\n",
    "    \n",
    "    observation = observation[localization[0]-view_size:localization[0]+view_size+1,\n",
    "                       localization[1]-view_size:localization[1]+view_size+1]\n",
    "    \n",
    "    observation = np.reshape(observation, (-1)) #we flatten the view\n",
    "    localization = np.argwhere(observation == 101).reshape(-1)[0] #We get the offset of the head.\n",
    "    observation = np.delete(observation, localization)#We remove the head.\n",
    "    \n",
    "    observation = np.concatenate((observation, [high, width]))\n",
    "    return observation\n",
    "\n",
    "observation = update_observations(env.reset())\n",
    "observation"
   ]
  },
  {
   "cell_type": "code",
   "execution_count": 59,
   "metadata": {},
   "outputs": [
    {
     "data": {
      "text/plain": [
       "(26,)"
      ]
     },
     "execution_count": 59,
     "metadata": {},
     "output_type": "execute_result"
    }
   ],
   "source": [
    "observation.shape"
   ]
  },
  {
   "cell_type": "markdown",
   "metadata": {},
   "source": [
    "Done! This was long but we did it! Now, we drastically decreased the problem we face!"
   ]
  },
  {
   "cell_type": "markdown",
   "metadata": {},
   "source": [
    "\n",
    "## Normalization\n",
    "\n",
    "An important concept of neural networks (and Machine Learning in General) is called the normalization.<br>\n",
    "The idea behind is to have the same tool to measure everything.\n",
    "- If you want to measure the size of an ant with a ruler, it should not requires too much work.\n",
    "- If you want to measure the desk with the same ruler... I suppose it will a bit more difficult, but you should succeed.\n",
    "- If you want to measure the rool with the same ruler... it will get even harder.\n",
    "- If you have to measure the distance between your home and the Eiffel Tower, it will be almost impossible.\n",
    "- So if I'm talking about the distance between the Sun and Earth... well, I guess you get the idea.\n",
    "\n",
    "A ML algorithm experience the same problem. If it starts to compare something with a tool, and something else of a total different magnitude, it will be hard for it to perform adequate measure.<br>\n",
    "<br>\n",
    "To counter the problem, data scientists use something called *Normalization*. It is a process to put everything on the same scale : from 0 to 1.<br>\n",
    "Regarding what we did with activation function, we already had a first taste of normalization. We wanted to contrain our impulse between 0 and 1. The same applies for the inputs.<br><br>\n",
    "If you look at the observation type of data, your algorithm may not easily find how to proceed."
   ]
  },
  {
   "cell_type": "code",
   "execution_count": 60,
   "metadata": {},
   "outputs": [
    {
     "data": {
      "image/png": "[encoded data removed]",
      "text/plain": [
       "<Figure size 432x288 with 1 Axes>"
      ]
     },
     "metadata": {
      "needs_background": "light"
     },
     "output_type": "display_data"
    }
   ],
   "source": [
    "observations = env.reset()\n",
    "\n",
    "plt.hist(observations, bins=15);\n",
    "plt.show();"
   ]
  },
  {
   "cell_type": "code",
   "execution_count": 61,
   "metadata": {},
   "outputs": [
    {
     "data": {
      "text/plain": [
       "array([101., 100., 100., 100., 255.])"
      ]
     },
     "execution_count": 61,
     "metadata": {},
     "output_type": "execute_result"
    }
   ],
   "source": [
    "observations[observations != 0]"
   ]
  },
  {
   "cell_type": "markdown",
   "metadata": {},
   "source": [
    "We have a huge problem : The more a neuron lights, the more it gives an information... What if, thus, a neuron would detect the food ?... it would light at half the power to inform that this is the tail of the snake.<br>\n",
    "The information could be missleading. Instead, we should try to give more sense to the signals. Make a real difference between the <strike>head (101),</strike> the tail (100) and the food (255)."
   ]
  },
  {
   "cell_type": "code",
   "execution_count": 62,
   "metadata": {},
   "outputs": [],
   "source": [
    "def update_observations(observation, view_size = 2):\n",
    "    assert view_size > 0, \"The agent cannot see the map if you don't set a view_size over 0!\"\n",
    "    \n",
    "    cliffs = np.ones((observation.shape[0]+2,observation.shape[1]+2))\n",
    "    cliffs *= 100\n",
    "    cliffs[1:cliffs.shape[0]-1,1:cliffs.shape[1]-1] = observation\n",
    "    \n",
    "    observation = cliffs\n",
    "    \n",
    "    localization = np.argwhere(observation == 101).reshape(-1)\n",
    "    \n",
    "    fruit_localization = np.argwhere(observation == 255).reshape(-1)\n",
    "    high = (localization[0] - fruit_localization[0])\n",
    "    width = (localization[1] - fruit_localization[1])\n",
    "    high = min(max(-1,high),1)\n",
    "    width = min(max(-1,width),1)\n",
    "    \n",
    "    observation = np.roll(observation,int(observation.shape[0]/2)-localization[0], axis = 0)\n",
    "    observation = np.roll(observation,int(observation.shape[1]/2)-localization[1], axis = 1)\n",
    "    \n",
    "    \n",
    "    localization = np.argwhere(observation == 101).reshape(-1)\n",
    "    \n",
    "    observation = observation[localization[0]-view_size:localization[0]+view_size+1,\n",
    "                       localization[1]-view_size:localization[1]+view_size+1]\n",
    "    \n",
    "    observation = np.reshape(observation, (-1)) \n",
    "    localization = np.argwhere(observation == 101).reshape(-1)[0]\n",
    "    observation = np.delete(observation, localization)\n",
    "    \n",
    "    \n",
    "    observation = np.where(observation == 100, -101, observation) #We replace the wall & tail by a negative value.\n",
    "    \n",
    "    observation = np.concatenate((observation, [high, width]))\n",
    "    return observation"
   ]
  },
  {
   "cell_type": "markdown",
   "metadata": {},
   "source": [
    "If you think about our way to update weights, we do it at a very slow magnitude.<br>\n",
    "Because we update our weights by less than 0.5 in the hidden layers, it would take a longer time for the model to change the meaning of an input neurons. Let's consider the good as an example:<br>\n",
    "- Weight is between -1 and 1.\n",
    "- Input is at 255.\n",
    "- Biases are between 1 and -1.\n",
    "\n",
    "Let's imagine that, in the current architecture, a neuron of the snake is responsible of fleeing the food. If it is 1, the snake will try to get close. If -1, it will flee it. Let's think about the following weights:\n",
    "- Weights of the input is -1\n",
    "- Bias is at 1.\n",
    "- Input is 255.\n",
    "\n",
    "The total sum is -254. This means the bias does not mean much (nothing, let's make it clear!) compared to the other strength.<br>\n",
    "If we consider the optimal change where each step update the weights of the input neuron at its maximum (0.25)... We would need 4 generations to change this behavior... but we are working with randomness.<br>\n",
    "This means for every probability we have to go in this direction, we have the same probability to go in the other. Let's imagine the best magnitude, everytime, and let's calculate the probability we have to fix this problem:"
   ]
  },
  {
   "cell_type": "code",
   "execution_count": 63,
   "metadata": {},
   "outputs": [
    {
     "data": {
      "text/plain": [
       "0.0625"
      ]
     },
     "execution_count": 63,
     "metadata": {},
     "output_type": "execute_result"
    }
   ],
   "source": [
    "(1/2)**4"
   ]
  },
  {
   "cell_type": "markdown",
   "metadata": {},
   "source": [
    "Also, even if the Not that much!... Let's make it easier : let's put all value between 1 and 0, so that all of them has a same strength."
   ]
  },
  {
   "cell_type": "code",
   "execution_count": 64,
   "metadata": {},
   "outputs": [
    {
     "data": {
      "image/png": "[encoded data removed]",
      "text/plain": [
       "<Figure size 432x288 with 1 Axes>"
      ]
     },
     "metadata": {
      "needs_background": "light"
     },
     "output_type": "display_data"
    },
    {
     "data": {
      "image/png": "[encoded data removed]",
      "text/plain": [
       "<Figure size 432x288 with 1 Axes>"
      ]
     },
     "metadata": {
      "needs_background": "light"
     },
     "output_type": "display_data"
    }
   ],
   "source": [
    "def update_observations(observation, view_size = 2):\n",
    "    assert view_size > 0, \"The agent cannot see the map if you don't set a view_size over 0!\"\n",
    "    \n",
    "    cliffs = np.ones((observation.shape[0]+2,observation.shape[1]+2))\n",
    "    cliffs *= 100\n",
    "    cliffs[1:cliffs.shape[0]-1,1:cliffs.shape[1]-1] = observation\n",
    "    \n",
    "    observation = cliffs\n",
    "    \n",
    "    localization = np.argwhere(observation == 101).reshape(-1)\n",
    "    \n",
    "    fruit_localization = np.argwhere(observation == 255).reshape(-1)\n",
    "    high = (localization[0] - fruit_localization[0])\n",
    "    width = (localization[1] - fruit_localization[1])\n",
    "    high = min(max(-1,high),1)\n",
    "    width = min(max(-1,width),1)\n",
    "    \n",
    "    observation = np.roll(observation,int(observation.shape[0]/2)-localization[0], axis = 0)\n",
    "    observation = np.roll(observation,int(observation.shape[1]/2)-localization[1], axis = 1)\n",
    "    \n",
    "    \n",
    "    localization = np.argwhere(observation == 101).reshape(-1)\n",
    "    \n",
    "    observation = observation[localization[0]-view_size:localization[0]+view_size+1,\n",
    "                       localization[1]-view_size:localization[1]+view_size+1]\n",
    "    \n",
    "    observation = np.reshape(observation, (-1)) \n",
    "    localization = np.argwhere(observation == 101).reshape(-1)[0]\n",
    "    observation = np.delete(observation, localization)\n",
    "    \n",
    "    \n",
    "    observation = np.where(observation == 255, 1, observation) #We replace the fruit by 1.\n",
    "    observation = np.where(observation == 100, -1, observation) #We replace the wall & tail by 1.\n",
    "    \n",
    "    observation = np.concatenate((observation, [high, width]))\n",
    "    return observation\n",
    "\n",
    "observations = env.reset()\n",
    "\n",
    "plt.hist(observations, bins=15);\n",
    "plt.show();\n",
    "plt.hist(update_observations(observations), bins=15);\n",
    "plt.show();"
   ]
  },
  {
   "cell_type": "markdown",
   "metadata": {},
   "source": [
    "Isn't the difference significative ?... Let's run to see the difference!"
   ]
  },
  {
   "cell_type": "code",
   "execution_count": 65,
   "metadata": {},
   "outputs": [],
   "source": [
    "neurons = 10 #We reduce the size of the network.\n",
    "obs_size = update_observations(env.reset()).shape[0] #We reduce the size of the input...\n",
    "                                                        #which is used for the definition of the snakes!"
   ]
  },
  {
   "cell_type": "code",
   "execution_count": 66,
   "metadata": {},
   "outputs": [],
   "source": [
    "class NeuralNetwork():\n",
    "    def __init__(self, observation_size, isACopy=False):\n",
    "        self._rewards = 0\n",
    "        self._layers = []\n",
    "        self._biases = []\n",
    "        \n",
    "        if(not isACopy):\n",
    "            for i in range(nb_layers):\n",
    "                entry_size = neurons if i != 0 else observation_size\n",
    "                self._layers.append(np.random.rand(neurons,entry_size)*2-1)\n",
    "                self._biases.append(np.random.rand(neurons,1)*2-1)\n",
    "\n",
    "\n",
    "            self._outputs = np.random.rand(4,neurons)*2-1\n",
    "\n",
    "\n",
    "    def forward(self, inputs):\n",
    "        inputs = update_observations(inputs) #We update the observation size.\n",
    "        inputs = inputs.reshape((-1,1))\n",
    "        \n",
    "\n",
    "        for layer, bias in zip(self._layers, self._biases):\n",
    "            inputs = np.matmul(layer,inputs)\n",
    "            inputs = inputs+bias\n",
    "            inputs = sigmoid_activate(inputs)\n",
    "            \n",
    "        inputs = np.matmul(self._outputs, inputs)\n",
    "        inputs = inputs.reshape(-1)\n",
    "        \n",
    "        \n",
    "        return softmax_activate(inputs)\n",
    "\n",
    "    def mutate(self):\n",
    "        new_snake = NeuralNetwork(self._layers[0].shape[1],isACopy=True)\n",
    "        \n",
    "        for l in self._layers:\n",
    "            random_mutation_probs = np.random.rand(l.shape[0], l.shape[1])\n",
    "            \n",
    "            random_mutation_probs = np.where(random_mutation_probs < chances_of_mutation,\n",
    "                                             (np.random.rand()-0.5)/2, 0)\n",
    "            new_l = l + random_mutation_probs\n",
    "            new_snake._layers.append(new_l)\n",
    "            \n",
    "            \n",
    "        for b in self._biases:\n",
    "            random_mutation_probs = np.random.rand(b.shape[0], 1)\n",
    "            random_mutation_probs = np.where(random_mutation_probs < chances_of_mutation,\n",
    "                                             (np.random.rand()-0.5)/2, 0)\n",
    "            new_l = b + random_mutation_probs\n",
    "            new_snake._biases.append(new_l)\n",
    "    \n",
    "    \n",
    "        random_mutation_probs = np.random.rand(self._outputs.shape[0],self._outputs.shape[1])\n",
    "        random_mutation_probs = np.where(random_mutation_probs < chances_of_mutation,\n",
    "                                         (np.random.rand()-0.5)/2, 0)\n",
    "        \n",
    "        new_l = self._outputs + random_mutation_probs\n",
    "        new_snake._outputs = new_l\n",
    "        return new_snake\n",
    "\n",
    "    def set_reward(self, r):\n",
    "        self._reward = r"
   ]
  },
  {
   "cell_type": "code",
   "execution_count": 67,
   "metadata": {},
   "outputs": [
    {
     "data": {
      "application/vnd.jupyter.widget-view+json": {
       "model_id": "75351a5e329a47c08d677a6f8929f528",
       "version_major": 2,
       "version_minor": 0
      },
      "text/plain": [
       "HBox(children=(IntProgress(value=0, max=10), HTML(value='')))"
      ]
     },
     "metadata": {},
     "output_type": "display_data"
    },
    {
     "name": "stdout",
     "output_type": "stream",
     "text": [
      "\n"
     ]
    }
   ],
   "source": [
    "restart_simulation() #cleaning previous models.\n",
    "\n",
    "rewards = []\n",
    "for _ in tqdm(range(10)):\n",
    "    rewards.append(run_global_simulation(False, False, False))\n",
    "    darwin_cleaner()"
   ]
  },
  {
   "cell_type": "code",
   "execution_count": 68,
   "metadata": {},
   "outputs": [
    {
     "data": {
      "image/png": "[encoded data removed]",
      "text/plain": [
       "<Figure size 432x288 with 1 Axes>"
      ]
     },
     "metadata": {
      "needs_background": "light"
     },
     "output_type": "display_data"
    }
   ],
   "source": [
    "plt.plot(rewards);"
   ]
  },
  {
   "cell_type": "markdown",
   "metadata": {},
   "source": [
    "We did not gather much improvement on this training... let's use more snakes and calculate more generations!<br>\n",
    "Right now, we are performing our training as a sequence : 1 environment at a time.<br>\n",
    "The more we train, the stronger will become our model, so let's speed up the process."
   ]
  },
  {
   "cell_type": "markdown",
   "metadata": {},
   "source": [
    "# Increasing speed\n",
    "\n",
    "In the above run, each epoch was ran in sequence... this is not very effective. What we could (and will!) do, would be to run in parallel each snake."
   ]
  },
  {
   "cell_type": "code",
   "execution_count": 69,
   "metadata": {},
   "outputs": [],
   "source": [
    "from joblib import Parallel, delayed\n",
    "import multiprocessing #Required for computation.\n",
    "\n",
    "num_cores = multiprocessing.cpu_count()"
   ]
  },
  {
   "cell_type": "code",
   "execution_count": 70,
   "metadata": {},
   "outputs": [],
   "source": [
    "def run_simulation_parallel(snake, nb_of_simulations=10):\n",
    "    import sneks\n",
    "    \n",
    "    total_reward = 0 #Used to track the performance of the Snake.\n",
    "    local_env = gym.make(\"babysnek-raw-16-v1\")\n",
    "    for _ in range(nb_of_simulations):\n",
    "        \n",
    "        observation = local_env.reset()\n",
    "        done = False\n",
    "        \n",
    "        while(not done):\n",
    "            observation, reward, done, info = local_env.step(snake.forward(observation).argmax()) #We exectue an action.\n",
    "            #env.render() #We DO NOT CALL RENDER HERE, we now need speed!\n",
    "            total_reward += reward\n",
    "    \n",
    "    snake.set_reward(total_reward)\n",
    "    \n",
    "    return snake\n",
    "\n",
    "def run_global_simulation_parallel(display_tqdm = True, track_best = True, nb_of_simulations = 10): #We create a function which gives a run.\n",
    "    global farm\n",
    "    \n",
    "    rewards = []\n",
    "    \n",
    "    if(display_tqdm):\n",
    "        farm = Parallel(n_jobs=num_cores)(delayed(run_simulation_parallel)(S, nb_of_simulations) for S in tqdm(farm))\n",
    "    else:\n",
    "        farm = Parallel(n_jobs=num_cores)(delayed(run_simulation_parallel)(S, nb_of_simulations) for S in farm)\n",
    "    \n",
    "    \n",
    "    farm.sort(key=lambda snake: snake._reward, reverse=True) #We order our list based on reward.\n",
    "    \n",
    "    if(track_best):\n",
    "        print(\"Best reward this time \"+str(farm[0]._reward)+\" ; worst was \"+str(farm[-1]._reward))"
   ]
  },
  {
   "cell_type": "code",
   "execution_count": 71,
   "metadata": {},
   "outputs": [],
   "source": [
    "number_of_snakes = 2000"
   ]
  },
  {
   "cell_type": "code",
   "execution_count": 72,
   "metadata": {},
   "outputs": [],
   "source": [
    "restart_simulation() #cleaning previous models and generating new ones."
   ]
  },
  {
   "cell_type": "code",
   "execution_count": 73,
   "metadata": {},
   "outputs": [
    {
     "data": {
      "application/vnd.jupyter.widget-view+json": {
       "model_id": "d90b8298a7164edf8b05cace12e5041f",
       "version_major": 2,
       "version_minor": 0
      },
      "text/plain": [
       "HBox(children=(IntProgress(value=0, max=2000), HTML(value='')))"
      ]
     },
     "metadata": {},
     "output_type": "display_data"
    },
    {
     "name": "stdout",
     "output_type": "stream",
     "text": [
      "\n",
      "Wall time: 9.53 s\n"
     ]
    }
   ],
   "source": [
    "%%time\n",
    "run_global_simulation_parallel(True, False)"
   ]
  },
  {
   "cell_type": "code",
   "execution_count": 74,
   "metadata": {},
   "outputs": [],
   "source": [
    "restart_simulation() #cleaning previous models and generating new ones."
   ]
  },
  {
   "cell_type": "code",
   "execution_count": 75,
   "metadata": {
    "scrolled": false
   },
   "outputs": [
    {
     "data": {
      "application/vnd.jupyter.widget-view+json": {
       "model_id": "434e0b76e040480aa54097913d0d2664",
       "version_major": 2,
       "version_minor": 0
      },
      "text/plain": [
       "HBox(children=(IntProgress(value=0, max=2000), HTML(value='')))"
      ]
     },
     "metadata": {},
     "output_type": "display_data"
    },
    {
     "name": "stdout",
     "output_type": "stream",
     "text": [
      "\n",
      "Wall time: 41.9 s\n"
     ]
    },
    {
     "data": {
      "text/plain": [
       "-4"
      ]
     },
     "execution_count": 75,
     "metadata": {},
     "output_type": "execute_result"
    }
   ],
   "source": [
    "%%time\n",
    "run_global_simulation(True, False, False)"
   ]
  },
  {
   "cell_type": "markdown",
   "metadata": {},
   "source": [
    "On my computer, I got 81% increase speed thanks to parallelization and code adjusting. We can now run the final training!"
   ]
  },
  {
   "cell_type": "code",
   "execution_count": 76,
   "metadata": {},
   "outputs": [],
   "source": [
    "import pickle #used to store the different generations\n",
    "\n",
    "#We create function to compare our snakes.\n",
    "def save_snake(id_iteration):\n",
    "    with open(\"snake_{}.obj\".format(id_iteration),'wb') as file_save:\n",
    "        #We create a dict of the snake parameters\n",
    "        to_save = {\"layers\":farm[0]._layers,\n",
    "                     \"biases\":farm[0]._biases,\n",
    "                     \"outputs\":farm[0]._outputs}\n",
    "        #And save it using picke\n",
    "        pickle.dump(to_save,file_save, protocol=pickle.HIGHEST_PROTOCOL)\n",
    "\n",
    "def load_snake(id_iteration):\n",
    "    with open(\"snake_{}.obj\".format(id_iteration),'rb') as file_save:\n",
    "        \n",
    "        snake_params = pickle.load(file_save)\n",
    "\n",
    "        snake = NeuralNetwork(obs_size)\n",
    "        snake._layers = snake_params[\"layers\"]\n",
    "        snake._biases = snake_params[\"biases\"]\n",
    "        snake._outputs = snake_params[\"outputs\"]\n",
    "        \n",
    "        return snake"
   ]
  },
  {
   "cell_type": "code",
   "execution_count": 77,
   "metadata": {},
   "outputs": [],
   "source": [
    "%matplotlib notebook\n",
    "generation_results = [] #Will be used to track the best element at each step.\n",
    "\n",
    "number_of_snakes = 2000\n",
    "restart_simulation()\n",
    "\n",
    "\n",
    "def interactive_plot():\n",
    "    ax.set_ylim(min(generation_results)-1,max(generation_results)+1)\n",
    "    ax.set_xlim(-1,len(generation_results)+1)\n",
    "    x = np.arange(len(generation_results))\n",
    "    if ax.lines:\n",
    "        for line in ax.lines:\n",
    "            line.set_xdata(x)\n",
    "            line.set_ydata(generation_results)\n",
    "    else:\n",
    "        ax.plot(x, generation_results)\n",
    "    fig.canvas.draw()"
   ]
  },
  {
   "cell_type": "code",
   "execution_count": null,
   "metadata": {
    "scrolled": false
   },
   "outputs": [
    {
     "data": {
      "application/javascript": [
       "/* Put everything inside the global mpl namespace */\n",
       "window.mpl = {};\n",
       "\n",
       "\n",
       "mpl.get_websocket_type = function() {\n",
       "    if (typeof(WebSocket) !== 'undefined') {\n",
       "        return WebSocket;\n",
       "    } else if (typeof(MozWebSocket) !== 'undefined') {\n",
       "        return MozWebSocket;\n",
       "    } else {\n",
       "        alert('Your browser does not have WebSocket support.' +\n",
       "              'Please try Chrome, Safari or Firefox ≥ 6. ' +\n",
       "              'Firefox 4 and 5 are also supported but you ' +\n",
       "              'have to enable WebSockets in about:config.');\n",
       "    };\n",
       "}\n",
       "\n",
       "mpl.figure = function(figure_id, websocket, ondownload, parent_element) {\n",
       "    this.id = figure_id;\n",
       "\n",
       "    this.ws = websocket;\n",
       "\n",
       "    this.supports_binary = (this.ws.binaryType != undefined);\n",
       "\n",
       "    if (!this.supports_binary) {\n",
       "        var warnings = document.getElementById(\"mpl-warnings\");\n",
       "        if (warnings) {\n",
       "            warnings.style.display = 'block';\n",
       "            warnings.textContent = (\n",
       "                \"This browser does not support binary websocket messages. \" +\n",
       "                    \"Performance may be slow.\");\n",
       "        }\n",
       "    }\n",
       "\n",
       "    this.imageObj = new Image();\n",
       "\n",
       "    this.context = undefined;\n",
       "    this.message = undefined;\n",
       "    this.canvas = undefined;\n",
       "    this.rubberband_canvas = undefined;\n",
       "    this.rubberband_context = undefined;\n",
       "    this.format_dropdown = undefined;\n",
       "\n",
       "    this.image_mode = 'full';\n",
       "\n",
       "    this.root = $('<div/>');\n",
       "    this._root_extra_style(this.root)\n",
       "    this.root.attr('style', 'display: inline-block');\n",
       "\n",
       "    $(parent_element).append(this.root);\n",
       "\n",
       "    this._init_header(this);\n",
       "    this._init_canvas(this);\n",
       "    this._init_toolbar(this);\n",
       "\n",
       "    var fig = this;\n",
       "\n",
       "    this.waiting = false;\n",
       "\n",
       "    this.ws.onopen =  function () {\n",
       "            fig.send_message(\"supports_binary\", {value: fig.supports_binary});\n",
       "            fig.send_message(\"send_image_mode\", {});\n",
       "            if (mpl.ratio != 1) {\n",
       "                fig.send_message(\"set_dpi_ratio\", {'dpi_ratio': mpl.ratio});\n",
       "            }\n",
       "            fig.send_message(\"refresh\", {});\n",
       "        }\n",
       "\n",
       "    this.imageObj.onload = function() {\n",
       "            if (fig.image_mode == 'full') {\n",
       "                // Full images could contain transparency (where diff images\n",
       "                // almost always do), so we need to clear the canvas so that\n",
       "                // there is no ghosting.\n",
       "                fig.context.clearRect(0, 0, fig.canvas.width, fig.canvas.height);\n",
       "            }\n",
       "            fig.context.drawImage(fig.imageObj, 0, 0);\n",
       "        };\n",
       "\n",
       "    this.imageObj.onunload = function() {\n",
       "        fig.ws.close();\n",
       "    }\n",
       "\n",
       "    this.ws.onmessage = this._make_on_message_function(this);\n",
       "\n",
       "    this.ondownload = ondownload;\n",
       "}\n",
       "\n",
       "mpl.figure.prototype._init_header = function() {\n",
       "    var titlebar = $(\n",
       "        '<div class=\"ui-dialog-titlebar ui-widget-header ui-corner-all ' +\n",
       "        'ui-helper-clearfix\"/>');\n",
       "    var titletext = $(\n",
       "        '<div class=\"ui-dialog-title\" style=\"width: 100%; ' +\n",
       "        'text-align: center; padding: 3px;\"/>');\n",
       "    titlebar.append(titletext)\n",
       "    this.root.append(titlebar);\n",
       "    this.header = titletext[0];\n",
       "}\n",
       "\n",
       "\n",
       "\n",
       "mpl.figure.prototype._canvas_extra_style = function(canvas_div) {\n",
       "\n",
       "}\n",
       "\n",
       "\n",
       "mpl.figure.prototype._root_extra_style = function(canvas_div) {\n",
       "\n",
       "}\n",
       "\n",
       "mpl.figure.prototype._init_canvas = function() {\n",
       "    var fig = this;\n",
       "\n",
       "    var canvas_div = $('<div/>');\n",
       "\n",
       "    canvas_div.attr('style', 'position: relative; clear: both; outline: 0');\n",
       "\n",
       "    function canvas_keyboard_event(event) {\n",
       "        return fig.key_event(event, event['data']);\n",
       "    }\n",
       "\n",
       "    canvas_div.keydown('key_press', canvas_keyboard_event);\n",
       "    canvas_div.keyup('key_release', canvas_keyboard_event);\n",
       "    this.canvas_div = canvas_div\n",
       "    this._canvas_extra_style(canvas_div)\n",
       "    this.root.append(canvas_div);\n",
       "\n",
       "    var canvas = $('<canvas/>');\n",
       "    canvas.addClass('mpl-canvas');\n",
       "    canvas.attr('style', \"left: 0; top: 0; z-index: 0; outline: 0\")\n",
       "\n",
       "    this.canvas = canvas[0];\n",
       "    this.context = canvas[0].getContext(\"2d\");\n",
       "\n",
       "    var backingStore = this.context.backingStorePixelRatio ||\n",
       "\tthis.context.webkitBackingStorePixelRatio ||\n",
       "\tthis.context.mozBackingStorePixelRatio ||\n",
       "\tthis.context.msBackingStorePixelRatio ||\n",
       "\tthis.context.oBackingStorePixelRatio ||\n",
       "\tthis.context.backingStorePixelRatio || 1;\n",
       "\n",
       "    mpl.ratio = (window.devicePixelRatio || 1) / backingStore;\n",
       "\n",
       "    var rubberband = $('<canvas/>');\n",
       "    rubberband.attr('style', \"position: absolute; left: 0; top: 0; z-index: 1;\")\n",
       "\n",
       "    var pass_mouse_events = true;\n",
       "\n",
       "    canvas_div.resizable({\n",
       "        start: function(event, ui) {\n",
       "            pass_mouse_events = false;\n",
       "        },\n",
       "        resize: function(event, ui) {\n",
       "            fig.request_resize(ui.size.width, ui.size.height);\n",
       "        },\n",
       "        stop: function(event, ui) {\n",
       "            pass_mouse_events = true;\n",
       "            fig.request_resize(ui.size.width, ui.size.height);\n",
       "        },\n",
       "    });\n",
       "\n",
       "    function mouse_event_fn(event) {\n",
       "        if (pass_mouse_events)\n",
       "            return fig.mouse_event(event, event['data']);\n",
       "    }\n",
       "\n",
       "    rubberband.mousedown('button_press', mouse_event_fn);\n",
       "    rubberband.mouseup('button_release', mouse_event_fn);\n",
       "    // Throttle sequential mouse events to 1 every 20ms.\n",
       "    rubberband.mousemove('motion_notify', mouse_event_fn);\n",
       "\n",
       "    rubberband.mouseenter('figure_enter', mouse_event_fn);\n",
       "    rubberband.mouseleave('figure_leave', mouse_event_fn);\n",
       "\n",
       "    canvas_div.on(\"wheel\", function (event) {\n",
       "        event = event.originalEvent;\n",
       "        event['data'] = 'scroll'\n",
       "        if (event.deltaY < 0) {\n",
       "            event.step = 1;\n",
       "        } else {\n",
       "            event.step = -1;\n",
       "        }\n",
       "        mouse_event_fn(event);\n",
       "    });\n",
       "\n",
       "    canvas_div.append(canvas);\n",
       "    canvas_div.append(rubberband);\n",
       "\n",
       "    this.rubberband = rubberband;\n",
       "    this.rubberband_canvas = rubberband[0];\n",
       "    this.rubberband_context = rubberband[0].getContext(\"2d\");\n",
       "    this.rubberband_context.strokeStyle = \"#000000\";\n",
       "\n",
       "    this._resize_canvas = function(width, height) {\n",
       "        // Keep the size of the canvas, canvas container, and rubber band\n",
       "        // canvas in synch.\n",
       "        canvas_div.css('width', width)\n",
       "        canvas_div.css('height', height)\n",
       "\n",
       "        canvas.attr('width', width * mpl.ratio);\n",
       "        canvas.attr('height', height * mpl.ratio);\n",
       "        canvas.attr('style', 'width: ' + width + 'px; height: ' + height + 'px;');\n",
       "\n",
       "        rubberband.attr('width', width);\n",
       "        rubberband.attr('height', height);\n",
       "    }\n",
       "\n",
       "    // Set the figure to an initial 600x600px, this will subsequently be updated\n",
       "    // upon first draw.\n",
       "    this._resize_canvas(600, 600);\n",
       "\n",
       "    // Disable right mouse context menu.\n",
       "    $(this.rubberband_canvas).bind(\"contextmenu\",function(e){\n",
       "        return false;\n",
       "    });\n",
       "\n",
       "    function set_focus () {\n",
       "        canvas.focus();\n",
       "        canvas_div.focus();\n",
       "    }\n",
       "\n",
       "    window.setTimeout(set_focus, 100);\n",
       "}\n",
       "\n",
       "mpl.figure.prototype._init_toolbar = function() {\n",
       "    var fig = this;\n",
       "\n",
       "    var nav_element = $('<div/>')\n",
       "    nav_element.attr('style', 'width: 100%');\n",
       "    this.root.append(nav_element);\n",
       "\n",
       "    // Define a callback function for later on.\n",
       "    function toolbar_event(event) {\n",
       "        return fig.toolbar_button_onclick(event['data']);\n",
       "    }\n",
       "    function toolbar_mouse_event(event) {\n",
       "        return fig.toolbar_button_onmouseover(event['data']);\n",
       "    }\n",
       "\n",
       "    for(var toolbar_ind in mpl.toolbar_items) {\n",
       "        var name = mpl.toolbar_items[toolbar_ind][0];\n",
       "        var tooltip = mpl.toolbar_items[toolbar_ind][1];\n",
       "        var image = mpl.toolbar_items[toolbar_ind][2];\n",
       "        var method_name = mpl.toolbar_items[toolbar_ind][3];\n",
       "\n",
       "        if (!name) {\n",
       "            // put a spacer in here.\n",
       "            continue;\n",
       "        }\n",
       "        var button = $('<button/>');\n",
       "        button.addClass('ui-button ui-widget ui-state-default ui-corner-all ' +\n",
       "                        'ui-button-icon-only');\n",
       "        button.attr('role', 'button');\n",
       "        button.attr('aria-disabled', 'false');\n",
       "        button.click(method_name, toolbar_event);\n",
       "        button.mouseover(tooltip, toolbar_mouse_event);\n",
       "\n",
       "        var icon_img = $('<span/>');\n",
       "        icon_img.addClass('ui-button-icon-primary ui-icon');\n",
       "        icon_img.addClass(image);\n",
       "        icon_img.addClass('ui-corner-all');\n",
       "\n",
       "        var tooltip_span = $('<span/>');\n",
       "        tooltip_span.addClass('ui-button-text');\n",
       "        tooltip_span.html(tooltip);\n",
       "\n",
       "        button.append(icon_img);\n",
       "        button.append(tooltip_span);\n",
       "\n",
       "        nav_element.append(button);\n",
       "    }\n",
       "\n",
       "    var fmt_picker_span = $('<span/>');\n",
       "\n",
       "    var fmt_picker = $('<select/>');\n",
       "    fmt_picker.addClass('mpl-toolbar-option ui-widget ui-widget-content');\n",
       "    fmt_picker_span.append(fmt_picker);\n",
       "    nav_element.append(fmt_picker_span);\n",
       "    this.format_dropdown = fmt_picker[0];\n",
       "\n",
       "    for (var ind in mpl.extensions) {\n",
       "        var fmt = mpl.extensions[ind];\n",
       "        var option = $(\n",
       "            '<option/>', {selected: fmt === mpl.default_extension}).html(fmt);\n",
       "        fmt_picker.append(option)\n",
       "    }\n",
       "\n",
       "    // Add hover states to the ui-buttons\n",
       "    $( \".ui-button\" ).hover(\n",
       "        function() { $(this).addClass(\"ui-state-hover\");},\n",
       "        function() { $(this).removeClass(\"ui-state-hover\");}\n",
       "    );\n",
       "\n",
       "    var status_bar = $('<span class=\"mpl-message\"/>');\n",
       "    nav_element.append(status_bar);\n",
       "    this.message = status_bar[0];\n",
       "}\n",
       "\n",
       "mpl.figure.prototype.request_resize = function(x_pixels, y_pixels) {\n",
       "    // Request matplotlib to resize the figure. Matplotlib will then trigger a resize in the client,\n",
       "    // which will in turn request a refresh of the image.\n",
       "    this.send_message('resize', {'width': x_pixels, 'height': y_pixels});\n",
       "}\n",
       "\n",
       "mpl.figure.prototype.send_message = function(type, properties) {\n",
       "    properties['type'] = type;\n",
       "    properties['figure_id'] = this.id;\n",
       "    this.ws.send(JSON.stringify(properties));\n",
       "}\n",
       "\n",
       "mpl.figure.prototype.send_draw_message = function() {\n",
       "    if (!this.waiting) {\n",
       "        this.waiting = true;\n",
       "        this.ws.send(JSON.stringify({type: \"draw\", figure_id: this.id}));\n",
       "    }\n",
       "}\n",
       "\n",
       "\n",
       "mpl.figure.prototype.handle_save = function(fig, msg) {\n",
       "    var format_dropdown = fig.format_dropdown;\n",
       "    var format = format_dropdown.options[format_dropdown.selectedIndex].value;\n",
       "    fig.ondownload(fig, format);\n",
       "}\n",
       "\n",
       "\n",
       "mpl.figure.prototype.handle_resize = function(fig, msg) {\n",
       "    var size = msg['size'];\n",
       "    if (size[0] != fig.canvas.width || size[1] != fig.canvas.height) {\n",
       "        fig._resize_canvas(size[0], size[1]);\n",
       "        fig.send_message(\"refresh\", {});\n",
       "    };\n",
       "}\n",
       "\n",
       "mpl.figure.prototype.handle_rubberband = function(fig, msg) {\n",
       "    var x0 = msg['x0'] / mpl.ratio;\n",
       "    var y0 = (fig.canvas.height - msg['y0']) / mpl.ratio;\n",
       "    var x1 = msg['x1'] / mpl.ratio;\n",
       "    var y1 = (fig.canvas.height - msg['y1']) / mpl.ratio;\n",
       "    x0 = Math.floor(x0) + 0.5;\n",
       "    y0 = Math.floor(y0) + 0.5;\n",
       "    x1 = Math.floor(x1) + 0.5;\n",
       "    y1 = Math.floor(y1) + 0.5;\n",
       "    var min_x = Math.min(x0, x1);\n",
       "    var min_y = Math.min(y0, y1);\n",
       "    var width = Math.abs(x1 - x0);\n",
       "    var height = Math.abs(y1 - y0);\n",
       "\n",
       "    fig.rubberband_context.clearRect(\n",
       "        0, 0, fig.canvas.width, fig.canvas.height);\n",
       "\n",
       "    fig.rubberband_context.strokeRect(min_x, min_y, width, height);\n",
       "}\n",
       "\n",
       "mpl.figure.prototype.handle_figure_label = function(fig, msg) {\n",
       "    // Updates the figure title.\n",
       "    fig.header.textContent = msg['label'];\n",
       "}\n",
       "\n",
       "mpl.figure.prototype.handle_cursor = function(fig, msg) {\n",
       "    var cursor = msg['cursor'];\n",
       "    switch(cursor)\n",
       "    {\n",
       "    case 0:\n",
       "        cursor = 'pointer';\n",
       "        break;\n",
       "    case 1:\n",
       "        cursor = 'default';\n",
       "        break;\n",
       "    case 2:\n",
       "        cursor = 'crosshair';\n",
       "        break;\n",
       "    case 3:\n",
       "        cursor = 'move';\n",
       "        break;\n",
       "    }\n",
       "    fig.rubberband_canvas.style.cursor = cursor;\n",
       "}\n",
       "\n",
       "mpl.figure.prototype.handle_message = function(fig, msg) {\n",
       "    fig.message.textContent = msg['message'];\n",
       "}\n",
       "\n",
       "mpl.figure.prototype.handle_draw = function(fig, msg) {\n",
       "    // Request the server to send over a new figure.\n",
       "    fig.send_draw_message();\n",
       "}\n",
       "\n",
       "mpl.figure.prototype.handle_image_mode = function(fig, msg) {\n",
       "    fig.image_mode = msg['mode'];\n",
       "}\n",
       "\n",
       "mpl.figure.prototype.updated_canvas_event = function() {\n",
       "    // Called whenever the canvas gets updated.\n",
       "    this.send_message(\"ack\", {});\n",
       "}\n",
       "\n",
       "// A function to construct a web socket function for onmessage handling.\n",
       "// Called in the figure constructor.\n",
       "mpl.figure.prototype._make_on_message_function = function(fig) {\n",
       "    return function socket_on_message(evt) {\n",
       "        if (evt.data instanceof Blob) {\n",
       "            /* FIXME: We get \"Resource interpreted as Image but\n",
       "             * transferred with MIME type text/plain:\" errors on\n",
       "             * Chrome.  But how to set the MIME type?  It doesn't seem\n",
       "             * to be part of the websocket stream */\n",
       "            evt.data.type = \"image/png\";\n",
       "\n",
       "            /* Free the memory for the previous frames */\n",
       "            if (fig.imageObj.src) {\n",
       "                (window.URL || window.webkitURL).revokeObjectURL(\n",
       "                    fig.imageObj.src);\n",
       "            }\n",
       "\n",
       "            fig.imageObj.src = (window.URL || window.webkitURL).createObjectURL(\n",
       "                evt.data);\n",
       "            fig.updated_canvas_event();\n",
       "            fig.waiting = false;\n",
       "            return;\n",
       "        }\n",
       "        else if (typeof evt.data === 'string' && evt.data.slice(0, 21) == \"data:image/png;base64\") {\n",
       "            fig.imageObj.src = evt.data;\n",
       "            fig.updated_canvas_event();\n",
       "            fig.waiting = false;\n",
       "            return;\n",
       "        }\n",
       "\n",
       "        var msg = JSON.parse(evt.data);\n",
       "        var msg_type = msg['type'];\n",
       "\n",
       "        // Call the  \"handle_{type}\" callback, which takes\n",
       "        // the figure and JSON message as its only arguments.\n",
       "        try {\n",
       "            var callback = fig[\"handle_\" + msg_type];\n",
       "        } catch (e) {\n",
       "            console.log(\"No handler for the '\" + msg_type + \"' message type: \", msg);\n",
       "            return;\n",
       "        }\n",
       "\n",
       "        if (callback) {\n",
       "            try {\n",
       "                // console.log(\"Handling '\" + msg_type + \"' message: \", msg);\n",
       "                callback(fig, msg);\n",
       "            } catch (e) {\n",
       "                console.log(\"Exception inside the 'handler_\" + msg_type + \"' callback:\", e, e.stack, msg);\n",
       "            }\n",
       "        }\n",
       "    };\n",
       "}\n",
       "\n",
       "// from http://stackoverflow.com/questions/1114465/getting-mouse-location-in-canvas\n",
       "mpl.findpos = function(e) {\n",
       "    //this section is from http://www.quirksmode.org/js/events_properties.html\n",
       "    var targ;\n",
       "    if (!e)\n",
       "        e = window.event;\n",
       "    if (e.target)\n",
       "        targ = e.target;\n",
       "    else if (e.srcElement)\n",
       "        targ = e.srcElement;\n",
       "    if (targ.nodeType == 3) // defeat Safari bug\n",
       "        targ = targ.parentNode;\n",
       "\n",
       "    // jQuery normalizes the pageX and pageY\n",
       "    // pageX,Y are the mouse positions relative to the document\n",
       "    // offset() returns the position of the element relative to the document\n",
       "    var x = e.pageX - $(targ).offset().left;\n",
       "    var y = e.pageY - $(targ).offset().top;\n",
       "\n",
       "    return {\"x\": x, \"y\": y};\n",
       "};\n",
       "\n",
       "/*\n",
       " * return a copy of an object with only non-object keys\n",
       " * we need this to avoid circular references\n",
       " * http://stackoverflow.com/a/24161582/3208463\n",
       " */\n",
       "function simpleKeys (original) {\n",
       "  return Object.keys(original).reduce(function (obj, key) {\n",
       "    if (typeof original[key] !== 'object')\n",
       "        obj[key] = original[key]\n",
       "    return obj;\n",
       "  }, {});\n",
       "}\n",
       "\n",
       "mpl.figure.prototype.mouse_event = function(event, name) {\n",
       "    var canvas_pos = mpl.findpos(event)\n",
       "\n",
       "    if (name === 'button_press')\n",
       "    {\n",
       "        this.canvas.focus();\n",
       "        this.canvas_div.focus();\n",
       "    }\n",
       "\n",
       "    var x = canvas_pos.x * mpl.ratio;\n",
       "    var y = canvas_pos.y * mpl.ratio;\n",
       "\n",
       "    this.send_message(name, {x: x, y: y, button: event.button,\n",
       "                             step: event.step,\n",
       "                             guiEvent: simpleKeys(event)});\n",
       "\n",
       "    /* This prevents the web browser from automatically changing to\n",
       "     * the text insertion cursor when the button is pressed.  We want\n",
       "     * to control all of the cursor setting manually through the\n",
       "     * 'cursor' event from matplotlib */\n",
       "    event.preventDefault();\n",
       "    return false;\n",
       "}\n",
       "\n",
       "mpl.figure.prototype._key_event_extra = function(event, name) {\n",
       "    // Handle any extra behaviour associated with a key event\n",
       "}\n",
       "\n",
       "mpl.figure.prototype.key_event = function(event, name) {\n",
       "\n",
       "    // Prevent repeat events\n",
       "    if (name == 'key_press')\n",
       "    {\n",
       "        if (event.which === this._key)\n",
       "            return;\n",
       "        else\n",
       "            this._key = event.which;\n",
       "    }\n",
       "    if (name == 'key_release')\n",
       "        this._key = null;\n",
       "\n",
       "    var value = '';\n",
       "    if (event.ctrlKey && event.which != 17)\n",
       "        value += \"ctrl+\";\n",
       "    if (event.altKey && event.which != 18)\n",
       "        value += \"alt+\";\n",
       "    if (event.shiftKey && event.which != 16)\n",
       "        value += \"shift+\";\n",
       "\n",
       "    value += 'k';\n",
       "    value += event.which.toString();\n",
       "\n",
       "    this._key_event_extra(event, name);\n",
       "\n",
       "    this.send_message(name, {key: value,\n",
       "                             guiEvent: simpleKeys(event)});\n",
       "    return false;\n",
       "}\n",
       "\n",
       "mpl.figure.prototype.toolbar_button_onclick = function(name) {\n",
       "    if (name == 'download') {\n",
       "        this.handle_save(this, null);\n",
       "    } else {\n",
       "        this.send_message(\"toolbar_button\", {name: name});\n",
       "    }\n",
       "};\n",
       "\n",
       "mpl.figure.prototype.toolbar_button_onmouseover = function(tooltip) {\n",
       "    this.message.textContent = tooltip;\n",
       "};\n",
       "mpl.toolbar_items = [[\"Home\", \"Reset original view\", \"fa fa-home icon-home\", \"home\"], [\"Back\", \"Back to  previous view\", \"fa fa-arrow-left icon-arrow-left\", \"back\"], [\"Forward\", \"Forward to next view\", \"fa fa-arrow-right icon-arrow-right\", \"forward\"], [\"\", \"\", \"\", \"\"], [\"Pan\", \"Pan axes with left mouse, zoom with right\", \"fa fa-arrows icon-move\", \"pan\"], [\"Zoom\", \"Zoom to rectangle\", \"fa fa-square-o icon-check-empty\", \"zoom\"], [\"\", \"\", \"\", \"\"], [\"Download\", \"Download plot\", \"fa fa-floppy-o icon-save\", \"download\"]];\n",
       "\n",
       "mpl.extensions = [\"eps\", \"jpeg\", \"pdf\", \"png\", \"ps\", \"raw\", \"svg\", \"tif\"];\n",
       "\n",
       "mpl.default_extension = \"png\";var comm_websocket_adapter = function(comm) {\n",
       "    // Create a \"websocket\"-like object which calls the given IPython comm\n",
       "    // object with the appropriate methods. Currently this is a non binary\n",
       "    // socket, so there is still some room for performance tuning.\n",
       "    var ws = {};\n",
       "\n",
       "    ws.close = function() {\n",
       "        comm.close()\n",
       "    };\n",
       "    ws.send = function(m) {\n",
       "        //console.log('sending', m);\n",
       "        comm.send(m);\n",
       "    };\n",
       "    // Register the callback with on_msg.\n",
       "    comm.on_msg(function(msg) {\n",
       "        //console.log('receiving', msg['content']['data'], msg);\n",
       "        // Pass the mpl event to the overridden (by mpl) onmessage function.\n",
       "        ws.onmessage(msg['content']['data'])\n",
       "    });\n",
       "    return ws;\n",
       "}\n",
       "\n",
       "mpl.mpl_figure_comm = function(comm, msg) {\n",
       "    // This is the function which gets called when the mpl process\n",
       "    // starts-up an IPython Comm through the \"matplotlib\" channel.\n",
       "\n",
       "    var id = msg.content.data.id;\n",
       "    // Get hold of the div created by the display call when the Comm\n",
       "    // socket was opened in Python.\n",
       "    var element = $(\"#\" + id);\n",
       "    var ws_proxy = comm_websocket_adapter(comm)\n",
       "\n",
       "    function ondownload(figure, format) {\n",
       "        window.open(figure.imageObj.src);\n",
       "    }\n",
       "\n",
       "    var fig = new mpl.figure(id, ws_proxy,\n",
       "                           ondownload,\n",
       "                           element.get(0));\n",
       "\n",
       "    // Call onopen now - mpl needs it, as it is assuming we've passed it a real\n",
       "    // web socket which is closed, not our websocket->open comm proxy.\n",
       "    ws_proxy.onopen();\n",
       "\n",
       "    fig.parent_element = element.get(0);\n",
       "    fig.cell_info = mpl.find_output_cell(\"<div id='\" + id + \"'></div>\");\n",
       "    if (!fig.cell_info) {\n",
       "        console.error(\"Failed to find cell for figure\", id, fig);\n",
       "        return;\n",
       "    }\n",
       "\n",
       "    var output_index = fig.cell_info[2]\n",
       "    var cell = fig.cell_info[0];\n",
       "\n",
       "};\n",
       "\n",
       "mpl.figure.prototype.handle_close = function(fig, msg) {\n",
       "    var width = fig.canvas.width/mpl.ratio\n",
       "    fig.root.unbind('remove')\n",
       "\n",
       "    // Update the output cell to use the data from the current canvas.\n",
       "    fig.push_to_output();\n",
       "    var dataURL = fig.canvas.toDataURL();\n",
       "    // Re-enable the keyboard manager in IPython - without this line, in FF,\n",
       "    // the notebook keyboard shortcuts fail.\n",
       "    IPython.keyboard_manager.enable()\n",
       "    $(fig.parent_element).html('<img src=\"' + dataURL + '\" width=\"' + width + '\">');\n",
       "    fig.close_ws(fig, msg);\n",
       "}\n",
       "\n",
       "mpl.figure.prototype.close_ws = function(fig, msg){\n",
       "    fig.send_message('closing', msg);\n",
       "    // fig.ws.close()\n",
       "}\n",
       "\n",
       "mpl.figure.prototype.push_to_output = function(remove_interactive) {\n",
       "    // Turn the data on the canvas into data in the output cell.\n",
       "    var width = this.canvas.width/mpl.ratio\n",
       "    var dataURL = this.canvas.toDataURL();\n",
       "    this.cell_info[1]['text/html'] = '<img src=\"' + dataURL + '\" width=\"' + width + '\">';\n",
       "}\n",
       "\n",
       "mpl.figure.prototype.updated_canvas_event = function() {\n",
       "    // Tell IPython that the notebook contents must change.\n",
       "    IPython.notebook.set_dirty(true);\n",
       "    this.send_message(\"ack\", {});\n",
       "    var fig = this;\n",
       "    // Wait a second, then push the new image to the DOM so\n",
       "    // that it is saved nicely (might be nice to debounce this).\n",
       "    setTimeout(function () { fig.push_to_output() }, 1000);\n",
       "}\n",
       "\n",
       "mpl.figure.prototype._init_toolbar = function() {\n",
       "    var fig = this;\n",
       "\n",
       "    var nav_element = $('<div/>')\n",
       "    nav_element.attr('style', 'width: 100%');\n",
       "    this.root.append(nav_element);\n",
       "\n",
       "    // Define a callback function for later on.\n",
       "    function toolbar_event(event) {\n",
       "        return fig.toolbar_button_onclick(event['data']);\n",
       "    }\n",
       "    function toolbar_mouse_event(event) {\n",
       "        return fig.toolbar_button_onmouseover(event['data']);\n",
       "    }\n",
       "\n",
       "    for(var toolbar_ind in mpl.toolbar_items){\n",
       "        var name = mpl.toolbar_items[toolbar_ind][0];\n",
       "        var tooltip = mpl.toolbar_items[toolbar_ind][1];\n",
       "        var image = mpl.toolbar_items[toolbar_ind][2];\n",
       "        var method_name = mpl.toolbar_items[toolbar_ind][3];\n",
       "\n",
       "        if (!name) { continue; };\n",
       "\n",
       "        var button = $('<button class=\"btn btn-default\" href=\"#\" title=\"' + name + '\"><i class=\"fa ' + image + ' fa-lg\"></i></button>');\n",
       "        button.click(method_name, toolbar_event);\n",
       "        button.mouseover(tooltip, toolbar_mouse_event);\n",
       "        nav_element.append(button);\n",
       "    }\n",
       "\n",
       "    // Add the status bar.\n",
       "    var status_bar = $('<span class=\"mpl-message\" style=\"text-align:right; float: right;\"/>');\n",
       "    nav_element.append(status_bar);\n",
       "    this.message = status_bar[0];\n",
       "\n",
       "    // Add the close button to the window.\n",
       "    var buttongrp = $('<div class=\"btn-group inline pull-right\"></div>');\n",
       "    var button = $('<button class=\"btn btn-mini btn-primary\" href=\"#\" title=\"Stop Interaction\"><i class=\"fa fa-power-off icon-remove icon-large\"></i></button>');\n",
       "    button.click(function (evt) { fig.handle_close(fig, {}); } );\n",
       "    button.mouseover('Stop Interaction', toolbar_mouse_event);\n",
       "    buttongrp.append(button);\n",
       "    var titlebar = this.root.find($('.ui-dialog-titlebar'));\n",
       "    titlebar.prepend(buttongrp);\n",
       "}\n",
       "\n",
       "mpl.figure.prototype._root_extra_style = function(el){\n",
       "    var fig = this\n",
       "    el.on(\"remove\", function(){\n",
       "\tfig.close_ws(fig, {});\n",
       "    });\n",
       "}\n",
       "\n",
       "mpl.figure.prototype._canvas_extra_style = function(el){\n",
       "    // this is important to make the div 'focusable\n",
       "    el.attr('tabindex', 0)\n",
       "    // reach out to IPython and tell the keyboard manager to turn it's self\n",
       "    // off when our div gets focus\n",
       "\n",
       "    // location in version 3\n",
       "    if (IPython.notebook.keyboard_manager) {\n",
       "        IPython.notebook.keyboard_manager.register_events(el);\n",
       "    }\n",
       "    else {\n",
       "        // location in version 2\n",
       "        IPython.keyboard_manager.register_events(el);\n",
       "    }\n",
       "\n",
       "}\n",
       "\n",
       "mpl.figure.prototype._key_event_extra = function(event, name) {\n",
       "    var manager = IPython.notebook.keyboard_manager;\n",
       "    if (!manager)\n",
       "        manager = IPython.keyboard_manager;\n",
       "\n",
       "    // Check for shift+enter\n",
       "    if (event.shiftKey && event.which == 13) {\n",
       "        this.canvas_div.blur();\n",
       "        event.shiftKey = false;\n",
       "        // Send a \"J\" for go to next cell\n",
       "        event.which = 74;\n",
       "        event.keyCode = 74;\n",
       "        manager.command_mode();\n",
       "        manager.handle_keydown(event);\n",
       "    }\n",
       "}\n",
       "\n",
       "mpl.figure.prototype.handle_save = function(fig, msg) {\n",
       "    fig.ondownload(fig, null);\n",
       "}\n",
       "\n",
       "\n",
       "mpl.find_output_cell = function(html_output) {\n",
       "    // Return the cell and output element which can be found *uniquely* in the notebook.\n",
       "    // Note - this is a bit hacky, but it is done because the \"notebook_saving.Notebook\"\n",
       "    // IPython event is triggered only after the cells have been serialised, which for\n",
       "    // our purposes (turning an active figure into a static one), is too late.\n",
       "    var cells = IPython.notebook.get_cells();\n",
       "    var ncells = cells.length;\n",
       "    for (var i=0; i<ncells; i++) {\n",
       "        var cell = cells[i];\n",
       "        if (cell.cell_type === 'code'){\n",
       "            for (var j=0; j<cell.output_area.outputs.length; j++) {\n",
       "                var data = cell.output_area.outputs[j];\n",
       "                if (data.data) {\n",
       "                    // IPython >= 3 moved mimebundle to data attribute of output\n",
       "                    data = data.data;\n",
       "                }\n",
       "                if (data['text/html'] == html_output) {\n",
       "                    return [cell, data, j];\n",
       "                }\n",
       "            }\n",
       "        }\n",
       "    }\n",
       "}\n",
       "\n",
       "// Register the function which deals with the matplotlib target/channel.\n",
       "// The kernel may be null if the page has been refreshed.\n",
       "if (IPython.notebook.kernel != null) {\n",
       "    IPython.notebook.kernel.comm_manager.register_target('matplotlib', mpl.mpl_figure_comm);\n",
       "}\n"
      ],
      "text/plain": [
       "<IPython.core.display.Javascript object>"
      ]
     },
     "metadata": {},
     "output_type": "display_data"
    },
    {
     "data": {
      "text/html": [
       "<img src=\"data:image/png;base64,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\" width=\"640\">"
      ],
      "text/plain": [
       "<IPython.core.display.HTML object>"
      ]
     },
     "metadata": {},
     "output_type": "display_data"
    },
    {
     "data": {
      "application/vnd.jupyter.widget-view+json": {
       "model_id": "d83238de2d4249edadcd5367f46128ae",
       "version_major": 2,
       "version_minor": 0
      },
      "text/plain": [
       "HBox(children=(IntProgress(value=0), HTML(value='')))"
      ]
     },
     "metadata": {},
     "output_type": "display_data"
    }
   ],
   "source": [
    "fig,ax = plt.subplots(1,1)\n",
    "ax.set_xlabel('Generation')\n",
    "ax.set_ylabel('Best reward')\n",
    "\n",
    "for iteration in tqdm(range(100),unit=\"generation\"):\n",
    "    run_global_simulation_parallel(False, False, nb_of_simulations=100)\n",
    "        #We increase the number of simulation to get more data for each snake.\n",
    "    generation_results.append(farm[0]._reward)\n",
    "    interactive_plot()\n",
    "    if(iteration % 10 == 0):\n",
    "        save_snake(iteration)\n",
    "    darwin_cleaner()"
   ]
  },
  {
   "cell_type": "markdown",
   "metadata": {},
   "source": [
    "Our training seems stationnary, so I decided to stop the training after 240 epochs. We could wait for our neural network to maybe find some solution by pure randomness... Looking at its behavior, we may hope to find out how did the agent evoluted during the process."
   ]
  },
  {
   "cell_type": "code",
   "execution_count": null,
   "metadata": {},
   "outputs": [],
   "source": [
    "for _ in tqdm(range(10)):\n",
    "    observation = env.reset()\n",
    "    done = False\n",
    "\n",
    "    while(not done):\n",
    "        env.render()\n",
    "        done = False\n",
    "        while(not done):\n",
    "            observation, res, done, info = env.step(farm[0].forward(observation).argmax())\n",
    "            env.render()\n",
    "            time.sleep(0.1)"
   ]
  },
  {
   "cell_type": "markdown",
   "metadata": {},
   "source": [
    "We see our agent does not simply run in the cliff anymore. It is now able to find (sometimes) the fruit and develop a real strategy to get it however, it looks like __exactly__ the same strategy everytime. A strategy which does not work at all for some configuration (mine was not able to adopt an efficient behavior if the fruit was above his head).<br>\n",
    "What we could do is letting it running and expect it to find a solution to reach these other cases. And it might succeed.<br>\n",
    "However, since our environment consider that reaching the fruit stops the episode, we may not be able to select a new behavior which finds the new fruits but forgets about the other one (by having a large number of simulation at each generation, it remains possible...).<br>\n",
    "To improve this part, we will try to improve our conditions.<br><br>\n",
    "\n",
    "# Changing the reward function\n",
    "\n",
    "It is necessary to find another way to judge of the efficiency agent. For this, we can :<br>\n",
    "- Improving the reward function (by adding point when the agent get closer to the fruit)\n",
    "- Allowing to get more than 1 fruit during episode, in order to give better rewards to more polyvalent agents.\n",
    "\n",
    "We will start by the second approach, because it is easier to implement.<br>\n",
    "Indeed, sneks provides another environment called \"snek\" instead of \"babysnek\". No need to restart from scratch. Our trained agents are totally able to work in this same environment.<br>"
   ]
  },
  {
   "cell_type": "code",
   "execution_count": null,
   "metadata": {
    "scrolled": false
   },
   "outputs": [],
   "source": [
    "farm = [load_snake(240) for _ in range(number_of_snakes)]"
   ]
  },
  {
   "cell_type": "code",
   "execution_count": null,
   "metadata": {},
   "outputs": [],
   "source": [
    "def run_simulation_parallel(snake, nb_of_simulations=10):\n",
    "    import sneks\n",
    "    \n",
    "    total_reward = 0\n",
    "    local_env = gym.make(\"snek-raw-16-v1\") #Updates the environment name\n",
    "    for _ in range(nb_of_simulations):\n",
    "        step = 0\n",
    "        \n",
    "        observation = local_env.reset()\n",
    "        done = False\n",
    "        \n",
    "        while(not done):\n",
    "            observation, reward, done, info = local_env.step(snake.forward(observation).argmax())\n",
    "            step += 1\n",
    "            total_reward += reward\n",
    "    \n",
    "    snake.set_reward(total_reward)\n",
    "    \n",
    "    return snake"
   ]
  },
  {
   "cell_type": "code",
   "execution_count": null,
   "metadata": {
    "scrolled": false
   },
   "outputs": [],
   "source": [
    "fig,ax = plt.subplots(1,1)\n",
    "ax.set_xlabel('Generation')\n",
    "ax.set_ylabel('Best reward')\n",
    "\n",
    "generation_results = [] #Reset for second training\n",
    "\n",
    "for iteration in tqdm(range(241, 1600),unit=\"generation\"):#Since we stopped at 240, we restart at 241.\n",
    "    \n",
    "    run_global_simulation_parallel(False, False, nb_of_simulations=100)\n",
    "    generation_results.append(farm[0]._reward)\n",
    "    interactive_plot()\n",
    "    if(iteration % 10 == 0):\n",
    "        save_snake(iteration)\n",
    "    darwin_cleaner()"
   ]
  },
  {
   "cell_type": "markdown",
   "metadata": {},
   "source": [
    "Special note :<br>\n",
    "I have drawn the neural networks using an online tool from ALEXANDER LENAIL. If you want to check this out, it's <a href=\"http://alexlenail.me/NN-SVG/LeNet.html\">here</a>."
   ]
  },
  {
   "cell_type": "code",
   "execution_count": null,
   "metadata": {},
   "outputs": [],
   "source": []
  }
 ],
 "metadata": {
  "kernelspec": {
   "display_name": "Python 3",
   "language": "python",
   "name": "python3"
  },
  "language_info": {
   "codemirror_mode": {
    "name": "ipython",
    "version": 3
   },
   "file_extension": ".py",
   "mimetype": "text/x-python",
   "name": "python",
   "nbconvert_exporter": "python",
   "pygments_lexer": "ipython3",
   "version": "3.8.8"
  }
 },
 "nbformat": 4,
 "nbformat_minor": 2
}
