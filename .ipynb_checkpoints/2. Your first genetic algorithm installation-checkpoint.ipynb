{
 "cells": [
  {
   "cell_type": "markdown",
   "metadata": {},
   "source": [
    "# Your first genetic algorithm\n",
    "\n",
    "Now that you understand the building block of a neural network, we will create one based on genetic evolution.<br>\n",
    "You will first need to install the gym_snake from nicomon24.<br><br>\n",
    "\n",
    "<center><b><a href=\"https://github.com/nicomon24/Sneks\" target=\"_blank\">https://github.com/nicomon24/Sneks</a></b></center><br><br>\n",
    "To install the library, run the following cell (this may take a few minutes).<br>\n",
    "You will need GIT installed on your computer. If you did not yet, here is the installation <a href=\"https://www.atlassian.com/git/tutorials/install-git\">process</a>."
   ]
  },
  {
   "cell_type": "code",
   "execution_count": null,
   "metadata": {},
   "outputs": [],
   "source": [
    "!git clone https://github.com/nicomon24/Sneks\n",
    "!cd Sneks && git reset --hard db0c55e8f367fe88b71dd1ffd3c8930f475376a5\n",
    "!pip install -e ./Sneks"
   ]
  },
  {
   "cell_type": "markdown",
   "metadata": {},
   "source": [
    "If you are running on windows, execute this cell to complete the installation:"
   ]
  },
  {
   "cell_type": "code",
   "execution_count": null,
   "metadata": {},
   "outputs": [],
   "source": [
    "!move ./Sneks/sneks ./snek\n",
    "!rd /s /q Sneks\n",
    "!move ./snek ./sneks"
   ]
  },
  {
   "cell_type": "markdown",
   "metadata": {},
   "source": [
    "Linux lovers, here is yours:"
   ]
  },
  {
   "cell_type": "code",
   "execution_count": null,
   "metadata": {},
   "outputs": [],
   "source": [
    "!mv ./Sneks/sneks ./snek\n",
    "!rm -rf gym-snake\n",
    "!mv ./snek ./sneks"
   ]
  },
  {
   "cell_type": "code",
   "execution_count": null,
   "metadata": {},
   "outputs": [],
   "source": []
  }
 ],
 "metadata": {
  "kernelspec": {
   "display_name": "Python 3",
   "language": "python",
   "name": "python3"
  },
  "language_info": {
   "codemirror_mode": {
    "name": "ipython",
    "version": 3
   },
   "file_extension": ".py",
   "mimetype": "text/x-python",
   "name": "python",
   "nbconvert_exporter": "python",
   "pygments_lexer": "ipython3",
   "version": "3.8.8"
  }
 },
 "nbformat": 4,
 "nbformat_minor": 2
}
