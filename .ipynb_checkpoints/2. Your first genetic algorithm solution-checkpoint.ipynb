{
 "cells": [
  {
   "cell_type": "markdown",
   "metadata": {},
   "source": [
    "# Your first genetic algorithm\n",
    "\n",
    "Now that you understand the building block of a neural network, we will create one based on genetic evolution.<br>\n",
    "You will first need to install the gym_snake from seanbae.<br><br>\n",
    "\n",
    "<center><b><a href=\"https://github.com/nicomon24/Sneks\" target=\"_blank\">https://github.com/nicomon24/Sneks</a></b></center><br><br>\n",
    "To install the library, run the following cell (this may take a few minutes)"
   ]
  },
  {
   "cell_type": "code",
   "execution_count": 1,
   "metadata": {
    "scrolled": true
   },
   "outputs": [
    {
     "name": "stderr",
     "output_type": "stream",
     "text": [
      "Cloning into 'Sneks'...\n"
     ]
    },
    {
     "name": "stdout",
     "output_type": "stream",
     "text": [
      "HEAD is now at db0c55e Update world.py\n",
      "Obtaining file:///C:/Users/33616/Documents/lexml/git_manager/neural_networks_tutorial/Sneks\n",
      "Requirement already satisfied: gym in c:\\users\\33616\\appdata\\local\\programs\\python\\python38\\lib\\site-packages (from sneks==0.0.1) (0.18.3)\n",
      "Requirement already satisfied: numpy in c:\\users\\33616\\appdata\\local\\programs\\python\\python38\\lib\\site-packages (from sneks==0.0.1) (1.20.2)\n",
      "Requirement already satisfied: opencv-python in c:\\users\\33616\\appdata\\local\\programs\\python\\python38\\lib\\site-packages (from sneks==0.0.1) (4.5.2.54)\n",
      "Requirement already satisfied: cloudpickle<1.7.0,>=1.2.0 in c:\\users\\33616\\appdata\\local\\programs\\python\\python38\\lib\\site-packages (from gym->sneks==0.0.1) (1.6.0)\n",
      "Requirement already satisfied: Pillow<=8.2.0 in c:\\users\\33616\\appdata\\local\\programs\\python\\python38\\lib\\site-packages (from gym->sneks==0.0.1) (8.2.0)\n",
      "Requirement already satisfied: scipy in c:\\users\\33616\\appdata\\local\\programs\\python\\python38\\lib\\site-packages (from gym->sneks==0.0.1) (1.6.3)\n",
      "Requirement already satisfied: pyglet<=1.5.15,>=1.4.0 in c:\\users\\33616\\appdata\\local\\programs\\python\\python38\\lib\\site-packages (from gym->sneks==0.0.1) (1.5.15)\n",
      "Installing collected packages: sneks\n",
      "  Running setup.py develop for sneks\n",
      "Successfully installed sneks-0.0.1\n"
     ]
    },
    {
     "name": "stderr",
     "output_type": "stream",
     "text": [
      "WARNING: You are using pip version 21.1.1; however, version 21.1.3 is available.\n",
      "You should consider upgrading via the 'c:\\users\\33616\\appdata\\local\\programs\\python\\python38\\python.exe -m pip install --upgrade pip' command.\n"
     ]
    }
   ],
   "source": [
    "!git clone https://github.com/nicomon24/Sneks\n",
    "!cd Sneks && git reset --hard db0c55e8f367fe88b71dd1ffd3c8930f475376a5\n",
    "!pip install -e ./Sneks"
   ]
  },
  {
   "cell_type": "markdown",
   "metadata": {},
   "source": [
    "If you are running on windows, execute this cell to complete the installation:"
   ]
  },
  {
   "cell_type": "code",
   "execution_count": 2,
   "metadata": {},
   "outputs": [
    {
     "name": "stdout",
     "output_type": "stream",
     "text": [
      "        1 r‚pertoires d‚plac‚s.\n",
      "        1 r‚pertoires d‚plac‚s.\n"
     ]
    }
   ],
   "source": [
    "!move ./Sneks/sneks ./snek\n",
    "!rd /s /q Sneks\n",
    "!move ./snek ./sneks"
   ]
  },
  {
   "cell_type": "markdown",
   "metadata": {},
   "source": [
    "Linux lovers, here is yours:"
   ]
  },
  {
   "cell_type": "code",
   "execution_count": 5,
   "metadata": {},
   "outputs": [
    {
     "name": "stderr",
     "output_type": "stream",
     "text": [
      "'mv' n'est pas reconnu en tant que commande interne\n",
      "ou externe, un programme ex‚cutable ou un fichier de commandes.\n",
      "'rm' n'est pas reconnu en tant que commande interne\n",
      "ou externe, un programme ex‚cutable ou un fichier de commandes.\n",
      "Le fichier sp‚cifi‚ est introuvable.\n"
     ]
    }
   ],
   "source": [
    "!mv ./Sneks/sneks ./snek\n",
    "!rm -rf gym-snake\n",
    "!move ./snek ./sneks"
   ]
  },
  {
   "cell_type": "markdown",
   "metadata": {},
   "source": [
    "# Basics of gym\n",
    "\n",
    "Now that we have the environment ready to be used, we will focus on how this works.\n",
    "Let's import the newly set environment."
   ]
  },
  {
   "cell_type": "code",
   "execution_count": 3,
   "metadata": {},
   "outputs": [],
   "source": [
    "import gym #Import gym library from OpenAI\n",
    "import sneks\n",
    "\n",
    "env = gym.make('babysnek-raw-16-v1') #Create the environment."
   ]
  },
  {
   "cell_type": "markdown",
   "metadata": {},
   "source": [
    "If the above cell did not execute correctly, please check you correctly have correctly have the sneks folder in the same directory of the notebook. It should be without any caps!\n",
    "\n",
    "<center><img src=\"ipynb_images/install_snake.jpg\"></img></center><br>"
   ]
  },
  {
   "cell_type": "markdown",
   "metadata": {},
   "source": [
    "Ok. Now that your installation works and we created the environment, let's see how it works..."
   ]
  },
  {
   "cell_type": "code",
   "execution_count": 4,
   "metadata": {},
   "outputs": [],
   "source": [
    "env.reset(); #This function is to call before each \"game\" your neural network will run.\n",
    "#This will restart the game.\n",
    "#The function returns a matrice of the observation state. I'll get back to this later."
   ]
  },
  {
   "cell_type": "code",
   "execution_count": 5,
   "metadata": {},
   "outputs": [],
   "source": [
    "env.render(); #This function is used to render a visual representation of what's going on in the game.\n",
    "#You should see a window opening. If it freezes, it's normal. Don't panic!"
   ]
  },
  {
   "cell_type": "markdown",
   "metadata": {},
   "source": [
    "Generally, the <i>env.render()</i> function is called when you want to see what your neural network does.<br>\n",
    "However, you will see we will that most of the time we will not use this function.<br>\n",
    "We want to train an agent and train it fast. Rendering is done at the same time the game is played, which reduces a lot the time performance!<br><br><br>\n",
    "Now that we have started the environment we will play random actions to display how things work.<br>If you were in Mario, this action could be \"move right, move left, jump...\". Here, it is the movement of the snake we want to see."
   ]
  },
  {
   "cell_type": "code",
   "execution_count": 6,
   "metadata": {},
   "outputs": [
    {
     "data": {
      "text/plain": [
       "Discrete(4)"
      ]
     },
     "execution_count": 6,
     "metadata": {},
     "output_type": "execute_result"
    }
   ],
   "source": [
    "env.action_space #Shows what is the structure of the expected input"
   ]
  },
  {
   "cell_type": "markdown",
   "metadata": {},
   "source": [
    "The action_space is part of our environment. It describe here that we can give 4 different actions : 0, 1, 2 and 3.<br><br>\n",
    "The environment is said <b><u>discrete</u></b> which means you can only select integer number.<br>\n",
    "Discrete is opposed to <b><u>continuous</u></b>, which represents continuous variable.<br><br>\n",
    "A discrete variable could be the face of a dice, it can only be 1, 2, 3, 4, 5 or 6.<br>But if you think of the weight of your dog, you would have something like 17,841Kg.<br>\n",
    "Your dog don't come from 17Kg to 18Kg as a \"jump\". His weights <u>continuously</u> grows from 17 to 18. This is a continuous variable!"
   ]
  },
  {
   "cell_type": "code",
   "execution_count": 7,
   "metadata": {},
   "outputs": [
    {
     "data": {
      "text/plain": [
       "2"
      ]
     },
     "execution_count": 7,
     "metadata": {},
     "output_type": "execute_result"
    }
   ],
   "source": [
    "env.action_space.sample() #Calls a random possible movement of the snake, an integer between 0 and 4."
   ]
  },
  {
   "cell_type": "markdown",
   "metadata": {},
   "source": [
    "Now that we know what to send to the environment, we want our movement to be taken into consideration. For this, we will call the **env.step()** function.<br>\n",
    "It returns the following information:<br>\n",
    "- <u>Observation:</u> This is how the environment looks after your action. It allows you to track the movement of your snake. The observation is given when you execute a step and when you call *env.reset()*\n",
    "- <u>reward:</u> The reward acquired in the last action. Did your snake eat the red dot ? If yes, this is a reward.\n",
    "- <u>done:</u> Can you still play ? If your snake ate his tail or ran in the cliff... your game is finished. This is shown by a done set to True.\n",
    "- <u>info:</u> Any additionnal information given by the environment."
   ]
  },
  {
   "cell_type": "code",
   "execution_count": 8,
   "metadata": {},
   "outputs": [
    {
     "data": {
      "text/plain": [
       "(array([[  0.,   0.,   0.,   0.,   0.,   0.,   0.,   0.,   0.,   0.,   0.,\n",
       "           0.,   0.,   0.,   0.,   0.],\n",
       "        [  0.,   0.,   0.,   0.,   0.,   0.,   0.,   0.,   0.,   0.,   0.,\n",
       "           0.,   0.,   0.,   0.,   0.],\n",
       "        [  0.,   0.,   0.,   0.,   0.,   0.,   0.,   0.,   0.,   0.,   0.,\n",
       "           0.,   0.,   0.,   0.,   0.],\n",
       "        [  0.,   0.,   0.,   0.,   0.,   0.,   0.,   0.,   0.,   0.,   0.,\n",
       "           0.,   0.,   0.,   0.,   0.],\n",
       "        [  0.,   0.,   0.,   0.,   0.,   0., 100.,   0.,   0.,   0.,   0.,\n",
       "           0.,   0.,   0.,   0.,   0.],\n",
       "        [  0.,   0.,   0.,   0.,   0.,   0., 100.,   0.,   0.,   0.,   0.,\n",
       "           0.,   0.,   0.,   0.,   0.],\n",
       "        [  0.,   0.,   0.,   0.,   0.,   0., 100., 101.,   0.,   0.,   0.,\n",
       "           0.,   0.,   0., 255.,   0.],\n",
       "        [  0.,   0.,   0.,   0.,   0.,   0.,   0.,   0.,   0.,   0.,   0.,\n",
       "           0.,   0.,   0.,   0.,   0.],\n",
       "        [  0.,   0.,   0.,   0.,   0.,   0.,   0.,   0.,   0.,   0.,   0.,\n",
       "           0.,   0.,   0.,   0.,   0.],\n",
       "        [  0.,   0.,   0.,   0.,   0.,   0.,   0.,   0.,   0.,   0.,   0.,\n",
       "           0.,   0.,   0.,   0.,   0.],\n",
       "        [  0.,   0.,   0.,   0.,   0.,   0.,   0.,   0.,   0.,   0.,   0.,\n",
       "           0.,   0.,   0.,   0.,   0.],\n",
       "        [  0.,   0.,   0.,   0.,   0.,   0.,   0.,   0.,   0.,   0.,   0.,\n",
       "           0.,   0.,   0.,   0.,   0.],\n",
       "        [  0.,   0.,   0.,   0.,   0.,   0.,   0.,   0.,   0.,   0.,   0.,\n",
       "           0.,   0.,   0.,   0.,   0.],\n",
       "        [  0.,   0.,   0.,   0.,   0.,   0.,   0.,   0.,   0.,   0.,   0.,\n",
       "           0.,   0.,   0.,   0.,   0.],\n",
       "        [  0.,   0.,   0.,   0.,   0.,   0.,   0.,   0.,   0.,   0.,   0.,\n",
       "           0.,   0.,   0.,   0.,   0.],\n",
       "        [  0.,   0.,   0.,   0.,   0.,   0.,   0.,   0.,   0.,   0.,   0.,\n",
       "           0.,   0.,   0.,   0.,   0.]]),\n",
       " 0,\n",
       " False,\n",
       " {})"
      ]
     },
     "execution_count": 8,
     "metadata": {},
     "output_type": "execute_result"
    }
   ],
   "source": [
    "env.step(env.action_space.sample())"
   ]
  },
  {
   "cell_type": "markdown",
   "metadata": {},
   "source": [
    "If you look at your opened window, you will see the black point did not move. It is because we need to call the env.render() to get an update."
   ]
  },
  {
   "cell_type": "code",
   "execution_count": 9,
   "metadata": {},
   "outputs": [
    {
     "name": "stdout",
     "output_type": "stream",
     "text": [
      "(array([[  0.,   0.,   0.,   0.,   0.,   0.,   0.,   0.,   0.,   0.,   0.,\n",
      "          0.,   0., 255.,   0.,   0.],\n",
      "       [  0.,   0.,   0.,   0.,   0.,   0.,   0.,   0.,   0.,   0.,   0.,\n",
      "          0.,   0.,   0.,   0.,   0.],\n",
      "       [  0.,   0.,   0.,   0.,   0.,   0.,   0.,   0.,   0.,   0.,   0.,\n",
      "          0.,   0.,   0.,   0.,   0.],\n",
      "       [  0.,   0.,   0.,   0.,   0.,   0.,   0.,   0., 101.,   0.,   0.,\n",
      "          0.,   0.,   0.,   0.,   0.],\n",
      "       [  0.,   0.,   0.,   0.,   0.,   0.,   0.,   0., 100., 100., 100.,\n",
      "          0.,   0.,   0.,   0.,   0.],\n",
      "       [  0.,   0.,   0.,   0.,   0.,   0.,   0.,   0.,   0.,   0.,   0.,\n",
      "          0.,   0.,   0.,   0.,   0.],\n",
      "       [  0.,   0.,   0.,   0.,   0.,   0.,   0.,   0.,   0.,   0.,   0.,\n",
      "          0.,   0.,   0.,   0.,   0.],\n",
      "       [  0.,   0.,   0.,   0.,   0.,   0.,   0.,   0.,   0.,   0.,   0.,\n",
      "          0.,   0.,   0.,   0.,   0.],\n",
      "       [  0.,   0.,   0.,   0.,   0.,   0.,   0.,   0.,   0.,   0.,   0.,\n",
      "          0.,   0.,   0.,   0.,   0.],\n",
      "       [  0.,   0.,   0.,   0.,   0.,   0.,   0.,   0.,   0.,   0.,   0.,\n",
      "          0.,   0.,   0.,   0.,   0.],\n",
      "       [  0.,   0.,   0.,   0.,   0.,   0.,   0.,   0.,   0.,   0.,   0.,\n",
      "          0.,   0.,   0.,   0.,   0.],\n",
      "       [  0.,   0.,   0.,   0.,   0.,   0.,   0.,   0.,   0.,   0.,   0.,\n",
      "          0.,   0.,   0.,   0.,   0.],\n",
      "       [  0.,   0.,   0.,   0.,   0.,   0.,   0.,   0.,   0.,   0.,   0.,\n",
      "          0.,   0.,   0.,   0.,   0.],\n",
      "       [  0.,   0.,   0.,   0.,   0.,   0.,   0.,   0.,   0.,   0.,   0.,\n",
      "          0.,   0.,   0.,   0.,   0.],\n",
      "       [  0.,   0.,   0.,   0.,   0.,   0.,   0.,   0.,   0.,   0.,   0.,\n",
      "          0.,   0.,   0.,   0.,   0.],\n",
      "       [  0.,   0.,   0.,   0.,   0.,   0.,   0.,   0.,   0.,   0.,   0.,\n",
      "          0.,   0.,   0.,   0.,   0.]]), 0, False, {})\n"
     ]
    }
   ],
   "source": [
    "env.reset();\n",
    "print(env.step(env.action_space.sample()))\n",
    "env.render();"
   ]
  },
  {
   "cell_type": "markdown",
   "metadata": {},
   "source": [
    "As you can see, the env.step() function returns a full matrice a observation.<br>\n",
    "- 0 means you have nothing on the cell\n",
    "- 255 is the food\n",
    "- 101 is the head of the snake\n",
    "- 100 is the tail of the snake<br><br>"
   ]
  },
  {
   "cell_type": "code",
   "execution_count": 10,
   "metadata": {},
   "outputs": [],
   "source": [
    "#Generally, each 4 values are extracted as follow:\n",
    "observation, reward, done, info = env.step(env.action_space.sample())"
   ]
  },
  {
   "cell_type": "markdown",
   "metadata": {},
   "source": [
    "Now that we understand how Gym works we will start working on the neural network."
   ]
  },
  {
   "cell_type": "markdown",
   "metadata": {},
   "source": [
    "# The Neural network\n",
    "## Data flow\n",
    "\n",
    "When you enter in this new chapter, you should have already the basics of our building blocs from this <a href=\"https://github.com/alexandrelefourner/neural_networks_tutorial/blob/master/1.%20Neural%20Network%20principles%20exercices.ipynb\" target=\"_blank\">previous tutorial</a>. If not, I hardly recommend you to get a look at it.<br>\n",
    "<br>\n",
    "<br>\n",
    "From what we saw with the gym environment, we need to select 1 out of 4 different numbers.\n",
    "<br>This means our neural network will have 4 output neurons : One neuron for each decision.<br>\n",
    "\n",
    "<center><img src=\"ipynb_images/neural_network_1.jpg\"></img></center><br><br>\n",
    "\n",
    "We feed the observation (each pixel) at the entrance of the neural network.<br>\n",
    "Next, the information of the observation flows among the different layer of the neural network, up to the output layer.<br>\n",
    "The neuron which lights at the end makes the decision to move the snake.<br><br>\n",
    "\n",
    "## Genetic Algorithm Principles\n",
    "\n",
    "Now that we understand how a decision wil be made to move the snake, we need to find out how to optimize this decision.<br>\n",
    "For this, we will use a particular approach called _Genetic Algorithm_ which is based on evolution.<br>\n",
    "The idea is to run an import number of simulations of similar networks. Once the simulation finished, we will check which network performed at best. Let's image 4 different networks:\n",
    "- N1 got a score of -4\n",
    "- N2 got a score of 31\n",
    "- N3 got a score of 2\n",
    "- N4 got a score of 10\n",
    "\n",
    "We will take the best neural network (N2) and slightly modify it in multiple new versions (N2'1, N2'2, N2'3,...).<br><br>\n",
    "This modification leads to a second generation of networks (N2').<br><br>\n",
    "Being different, the networks may give different scores. We run new simulations and check the results:<br>\n",
    "- N2'1 got a score of 32\n",
    "- N2'2 got a score of 20\n",
    "- N2'3 got a score of -2\n",
    "- N2'4 got a score of 35\n",
    "\n",
    "\n",
    "We take N2'4 to breed a new genertion and check again the results:<br>\n",
    "- N2'4'1 got a score of 17\n",
    "- N2'4'2 got a score of 60\n",
    "- N2'4'3 got a score of 41\n",
    "- N2'4'4 got a score of 28\n",
    "\n",
    "N2'4'3 got the best result. We use it for next generation, etc...<br><br>\n",
    "Progressively, we expect our networks to find the best structure to answer our problem.<br>\n",
    "Let's create the first building block of our networks."
   ]
  },
  {
   "cell_type": "markdown",
   "metadata": {},
   "source": [
    "## Neural Network Skeleton & Forward pass"
   ]
  },
  {
   "cell_type": "code",
   "execution_count": 11,
   "metadata": {},
   "outputs": [
    {
     "data": {
      "text/plain": [
       "Box(0.0, 255.0, (16, 16), float32)"
      ]
     },
     "execution_count": 11,
     "metadata": {},
     "output_type": "execute_result"
    }
   ],
   "source": [
    "env.observation_space #We check the structure of the observation space."
   ]
  },
  {
   "cell_type": "markdown",
   "metadata": {},
   "source": [
    "The input to give is a table of 16x16, as we saw previously.<br>\n",
    "We will see in the future specific architecture which look at pixel and their surrouding, using <u>convolution</u>. For now however, we are not going to go that deep yet. Let's make it simple!<br>\n",
    "We will consider each pixel separetely and flatten our representation :<br><br>\n",
    "\n",
    "\n",
    "<center><img src=\"ipynb_images/flattening.jpg\"></img></center><br><br>"
   ]
  },
  {
   "cell_type": "code",
   "execution_count": 12,
   "metadata": {},
   "outputs": [],
   "source": [
    "import numpy as np #We will use numpy to speed up calculation."
   ]
  },
  {
   "cell_type": "markdown",
   "metadata": {},
   "source": [
    "Numpy is a python library based on C. This makes the calculations faster.<br>\n",
    "If you plan to do neural networks or compure science, you should really master the <a href=\"\" target=\"_blank\">basics of numpy</a>.<br>"
   ]
  },
  {
   "cell_type": "code",
   "execution_count": 13,
   "metadata": {},
   "outputs": [],
   "source": [
    "class NeuralNetwork():\n",
    "    def __init__(self): #Called when the model is created.\n",
    "        self._layers = [] #We create a list which will contain all our layers information\n",
    "        self._outputs = np.ones(4) #We create the output neurons of our neural network.\n",
    "\n",
    "    def forward(self, inputs):#Called when the model must make a prediction.\n",
    "        inputs = inputs.reshape(-1) #We create a 16x16 table and flatten it.\n",
    "                                     #each cell of this table will be a neuron.\n",
    "        pass\n",
    "    \n",
    "    def mutate(self):#Called when the model is selected to breed a new generation.\n",
    "        pass"
   ]
  },
  {
   "cell_type": "markdown",
   "metadata": {},
   "source": [
    "We now have the skeleton of our neural network.<br>\n",
    "To calculate the dataflow, we could simply multiply each neuron separately... but this would be very long. Numpy helps us to do it faster through matrix multiplications.<br>\n",
    "Imagine you have a neural network of 2 layers : 5 input neurons, 2 output neurons.<br><br>\n",
    "<center><img src=\"ipynb_images/neural_network_2.jpg\"></img></center><br><br>\n",
    "For each neuron of the second layer, you need to multiply each 5 neurons by their weights and sum them.\n",
    "This makes 10 different multiplication and 10 more additions.<br>\n",
    "\n",
    "No1 = Ni1\\*$W_{1}^{1}$ + Ni2\\*$W_{1}^{2}$ + Ni3\\*$W_{1}^{3}$ + Ni4\\*$W_{1}^{4}$ + Ni5\\*$W_{1}^{5}$<br>\n",
    "No2 = Ni1\\*$W_{2}^{1}$ + Ni2\\*$W_{2}^{2}$ + Ni3\\*$W_{2}^{3}$ + Ni4\\*$W_{2}^{4}$ + Ni5\\*$W_{2}^{5}$<br>\n",
    "\n",
    "Lucky for us, the multiplication can be done in parallel, which means through parallelization, we can be up to 10 times faster when computing each layer.<br>\n",
    "<br>\n",
    "We need for this to compute through matrix multiplications. The value of our input is stored in a matrice (here, a vector because we only have 1 dimension) and the weights in a second matrice.<br>\n",
    "By multiplying both, we are able to get our neurons value.<br><br>\n",
    "<center><img src=\"ipynb_images/matmul.jpg\"></img></center><br><br>"
   ]
  },
  {
   "cell_type": "code",
   "execution_count": 14,
   "metadata": {},
   "outputs": [
    {
     "data": {
      "text/plain": [
       "array([[0],\n",
       "       [1],\n",
       "       [2],\n",
       "       [3],\n",
       "       [4]])"
      ]
     },
     "execution_count": 14,
     "metadata": {},
     "output_type": "execute_result"
    }
   ],
   "source": [
    "input_layer = np.arange(5).reshape((5,1)) #We create the matrice NiX\n",
    "input_layer"
   ]
  },
  {
   "cell_type": "code",
   "execution_count": 15,
   "metadata": {},
   "outputs": [
    {
     "data": {
      "text/plain": [
       "array([[0, 1, 2, 3, 4],\n",
       "       [5, 6, 7, 8, 9]])"
      ]
     },
     "execution_count": 15,
     "metadata": {},
     "output_type": "execute_result"
    }
   ],
   "source": [
    "weights_layer = np.arange(10).reshape((2,5)) #We generate the weights\n",
    "weights_layer"
   ]
  },
  {
   "cell_type": "code",
   "execution_count": 16,
   "metadata": {},
   "outputs": [
    {
     "data": {
      "text/plain": [
       "array([[30],\n",
       "       [80]])"
      ]
     },
     "execution_count": 16,
     "metadata": {},
     "output_type": "execute_result"
    }
   ],
   "source": [
    "output_layer = np.matmul(weights_layer,input_layer) #We calculate the multiplication\n",
    "output_layer"
   ]
  },
  {
   "cell_type": "markdown",
   "metadata": {},
   "source": [
    "Our forward pass will use matrices multiplications. Therefore, we can edit our neural network to match this idea. "
   ]
  },
  {
   "cell_type": "code",
   "execution_count": 17,
   "metadata": {},
   "outputs": [],
   "source": [
    "def activate(layer): #the neuron equals 1 if the sum is superior equal to 1.\n",
    "                    #Otherwise, it's 0.\n",
    "    return np.where(layer >= 1, 1, 0)\n",
    "\n",
    "class NeuralNetwork():\n",
    "    def __init__(self):\n",
    "        self._layers = []\n",
    "        self._outputs = np.ones(4)\n",
    "\n",
    "    def forward(self, inputs):\n",
    "        inputs = inputs.reshape((-1,1)) #Please note that we reshape with (-1,1) to have it as a matrice.\n",
    "                                        #Having at least 2 dimensions is required for numpy to calculate matmul.\n",
    "        \n",
    "        for layer in self._layers: #We iterate through each layer.\n",
    "            #layer contain the weights of the layer.\n",
    "            #if we multiply them by the inputs, we get the value of the second layer\n",
    "            #(we will need to activate them, but let's get to this after!)\n",
    "            \n",
    "            inputs = np.matmul(layer,inputs) #inputs now contains the value of the layer.\n",
    "                                            #This layer will be used as input for the next layer.\n",
    "            inputs = activate(inputs) #We don't forget to active the value!\n",
    "        \n",
    "        #inputs now contains the value of the last layer.\n",
    "        #We perform the matrix multiplication based on our self.output\n",
    "        \n",
    "        #With the actual code... it would not work, because our self._outputs is not a matrice.\n",
    "        #but we will fix it in the next cells.\n",
    "        \n",
    "        output_layer = np.matmul(self._outputs, inputs) \n",
    "        \n",
    "        return activate(output_layer)\n",
    "    \n",
    "    def mutate(self):\n",
    "        pass"
   ]
  },
  {
   "cell_type": "markdown",
   "metadata": {},
   "source": [
    "The code is getting closer and closer to what we want... however, we have a multiple problems yet:\n",
    "- The code does not contain any layer and thus, it cannot work (but we will work on that later!)\n",
    "- Since the network only fires 0 and 1... what to do if 2 neurons of the output layer fire ?\n",
    "\n",
    "If the network says \"go up\" and \"go down\" at the same time, we could randomly take one... But this points another problem we did not touch yet : Continuous and discrete space.<br><br>\n",
    "Up to now, we built the blocks by getting inspired with the biological system. The rule of the \"all or none\" : A neuron fires an electric impulse, or it does not.<br>\n",
    "<br>\n",
    "If we want to make a decision however, we are not always \"100% sure\" of something. We base our decisions on a part of uncertainety:<br>\n",
    "- \"I am not totally sure I can jump to this high\"\n",
    "- \"I may be able to gain a few minute if I drive through this road\"\n",
    "\n",
    "All of this mean means \"part of me think it might be possible, but another don't...\". To base my decision, I inconsciently measure what part think it might succeed and what part think it might fail. Sometimes, we are even unable to make a choice : we know we don't have enough information to make a rational decision.<br>\n",
    "This is this idea of uncertainety that we will develop in the next part."
   ]
  },
  {
   "cell_type": "markdown",
   "metadata": {},
   "source": [
    "## Continuous Activation function\n",
    "\n",
    "Remember when we discussed about the threshold ?... Well, here comes our problem. if we plot our current activation functon, we will get something like this :"
   ]
  },
  {
   "cell_type": "code",
   "execution_count": 18,
   "metadata": {},
   "outputs": [
    {
     "data": {
      "image/png": "[encoded data removed]",
      "text/plain": [
       "<Figure size 432x288 with 1 Axes>"
      ]
     },
     "metadata": {
      "needs_background": "light"
     },
     "output_type": "display_data"
    }
   ],
   "source": [
    "import matplotlib.pyplot as plt\n",
    "\n",
    "space = np.arange(-3, 3, 0.02)\n",
    "activated = np.where(space >=1, 1, 0)\n",
    "plt.plot(space,space, color = \"blue\");\n",
    "plt.plot(space,activated, color = \"orange\");\n",
    "plt.title(\"Neuron value in blue, once activate in orange (all or none)\")\n",
    "plt.axvline(0, color=\"red\", alpha = 0.2);\n",
    "plt.axhline(0, color=\"red\", alpha = 0.2);"
   ]
  },
  {
   "cell_type": "code",
   "execution_count": 19,
   "metadata": {
    "scrolled": true
   },
   "outputs": [
    {
     "data": {
      "image/png": "[encoded data removed]",
      "text/plain": [
       "<Figure size 432x288 with 1 Axes>"
      ]
     },
     "metadata": {
      "needs_background": "light"
     },
     "output_type": "display_data"
    }
   ],
   "source": [
    "activated = np.where(space >=1, 1, np.where(space <0, 0, space))\n",
    "plt.plot(space,space, color = \"blue\");\n",
    "plt.plot(space,activated, color = \"orange\");\n",
    "plt.title(\"Continuous activation between 0 and 1\")\n",
    "plt.axvline(0, color=\"red\", alpha = 0.2);\n",
    "plt.axhline(0, color=\"red\", alpha = 0.2);"
   ]
  },
  {
   "cell_type": "markdown",
   "metadata": {},
   "source": [
    "This activation function is better than the previous, because we now have a continuous activation.<br>\n",
    "They are a vast number of activation, that you can find below. We will detail them more and see why they are so important in the next chapters."
   ]
  },
  {
   "cell_type": "code",
   "execution_count": 20,
   "metadata": {
    "scrolled": true
   },
   "outputs": [
    {
     "data": {
      "image/png": "[encoded data removed]",
      "text/plain": [
       "<Figure size 432x288 with 1 Axes>"
      ]
     },
     "metadata": {
      "needs_background": "light"
     },
     "output_type": "display_data"
    },
    {
     "data": {
      "image/png": "[encoded data removed]",
      "text/plain": [
       "<Figure size 432x288 with 1 Axes>"
      ]
     },
     "metadata": {
      "needs_background": "light"
     },
     "output_type": "display_data"
    },
    {
     "data": {
      "image/png": "[encoded data removed]",
      "text/plain": [
       "<Figure size 432x288 with 1 Axes>"
      ]
     },
     "metadata": {
      "needs_background": "light"
     },
     "output_type": "display_data"
    },
    {
     "data": {
      "image/png": "[encoded data removed]",
      "text/plain": [
       "<Figure size 432x288 with 1 Axes>"
      ]
     },
     "metadata": {
      "needs_background": "light"
     },
     "output_type": "display_data"
    }
   ],
   "source": [
    "from lexml import lexmlcourses\n",
    "lexmlcourses.display_activations_functions();"
   ]
  },
  {
   "cell_type": "markdown",
   "metadata": {},
   "source": [
    "Our activation function tried to contrain the flow between 0 and 1. However, it does not give possibility to have values in between.<br>\n",
    "Instead, we may use something which takes all values between 0 and 1, but reduce all values more than 1 to 1 and everything negative to 0.<br>\n",
    "During this project, we will use sigmoid at the end of each layer. The idea behind is to keep some information from each gate, even if it is not that much.<br>\n",
    "<br>\n",
    "But what about our final layer ?... Even if the probability to get the same value for 2 neurons is inferior with sigmoid than it was with the All-or-None gate; we may prefere specific activation function, like <a href=\"https://en.wikipedia.org/wiki/Softmax_function\">Softmax</a>.<br><br>\n",
    "\n",
    "<center><img src=\"ipynb_images/softmaxfunction.jpg\"></img></center><br><br>\n",
    "\n",
    "If you did not do too much calculus in school Softmax may seem a bit complicated at first, but don't worry, it is not.<br>\n",
    "If you have to remember one thing : If I activate all neurons of a layer with softmax, the sum of their activation will be 1.<br>\n",
    "In genetic algorithm, we may not find a huge difference in performance compared to sigmoid.<br>\n",
    "In the next chapter however, you will see more its efficiency.<br>"
   ]
  },
  {
   "cell_type": "code",
   "execution_count": 21,
   "metadata": {},
   "outputs": [],
   "source": [
    "def sigmoid_activate(layer): #Sigmoid function\n",
    "    return 1/(1+np.exp(-layer))\n",
    "\n",
    "\n",
    "def softmax_activate(layer): #Softmax function\n",
    "    m = np.exp(layer)\n",
    "    return m/m.sum(len(layer.shape)-1)"
   ]
  },
  {
   "cell_type": "code",
   "execution_count": 22,
   "metadata": {},
   "outputs": [],
   "source": [
    "class NeuralNetwork():\n",
    "    def __init__(self):\n",
    "        self._layers = []\n",
    "        self._outputs = np.ones(4)\n",
    "\n",
    "    def forward(self, inputs):\n",
    "        inputs = inputs.reshape((-1,1))\n",
    "        \n",
    "        for layer in self._layers:\n",
    "            inputs = np.matmul(layer,inputs)\n",
    "            inputs = sigmoid_activate(inputs) #Updated to sigmoid\n",
    "        \n",
    "        output_layer = np.matmul(self._outputs, inputs)\n",
    "            #Does not take into account the different size of the matrix.\n",
    "            #We will fix it soon!\n",
    "        \n",
    "        return softmax_activate(output_layer)#Updated to softmax\n",
    "        \n",
    "\n",
    "    def mutate(self):\n",
    "        pass"
   ]
  },
  {
   "cell_type": "markdown",
   "metadata": {},
   "source": [
    "## Finishing the forward pass\n",
    "Up to now, we created a skeleton which can forward the data through different layers.<br>\n",
    "We will now prepare the intialization of our neural networks.<br>\n",
    "For this, we will initialize a certain number of layers with a certain size, but also adding the biases.<br>"
   ]
  },
  {
   "cell_type": "code",
   "execution_count": 23,
   "metadata": {},
   "outputs": [],
   "source": [
    "nb_layers = 3 #We set up 3 hidden layers.\n",
    "neurons = 25 #Neurons per layers"
   ]
  },
  {
   "cell_type": "code",
   "execution_count": 24,
   "metadata": {},
   "outputs": [],
   "source": [
    "class NeuralNetwork():\n",
    "    def __init__(self, observation_size): #We specify the observation\n",
    "        self._layers = []\n",
    "        self._biases = [] #we implement the biases\n",
    "        \n",
    "        for i in range(nb_layers):\n",
    "            entry_size = neurons if i != 0 else observation_size #First layer must match the input layer.\n",
    "                                                                #Remember : The input layer is all the map, flattened.\n",
    "            \n",
    "            #our weights values will be from -1 to 1.\n",
    "            self._layers.append(np.random.rand(neurons,entry_size)*2-1) #we initialize random values\n",
    "            self._biases.append(np.random.rand(neurons, 1)*2-1) #we initialize random values.\n",
    "        \n",
    "\n",
    "        self._outputs = np.random.rand(4,neurons)*2-1 #Output layer must contain a total of 4 cells.\n",
    "        #We don't add it into self._layers because we want to activate it with a softmax.\n",
    "\n",
    "\n",
    "    def forward(self, inputs):\n",
    "        inputs = inputs.reshape((-1,1))\n",
    "        \n",
    "\n",
    "        for layer, bias in zip(self._layers, self._biases): #we zip the biases to the layer\n",
    "            inputs = np.matmul(layer,inputs)\n",
    "            inputs = inputs+bias\n",
    "            inputs = sigmoid_activate(inputs)\n",
    "            \n",
    "        inputs = np.matmul(self._outputs, inputs) #(4,1)\n",
    "        inputs = inputs.reshape(-1) #Just a vector of 4 elements.\n",
    "        \n",
    "        \n",
    "        return softmax_activate(inputs)#Updated to softmax\n",
    "\n",
    "    def mutate(self):\n",
    "        pass"
   ]
  },
  {
   "cell_type": "code",
   "execution_count": 25,
   "metadata": {},
   "outputs": [
    {
     "name": "stdout",
     "output_type": "stream",
     "text": [
      "list of decision: [0.10310521 0.06612917 0.01276196 0.81800366]\n",
      "Decision taken: 3\n"
     ]
    }
   ],
   "source": [
    "#Let's test our forward pass\n",
    "obs_size = env.observation_space.shape[0] * env.observation_space.shape[1]\n",
    "Sample = NeuralNetwork(obs_size) #Creating a new agen.\n",
    "\n",
    "#random observation\n",
    "obs = np.random.rand(obs_size)\n",
    "\n",
    "choice = Sample.forward(obs)\n",
    "print(\"list of decision:\",choice)\n",
    "print(\"Decision taken:\",choice.argmax())"
   ]
  },
  {
   "cell_type": "markdown",
   "metadata": {},
   "source": [
    "We successly implemented the forward pass!\n",
    "Our agent is now able to take a decision based on the input we provide."
   ]
  },
  {
   "cell_type": "markdown",
   "metadata": {},
   "source": [
    "## First simulation\n",
    "\n",
    "Now that our agent can take a decision, we will generate an environment for it to run."
   ]
  },
  {
   "cell_type": "code",
   "execution_count": 26,
   "metadata": {},
   "outputs": [],
   "source": [
    "import time #used to wait between each frame.\n",
    "\n",
    "observation = env.reset()#We get the first element of the game.\n",
    "env.render() #We render it.\n",
    "\n",
    "done = False #While not True, the simulation runs.\n",
    "\n",
    "while(not done):\n",
    "    observation, reward, done, info = env.step(Sample.forward(observation).argmax()) #We exectue an action.\n",
    "    env.render() #We tell gym we want to render.\n",
    "    time.sleep(0.1) #Used for rendering."
   ]
  },
  {
   "cell_type": "markdown",
   "metadata": {},
   "source": [
    "Well... The snake moves but rush toward the cliff. Our Artificial Intelligence does not show too much intelligence... and it's normal. Its behavior is totally made through randomness.<br>\n",
    "\n"
   ]
  },
  {
   "cell_type": "markdown",
   "metadata": {},
   "source": [
    "# Genetic Algorithm\n",
    "\n",
    "## Creating candidates\n",
    "Now that we now how to run the algorithm, we can create a group of snake candidates and launch them into a feeding race. However, we want to track the evolution of the rewards, so we add it to the Snake object"
   ]
  },
  {
   "cell_type": "code",
   "execution_count": 27,
   "metadata": {},
   "outputs": [],
   "source": [
    "class NeuralNetwork():\n",
    "    def __init__(self, observation_size):\n",
    "        self._rewards = 0 #Number of registered rewards.\n",
    "        self._layers = []\n",
    "        self._biases = []\n",
    "        \n",
    "        for i in range(nb_layers):\n",
    "            entry_size = neurons if i != 0 else observation_size\n",
    "            self._layers.append(np.random.rand(neurons,entry_size)*2-1)\n",
    "            self._biases.append(np.random.rand(neurons,1)*2-1)\n",
    "        \n",
    "\n",
    "        self._outputs = np.random.rand(4,neurons)*2-1\n",
    "\n",
    "\n",
    "    def forward(self, inputs):\n",
    "        inputs = inputs.reshape((-1,1))\n",
    "        \n",
    "\n",
    "        for layer, bias in zip(self._layers, self._biases):\n",
    "            inputs = np.matmul(layer,inputs)\n",
    "            inputs = inputs+bias\n",
    "            inputs = sigmoid_activate(inputs)\n",
    "            \n",
    "        inputs = np.matmul(self._outputs, inputs)\n",
    "        inputs = inputs.reshape(-1)\n",
    "        \n",
    "        \n",
    "        return softmax_activate(inputs)\n",
    "\n",
    "    def mutate(self): #TODO\n",
    "        pass\n",
    "    \n",
    "    def set_reward(self, r): #We register the reward it got.\n",
    "        self._reward = r"
   ]
  },
  {
   "cell_type": "code",
   "execution_count": 28,
   "metadata": {},
   "outputs": [],
   "source": [
    "number_of_snakes = 200 #Your number of snakes (I'm sure you saw it comming. See, you understand by yourself ;)"
   ]
  },
  {
   "cell_type": "code",
   "execution_count": 29,
   "metadata": {},
   "outputs": [],
   "source": [
    "farm = []\n",
    "for _ in range(number_of_snakes):\n",
    "    S = NeuralNetwork(obs_size)\n",
    "    farm.append(S)"
   ]
  },
  {
   "cell_type": "markdown",
   "metadata": {},
   "source": [
    "Our farm is ready, we can now run a bunch of simulations with them.<br>\n",
    "As you may have seen however, everytime we restart the environment, we get different initial conditions... which may be a bias for the rest of the test (we want to select the best... but is it because you got once an A* in your life that you're a genius?... not really).<br>\n",
    "We will thus judge the results with a certain number of simulations."
   ]
  },
  {
   "cell_type": "code",
   "execution_count": 30,
   "metadata": {},
   "outputs": [],
   "source": [
    "def run_simulation(snake, nb_of_simulations=10):\n",
    "    \n",
    "    total_reward = 0 #Used to track the performance of the Snake.\n",
    "    \n",
    "    for _ in range(nb_of_simulations):\n",
    "        \n",
    "        observation = env.reset()\n",
    "        done = False\n",
    "        \n",
    "        while(not done):\n",
    "            observation, reward, done, info = env.step(snake.forward(observation).argmax()) #We exectue an action.\n",
    "            #env.render() #We DO NOT CALL RENDER HERE, we now need speed!\n",
    "            total_reward += reward\n",
    "    \n",
    "    snake.set_reward(total_reward)\n",
    "    \n",
    "    return total_reward"
   ]
  },
  {
   "cell_type": "code",
   "execution_count": 31,
   "metadata": {},
   "outputs": [],
   "source": [
    "from tqdm.notebook import tqdm #Used to follow the progression."
   ]
  },
  {
   "cell_type": "code",
   "execution_count": 32,
   "metadata": {
    "scrolled": true
   },
   "outputs": [
    {
     "data": {
      "application/vnd.jupyter.widget-view+json": {
       "model_id": "ac4407b1a7354832bf753d7e0ff7edf8",
       "version_major": 2,
       "version_minor": 0
      },
      "text/plain": [
       "  0%|          | 0/200 [00:00<?, ?it/s]"
      ]
     },
     "metadata": {},
     "output_type": "display_data"
    }
   ],
   "source": [
    "rewards = []\n",
    "for S in tqdm(farm):\n",
    "    rewards.append(run_simulation(S))"
   ]
  },
  {
   "cell_type": "markdown",
   "metadata": {},
   "source": [
    "We can now plot the results we got."
   ]
  },
  {
   "cell_type": "code",
   "execution_count": 33,
   "metadata": {},
   "outputs": [
    {
     "data": {
      "image/png": "[encoded data removed]",
      "text/plain": [
       "<Figure size 432x288 with 1 Axes>"
      ]
     },
     "metadata": {
      "needs_background": "light"
     },
     "output_type": "display_data"
    }
   ],
   "source": [
    "plt.hist(rewards, bins=200);"
   ]
  },
  {
   "cell_type": "markdown",
   "metadata": {},
   "source": [
    "You should normally see some snakes who could get some fruits. It might be because your neural network works already (but I'm very doubtful about that), or just because they were some fruits in their path to rush to the cliff.<br>\n",
    "Still, those are the candidates we will breed for the next generation."
   ]
  },
  {
   "cell_type": "code",
   "execution_count": 34,
   "metadata": {},
   "outputs": [],
   "source": [
    "percentage_saved = 0.1 #percentage of snakes which will be removed because they performance are too low\n",
    "chances_of_mutation = 1e-2 #Chance that a neuron mutates when a breeding occurs."
   ]
  },
  {
   "cell_type": "code",
   "execution_count": 35,
   "metadata": {},
   "outputs": [],
   "source": [
    "farm.sort(key=lambda snake: snake._reward, reverse=True) #We order our list based on reward."
   ]
  },
  {
   "cell_type": "code",
   "execution_count": 36,
   "metadata": {
    "scrolled": true
   },
   "outputs": [
    {
     "name": "stdout",
     "output_type": "stream",
     "text": [
      "Worst score was -10; best score was-2\n"
     ]
    }
   ],
   "source": [
    "print(\"Worst score was \"+str(farm[-1]._reward)+\"; best score was\"+str(farm[0]._reward))"
   ]
  },
  {
   "cell_type": "markdown",
   "metadata": {},
   "source": [
    "We now define the mutation which will be able to create new snake based on the best"
   ]
  },
  {
   "cell_type": "code",
   "execution_count": 37,
   "metadata": {},
   "outputs": [],
   "source": [
    "class NeuralNetwork():\n",
    "    def __init__(self, observation_size, isACopy=False): #We add the isACopy to track the copy of layers.\n",
    "        self._rewards = 0\n",
    "        self._layers = []\n",
    "        self._biases = []\n",
    "        \n",
    "        if(not isACopy):\n",
    "            for i in range(nb_layers):\n",
    "                entry_size = neurons if i != 0 else observation_size\n",
    "                self._layers.append(np.random.rand(neurons,entry_size)*2-1)\n",
    "                self._biases.append(np.random.rand(neurons,1)*2-1)\n",
    "\n",
    "\n",
    "            self._outputs = np.random.rand(4,neurons)*2-1\n",
    "\n",
    "\n",
    "    def forward(self, inputs):\n",
    "        inputs = inputs.reshape((-1,1))\n",
    "        \n",
    "\n",
    "        for layer, bias in zip(self._layers, self._biases):\n",
    "            inputs = np.matmul(layer,inputs)\n",
    "            inputs = inputs+bias\n",
    "            inputs = sigmoid_activate(inputs)\n",
    "            \n",
    "        inputs = np.matmul(self._outputs, inputs)\n",
    "        inputs = inputs.reshape(-1)\n",
    "        \n",
    "        \n",
    "        return softmax_activate(inputs)\n",
    "\n",
    "    def mutate(self):\n",
    "        new_snake = NeuralNetwork(self._layers[0].shape[1],isACopy=True) #Create a new object.\n",
    "        \n",
    "        for l in self._layers: #We copy the layers.. but we consider a possible mutation.\n",
    "            random_mutation_probs = np.random.rand(l.shape[0], l.shape[1])\n",
    "            #We create a mask that we will add to the layer.\n",
    "            random_mutation_probs = np.where(random_mutation_probs < chances_of_mutation,\n",
    "                                             (np.random.rand()-0.5)/2, 0)\n",
    "            new_l = l + random_mutation_probs #we add he possible mutations\n",
    "            new_snake._layers.append(new_l) #we affect the layer to the new snake.\n",
    "            \n",
    "            \n",
    "        for b in self._biases: #Same for biases\n",
    "            random_mutation_probs = np.random.rand(b.shape[0], 1)\n",
    "            random_mutation_probs = np.where(random_mutation_probs < chances_of_mutation,\n",
    "                                             (np.random.rand()-0.5)/2, 0)\n",
    "            new_l = b + random_mutation_probs\n",
    "            new_snake._biases.append(new_l)\n",
    "    \n",
    "    \n",
    "        random_mutation_probs = np.random.rand(self._outputs.shape[0],self._outputs.shape[1])\n",
    "        random_mutation_probs = np.where(random_mutation_probs < chances_of_mutation,\n",
    "                                         (np.random.rand()-0.5)/2, 0)\n",
    "        \n",
    "        new_l = self._outputs + random_mutation_probs\n",
    "        new_snake._outputs = new_l #Same for the output.\n",
    "        return new_snake\n",
    "\n",
    "    def set_reward(self, r):\n",
    "        self._reward = r"
   ]
  },
  {
   "cell_type": "code",
   "execution_count": 38,
   "metadata": {},
   "outputs": [
    {
     "data": {
      "application/vnd.jupyter.widget-view+json": {
       "model_id": "fd8024eefd884482bb9df9584c933abe",
       "version_major": 2,
       "version_minor": 0
      },
      "text/plain": [
       "  0%|          | 0/200 [00:00<?, ?it/s]"
      ]
     },
     "metadata": {},
     "output_type": "display_data"
    },
    {
     "data": {
      "image/png": "[encoded data removed]",
      "text/plain": [
       "<Figure size 432x288 with 1 Axes>"
      ]
     },
     "metadata": {
      "needs_background": "light"
     },
     "output_type": "display_data"
    },
    {
     "name": "stdout",
     "output_type": "stream",
     "text": [
      "Best reward this time :-6\n"
     ]
    },
    {
     "data": {
      "text/plain": [
       "-6"
      ]
     },
     "execution_count": 38,
     "metadata": {},
     "output_type": "execute_result"
    }
   ],
   "source": [
    "def restart_simulation(): #Useful when we change the code of the Neural Network... as actual snake won't be updated.\n",
    "    global farm\n",
    "    \n",
    "    for s in farm:\n",
    "        del(s) #Memory cleaning.\n",
    "        \n",
    "    farm = []\n",
    "    for _ in range(number_of_snakes):\n",
    "        S = NeuralNetwork(obs_size)\n",
    "        farm.append(S)\n",
    "\n",
    "def run_global_simulation(display_tqdm = True, display_graph = True, track_best = True): #We create a function which gives a run.\n",
    "    global farm\n",
    "    \n",
    "    rewards = []\n",
    "    \n",
    "    if(display_tqdm):\n",
    "        for S in tqdm(farm):\n",
    "            rewards.append(run_simulation(S))\n",
    "    else:\n",
    "        for S in farm:\n",
    "            rewards.append(run_simulation(S))\n",
    "    \n",
    "    if(display_graph):\n",
    "        plt.hist(rewards, bins=200);\n",
    "        plt.show();\n",
    "    \n",
    "    farm.sort(key=lambda snake: snake._reward, reverse=True) #We order our list based on reward.\n",
    "    \n",
    "    if(track_best):\n",
    "        print(\"Best reward this time :\"+str(farm[0]._reward))\n",
    "        \n",
    "    return farm[0]._reward #Used for ploting.\n",
    "        \n",
    "restart_simulation()\n",
    "run_global_simulation()\n"
   ]
  },
  {
   "cell_type": "code",
   "execution_count": 39,
   "metadata": {
    "scrolled": false
   },
   "outputs": [],
   "source": [
    "def darwin_cleaner():#Will clean the farm from the bad species.\n",
    "    global farm #We will edit the variable from the function.\n",
    "    \n",
    "    qte_to_keep = int(percentage_saved * len(farm))\n",
    "    new_farm = farm[:qte_to_keep] #The snakes we'll keep.\n",
    "    \n",
    "    new_species = []\n",
    "    for i in range(len(farm) - qte_to_keep):\n",
    "        father_snake = new_farm[i%qte_to_keep]\n",
    "        new_snake = father_snake.mutate()\n",
    "        new_species.append(new_snake)\n",
    "        \n",
    "    farm = new_farm + new_species"
   ]
  },
  {
   "cell_type": "code",
   "execution_count": 40,
   "metadata": {},
   "outputs": [],
   "source": [
    "darwin_cleaner()"
   ]
  },
  {
   "cell_type": "markdown",
   "metadata": {},
   "source": [
    "Let's try to some breeding... how about 15 generations to start ? (It's normal if it does not work!)"
   ]
  },
  {
   "cell_type": "code",
   "execution_count": 41,
   "metadata": {},
   "outputs": [
    {
     "data": {
      "application/vnd.jupyter.widget-view+json": {
       "model_id": "05f114dd2c984277adfc8aa0ec0d7172",
       "version_major": 2,
       "version_minor": 0
      },
      "text/plain": [
       "  0%|          | 0/15 [00:00<?, ?it/s]"
      ]
     },
     "metadata": {},
     "output_type": "display_data"
    },
    {
     "data": {
      "image/png": "[encoded data removed]",
      "text/plain": [
       "<Figure size 432x288 with 1 Axes>"
      ]
     },
     "metadata": {
      "needs_background": "light"
     },
     "output_type": "display_data"
    }
   ],
   "source": [
    "rewards = []\n",
    "for _ in tqdm(range(15)):\n",
    "    rewards.append(run_global_simulation(False, False, False))\n",
    "    darwin_cleaner()\n",
    "plt.plot(rewards);"
   ]
  },
  {
   "cell_type": "markdown",
   "metadata": {},
   "source": [
    "Unless you are lucky, your results will be disappointing, like if your algorithm is not learning anything.<br>\n",
    "Given the context, they are multiple elements which make it hard to learn :\n",
    "- Lack of clear information in the dimensions\n",
    "- Absence of normalization\n",
    "- Too many dimensions\n",
    "- Bad reward shaping\n",
    "- Not enough epochs"
   ]
  },
  {
   "cell_type": "markdown",
   "metadata": {},
   "source": [
    "## Dimensionality reduction\n",
    "\n",
    "If you begin in the field, let met warn you : Dimensionality reduction is a term you will often hear in Machine Learning. It is not a very complex idea to understand, and it represents a large domain of research.<br><br>\n",
    "<br>\n",
    "This is pretty simple : Is it easier for you to dedicate your attention on 3 different screens or thousands ?<br>\n",
    "Answer is simple : the less you have to focus on, the better you are.<br>\n",
    "In Machine Learning, it is the same. All non essential data are considered as *noise*. So you try to reduce the noise as much as you can, so your network is able to be more efficient.<br>\n",
    "Here, the main noise you have comes from the signification of observation neurons:\n",
    "\n",
    "- Sometimes, the input neuron indicates the tail of the snake\n",
    "- Sometimes, the input neuron indicates the fruit.\n",
    "- Sometimes, the input neuron indicates the head of the snake.\n",
    "- Somtimes, the input neurons indicates there is nothing on the cell.\n",
    "\n",
    "Each case is a dimensions, so we have here 4 dimensions.<br>\n",
    "Allowing the snake to understand where it is might thus be very hard.<br>\n",
    "Imagine the following scenario :\n",
    "\n",
    "<center><img src=\"ipynb_images/snake_next_to.jpg\"></img></center><br><br>\n",
    "\n",
    "Here, the Snake may have learnt that going up will give him the opportunity to earn a reward. However, this behavior is mapped to a specific neuron. Does the next image looks familiar ?\n",
    "\n",
    "<center><img src=\"ipynb_images/snake_next_to_bot.jpg\"></img></center><br><br>\n",
    "\n",
    "It is for us, because we think \"it only has to go on the top, like the previous one.\". However, this is a totally different neuron which gives the same information : \"a food is just up to you\". We see here how we could reduce the dimensions : Keeping it at the same place (let's say the center of the view).\n",
    "This way, the head is always in the center of the screen. The consequences are even greater :<br><br>\n",
    "\n",
    "<center><img src=\"ipynb_images/snake_next_to_diag.jpg\"></img></center><br><br>\n",
    "\n",
    "If the fruit is 1 cell in diagonal next to him... it will always be the same pattern to do, no matter where it is on the map.<br>\n",
    "Let's map him in the center of the map."
   ]
  },
  {
   "cell_type": "code",
   "execution_count": 42,
   "metadata": {},
   "outputs": [
    {
     "data": {
      "text/plain": [
       "array([101., 100., 100., 255.])"
      ]
     },
     "execution_count": 42,
     "metadata": {},
     "output_type": "execute_result"
    }
   ],
   "source": [
    "observation[observation != 0]"
   ]
  },
  {
   "cell_type": "markdown",
   "metadata": {},
   "source": [
    "In the above example, we see different parameters :\n",
    "- 101 : The head\n",
    "- 100 : The tail\n",
    "- 255 : the fruit.\n",
    "\n",
    "It is possible for us to localize the head thanks to the <a href=\"https://docs.scipy.org/doc/numpy/reference/generated/numpy.argwhere.html\">np.argwhere()</a> function."
   ]
  },
  {
   "cell_type": "code",
   "execution_count": 43,
   "metadata": {},
   "outputs": [
    {
     "data": {
      "text/plain": [
       "array([[9, 0]], dtype=int64)"
      ]
     },
     "execution_count": 43,
     "metadata": {},
     "output_type": "execute_result"
    }
   ],
   "source": [
    "np.argwhere(observation == 101)"
   ]
  },
  {
   "cell_type": "markdown",
   "metadata": {},
   "source": [
    "we can next use the np.roll() to set our head in the center."
   ]
  },
  {
   "cell_type": "code",
   "execution_count": 44,
   "metadata": {},
   "outputs": [
    {
     "data": {
      "text/plain": [
       "array([[0., 0., 0., 0., 0., 0., 0., 0., 0., 0., 0.],\n",
       "       [0., 0., 0., 0., 0., 0., 0., 0., 0., 0., 0.],\n",
       "       [0., 0., 0., 0., 0., 0., 0., 0., 0., 0., 0.],\n",
       "       [0., 0., 0., 0., 0., 0., 0., 0., 0., 0., 0.],\n",
       "       [0., 0., 0., 0., 0., 0., 0., 0., 0., 0., 0.],\n",
       "       [0., 0., 0., 0., 0., 0., 0., 0., 0., 0., 0.],\n",
       "       [0., 0., 0., 0., 0., 0., 0., 0., 0., 0., 0.],\n",
       "       [0., 0., 0., 1., 0., 0., 0., 0., 0., 0., 0.],\n",
       "       [0., 0., 0., 0., 0., 0., 0., 0., 0., 0., 0.],\n",
       "       [0., 0., 0., 0., 0., 0., 0., 0., 0., 0., 0.],\n",
       "       [0., 0., 0., 0., 0., 0., 0., 0., 0., 0., 0.]])"
      ]
     },
     "execution_count": 44,
     "metadata": {},
     "output_type": "execute_result"
    }
   ],
   "source": [
    "sample_env = np.zeros((11,11))\n",
    "sample_env[7][3]=1\n",
    "sample_env"
   ]
  },
  {
   "cell_type": "code",
   "execution_count": 45,
   "metadata": {},
   "outputs": [
    {
     "data": {
      "text/plain": [
       "array([[0., 0., 0., 0., 0., 0., 0., 0., 0., 0., 0.],\n",
       "       [0., 0., 0., 0., 0., 0., 0., 0., 0., 0., 0.],\n",
       "       [0., 0., 0., 0., 0., 0., 0., 0., 0., 0., 0.],\n",
       "       [0., 0., 0., 0., 0., 0., 0., 0., 0., 0., 0.],\n",
       "       [0., 0., 0., 0., 0., 0., 0., 0., 0., 0., 0.],\n",
       "       [0., 0., 0., 0., 0., 1., 0., 0., 0., 0., 0.],\n",
       "       [0., 0., 0., 0., 0., 0., 0., 0., 0., 0., 0.],\n",
       "       [0., 0., 0., 0., 0., 0., 0., 0., 0., 0., 0.],\n",
       "       [0., 0., 0., 0., 0., 0., 0., 0., 0., 0., 0.],\n",
       "       [0., 0., 0., 0., 0., 0., 0., 0., 0., 0., 0.],\n",
       "       [0., 0., 0., 0., 0., 0., 0., 0., 0., 0., 0.]])"
      ]
     },
     "execution_count": 45,
     "metadata": {},
     "output_type": "execute_result"
    }
   ],
   "source": [
    "localization = np.argwhere(sample_env == 1).reshape(-1)\n",
    "sample_env = np.roll(sample_env,int(sample_env.shape[0]/2)-localization[0], axis = 0)\n",
    "sample_env = np.roll(sample_env,int(sample_env.shape[1]/2)-localization[1], axis = 1)\n",
    "sample_env"
   ]
  },
  {
   "cell_type": "code",
   "execution_count": 46,
   "metadata": {},
   "outputs": [
    {
     "data": {
      "text/plain": [
       "array([[  0.,   0.,   0.,   0.,   0.],\n",
       "       [  0.,   0.,   0.,   0.,   0.],\n",
       "       [  0.,   0., 101., 100., 100.],\n",
       "       [  0.,   0., 255.,   0.,   0.],\n",
       "       [  0.,   0.,   0.,   0.,   0.]])"
      ]
     },
     "execution_count": 46,
     "metadata": {},
     "output_type": "execute_result"
    }
   ],
   "source": [
    "def update_observations(observation):\n",
    "\n",
    "    localization = np.argwhere(observation == 101).reshape(-1) #We localize the head\n",
    "    \n",
    "    observation = np.roll(observation,int(observation.shape[0]/2)-localization[0], axis = 0)#Then shift the game.\n",
    "    return np.roll(observation,int(observation.shape[1]/2)-localization[1], axis = 1)\n",
    "\n",
    "observations = update_observations(observation)\n",
    "observations[6:11,6:11]"
   ]
  },
  {
   "cell_type": "markdown",
   "metadata": {},
   "source": [
    "Head in center, we can see the tail with the 100... However, we added a problem when we solved the other : What about the cliff ?<br>\n",
    "We don't have anymore boundaries informing about the limit of the map!<br>\n",
    "Let's consider the following case :<br><br>\n",
    "\n",
    "<center><img src=\"ipynb_images/snake_opposit.jpg\"></img></center><br><br>\n",
    "\n",
    "With our current algorithm, this is shown as the following :"
   ]
  },
  {
   "cell_type": "code",
   "execution_count": 47,
   "metadata": {},
   "outputs": [
    {
     "data": {
      "text/plain": [
       "array([[  0.,   0.,   0.,   0.,   0.],\n",
       "       [  0.,   0.,   0.,   0.,   0.],\n",
       "       [100., 100., 101., 255.,   0.],\n",
       "       [  0.,   0.,   0.,   0.,   0.],\n",
       "       [  0.,   0.,   0.,   0.,   0.]])"
      ]
     },
     "execution_count": 47,
     "metadata": {},
     "output_type": "execute_result"
    }
   ],
   "source": [
    "example_observation = np.zeros(observations.shape)\n",
    "example_observation[4, example_observation.shape[1]-1] = 101\n",
    "example_observation[4, example_observation.shape[1]-2] = 100\n",
    "example_observation[4, example_observation.shape[1]-3] = 100\n",
    "example_observation[4, 0] = 255\n",
    "example_observation = update_observations(example_observation)#We apply or centering.\n",
    "example_observation[6:11,6:11] #We zoom"
   ]
  },
  {
   "cell_type": "markdown",
   "metadata": {},
   "source": [
    "The logical deduction for our algorithm would be \"If I go right, I get a reward\"... when it facts, not really. Instead, it looses the game. We need to \"inform\" the snake that it must go on the right.\n",
    "To do it... we will create boundaries around the map. A wall.<br><br>\n",
    "<center><img src=\"ipynb_images/snake_wall.jpg\"></img></center><br><br>\n",
    "Why did I choose this horrible green color you may ask ?... Well, it's because we can represent the risk of a wall like the tail. Touching the tail or the cliff with the head leads to the same effect : loosing the game.<br>\n",
    "By coding 101 both cliff and tail, we avoid to create a new dimension which would differentiate the tail from the cliff."
   ]
  },
  {
   "cell_type": "code",
   "execution_count": 48,
   "metadata": {},
   "outputs": [
    {
     "data": {
      "text/plain": [
       "array([[  0.,   0.,   0.,   0., 100., 100.,   0.],\n",
       "       [  0.,   0.,   0.,   0., 100., 100.,   0.],\n",
       "       [  0.,   0.,   0.,   0., 100., 100.,   0.],\n",
       "       [  0., 100., 100., 101., 100., 100., 255.],\n",
       "       [  0.,   0.,   0.,   0., 100., 100.,   0.],\n",
       "       [  0.,   0.,   0.,   0., 100., 100.,   0.],\n",
       "       [  0.,   0.,   0.,   0., 100., 100.,   0.]])"
      ]
     },
     "execution_count": 48,
     "metadata": {},
     "output_type": "execute_result"
    }
   ],
   "source": [
    "def update_observations(observation):\n",
    "    \n",
    "    cliffs = np.ones((observation.shape[0]+2,observation.shape[1]+2))#We clone the shape of the observation\n",
    "    cliffs *= 100 #We set up all values to 100 (tails = cliff)\n",
    "    cliffs[1:cliffs.shape[0]-1,1:cliffs.shape[1]-1] = observation #We paste our observatoin\n",
    "    \n",
    "    observation = cliffs #We transfer variables to reuse the same code.\n",
    "    \n",
    "    localization = np.argwhere(observation == 101).reshape(-1)\n",
    "    \n",
    "    observation = np.roll(observation,int(observation.shape[0]/2)-localization[0], axis = 0)\n",
    "    observation = np.roll(observation,int(observation.shape[1]/2)-localization[1], axis = 1)\n",
    "    \n",
    "    return observation\n",
    "\n",
    "observations = env.reset();\n",
    "example_observation = np.zeros(observations.shape)\n",
    "example_observation[4, example_observation.shape[1]-1] = 101\n",
    "example_observation[4, example_observation.shape[1]-2] = 100\n",
    "example_observation[4, example_observation.shape[1]-3] = 100\n",
    "example_observation[4, 0] = 255\n",
    "example_observation = update_observations(example_observation)#We apply or centering.\n",
    "example_observation[6:13, 6:13]"
   ]
  },
  {
   "cell_type": "markdown",
   "metadata": {},
   "source": [
    "The result is good : We see clearly a wall between the food and our snake... But, we added more difficulty : The surrounding square increased the number of 68. Something should be done with this...<br>\n",
    "So what about the nice view you see upper ? We don't need to display the full map... We can simply use a part of it to focus the network's attention.<br>"
   ]
  },
  {
   "cell_type": "code",
   "execution_count": 49,
   "metadata": {},
   "outputs": [
    {
     "data": {
      "text/plain": [
       "array([[  0.,   0.,   0.,   0.,   0.],\n",
       "       [  0.,   0.,   0.,   0.,   0.],\n",
       "       [100., 100., 101.,   0.,   0.],\n",
       "       [  0.,   0.,   0.,   0.,   0.],\n",
       "       [  0.,   0.,   0.,   0.,   0.]])"
      ]
     },
     "execution_count": 49,
     "metadata": {},
     "output_type": "execute_result"
    }
   ],
   "source": [
    "def update_observations(observation, view_size = 2):\n",
    "    assert view_size > 0, \"The agent cannot see the map if you don't set a view_size over 0!\"\n",
    "    \n",
    "    cliffs = np.ones((observation.shape[0]+2,observation.shape[1]+2))\n",
    "    cliffs *= 100\n",
    "    cliffs[1:cliffs.shape[0]-1,1:cliffs.shape[1]-1] = observation\n",
    "    \n",
    "    observation = cliffs\n",
    "    \n",
    "    localization = np.argwhere(observation == 101).reshape(-1)\n",
    "    \n",
    "    observation = np.roll(observation,int(observation.shape[0]/2)-localization[0], axis = 0)\n",
    "    observation = np.roll(observation,int(observation.shape[1]/2)-localization[1], axis = 1)\n",
    "    \n",
    "    \n",
    "    localization = np.argwhere(observation == 101).reshape(-1)\n",
    "    \n",
    "    \n",
    "    observation = observation[localization[0]-view_size:localization[0]+view_size+1,\n",
    "                       localization[1]-view_size:localization[1]+view_size+1] #We zoom\n",
    "    \n",
    "    return observation\n",
    "\n",
    "observation = update_observations(env.reset())\n",
    "observation"
   ]
  },
  {
   "cell_type": "markdown",
   "metadata": {},
   "source": [
    "Our observation is flatten by the network, therefore we can do it in our *update_observations* function.<br>\n",
    "Also, when we think about the center neuron, it will always remain the same : always the head of the snake. So let's remove it at the same time, we will decrease the number of dimension by 1 unnecessary.<br>"
   ]
  },
  {
   "cell_type": "code",
   "execution_count": 50,
   "metadata": {
    "scrolled": true
   },
   "outputs": [
    {
     "data": {
      "text/plain": [
       "array([  0.,   0.,   0.,   0.,   0.,   0.,   0.,   0.,   0.,   0., 100.,\n",
       "       100.,   0.,   0.,   0.,   0.,   0.,   0.,   0.,   0.,   0.,   0.,\n",
       "         0.,   0.])"
      ]
     },
     "execution_count": 50,
     "metadata": {},
     "output_type": "execute_result"
    }
   ],
   "source": [
    "def update_observations(observation, view_size = 2):\n",
    "    assert view_size > 0, \"The agent cannot see the map if you don't set a view_size over 0!\"\n",
    "    \n",
    "    cliffs = np.ones((observation.shape[0]+2,observation.shape[1]+2))\n",
    "    cliffs *= 100\n",
    "    cliffs[1:cliffs.shape[0]-1,1:cliffs.shape[1]-1] = observation\n",
    "    \n",
    "    observation = cliffs\n",
    "    \n",
    "    localization = np.argwhere(observation == 101).reshape(-1)\n",
    "    \n",
    "    observation = np.roll(observation,int(observation.shape[0]/2)-localization[0], axis = 0)\n",
    "    observation = np.roll(observation,int(observation.shape[1]/2)-localization[1], axis = 1)\n",
    "    \n",
    "    \n",
    "    localization = np.argwhere(observation == 101).reshape(-1)\n",
    "    \n",
    "    observation = observation[localization[0]-view_size:localization[0]+view_size+1,\n",
    "                       localization[1]-view_size:localization[1]+view_size+1]\n",
    "    \n",
    "    observation = np.reshape(observation, (-1)) #we flatten the view\n",
    "    localization = np.argwhere(observation == 101).reshape(-1)[0] #We get the offset of the head.\n",
    "    observation = np.delete(observation, localization)#We remove the head.\n",
    "    \n",
    "    return observation\n",
    "\n",
    "observation = update_observations(env.reset())\n",
    "observation"
   ]
  },
  {
   "cell_type": "markdown",
   "metadata": {},
   "source": [
    "So, let's make a recap. In this part we have :\n",
    "- Reduced the total number of view to 1\n",
    "- Remove the head dimension from the map\n",
    "- Inform specifically where the boundaries of the map are. If the network learns to recognize them, it will also learn to recognize its tail.\n",
    "- Reduced vision to 24 neurons\n",
    "\n",
    "Considering the last step divides by 10 the complexity of the vision, I am sure you see how much simpler this vision has become.<br>\n",
    "However now... how can the snake know where to find the apple ? It could roam randomly, but we will help him.<br>\n",
    "We could add a neuron to to state if it the fruit is up or down from him, and another if is on the right or left.<br>\n",
    "Let's just give a negative value if the index is before his, a positive if it is after."
   ]
  },
  {
   "cell_type": "code",
   "execution_count": 51,
   "metadata": {},
   "outputs": [
    {
     "data": {
      "text/plain": [
       "array([  0.,   0.,   0.,   0.,   0.,   0.,   0.,   0.,   0.,   0.,   0.,\n",
       "         0.,   0.,   0.,   0.,   0., 100.,   0.,   0.,   0.,   0., 100.,\n",
       "         0.,   0.,   0.,  -1.])"
      ]
     },
     "execution_count": 51,
     "metadata": {},
     "output_type": "execute_result"
    }
   ],
   "source": [
    "def update_observations(observation, view_size = 2):\n",
    "    assert view_size > 0, \"The agent cannot see the map if you don't set a view_size over 0!\"\n",
    "    \n",
    "    cliffs = np.ones((observation.shape[0]+2,observation.shape[1]+2))\n",
    "    cliffs *= 100\n",
    "    cliffs[1:cliffs.shape[0]-1,1:cliffs.shape[1]-1] = observation\n",
    "    \n",
    "    observation = cliffs\n",
    "    \n",
    "    localization = np.argwhere(observation == 101).reshape(-1)\n",
    "    \n",
    "    fruit_localization = np.argwhere(observation == 255).reshape(-1) #We localize the fruit.\n",
    "    high = (localization[0] - fruit_localization[0]) #We create a neuron (up or down)\n",
    "    width = (localization[1] - fruit_localization[1]) #Then a second (left or right)\n",
    "    high = min(max(-1,high),1) #We don't need to know the distance, let's make it simple : 1, 0 or -1\n",
    "    width = min(max(-1,width),1)\n",
    "    \n",
    "    observation = np.roll(observation,int(observation.shape[0]/2)-localization[0], axis = 0)\n",
    "    observation = np.roll(observation,int(observation.shape[1]/2)-localization[1], axis = 1)\n",
    "    \n",
    "    \n",
    "    localization = np.argwhere(observation == 101).reshape(-1)\n",
    "    \n",
    "    observation = observation[localization[0]-view_size:localization[0]+view_size+1,\n",
    "                       localization[1]-view_size:localization[1]+view_size+1]\n",
    "    \n",
    "    observation = np.reshape(observation, (-1)) #we flatten the view\n",
    "    localization = np.argwhere(observation == 101).reshape(-1)[0] #We get the offset of the head.\n",
    "    observation = np.delete(observation, localization)#We remove the head.\n",
    "    \n",
    "    observation = np.concatenate((observation, [high, width]))\n",
    "    return observation\n",
    "\n",
    "observation = update_observations(env.reset())\n",
    "observation"
   ]
  },
  {
   "cell_type": "code",
   "execution_count": 52,
   "metadata": {},
   "outputs": [
    {
     "data": {
      "text/plain": [
       "(26,)"
      ]
     },
     "execution_count": 52,
     "metadata": {},
     "output_type": "execute_result"
    }
   ],
   "source": [
    "observation.shape"
   ]
  },
  {
   "cell_type": "markdown",
   "metadata": {},
   "source": [
    "Done! This was long but we did it! Now, we drastically decreased the problem we face!"
   ]
  },
  {
   "cell_type": "markdown",
   "metadata": {},
   "source": [
    "\n",
    "## Normalization\n",
    "\n",
    "An important concept of neural networks (and Machine Learning in General) is called the normalization.<br>\n",
    "The idea behind is to have the same tool to measure everything.\n",
    "- If you want to measure the size of an ant with a ruler, it should not requires too much work.\n",
    "- If you want to measure the desk with the same ruler... I suppose it will a bit more difficult, but you should succeed.\n",
    "- If you want to measure the rool with the same ruler... it will get even harder.\n",
    "- If you have to measure the distance between your home and the Eiffel Tower, it will be almost impossible.\n",
    "- So if I'm talking about the distance between the Sun and Earth... well, I guess you get the idea.\n",
    "\n",
    "A ML algorithm experience the same problem. If it starts to compare something with a tool, and something else of a total different magnitude, it will be hard for it to perform adequate measure.<br>\n",
    "<br>\n",
    "To counter the problem, data scientists use something called *Normalization*. It is a process to put everything on the same scale : from 0 to 1.<br>\n",
    "Regarding what we did with activation function, we already had a first taste of normalization. We wanted to contrain our impulse between 0 and 1. The same applies for the inputs.<br><br>\n",
    "If you look at the observation type of data, your algorithm may not easily find how to proceed."
   ]
  },
  {
   "cell_type": "code",
   "execution_count": 53,
   "metadata": {},
   "outputs": [
    {
     "data": {
      "image/png": "[encoded data removed]",
      "text/plain": [
       "<Figure size 432x288 with 1 Axes>"
      ]
     },
     "metadata": {
      "needs_background": "light"
     },
     "output_type": "display_data"
    }
   ],
   "source": [
    "observations = env.reset()\n",
    "\n",
    "plt.hist(observations, bins=15);\n",
    "plt.show();"
   ]
  },
  {
   "cell_type": "code",
   "execution_count": 54,
   "metadata": {},
   "outputs": [
    {
     "data": {
      "text/plain": [
       "array([100., 255., 100., 100., 101.])"
      ]
     },
     "execution_count": 54,
     "metadata": {},
     "output_type": "execute_result"
    }
   ],
   "source": [
    "observations[observations != 0]"
   ]
  },
  {
   "cell_type": "markdown",
   "metadata": {},
   "source": [
    "We have a huge problem : The more a neuron lights, the more it gives an information... What if, thus, a neuron would detect the food ?... it would light at half the power to inform that this is the tail of the snake.<br>\n",
    "The information could be missleading. Instead, we should try to give more sense to the signals. Make a real difference between the <strike>head (101),</strike> the tail (100) and the food (255)."
   ]
  },
  {
   "cell_type": "code",
   "execution_count": 55,
   "metadata": {},
   "outputs": [],
   "source": [
    "def update_observations(observation, view_size = 2):\n",
    "    assert view_size > 0, \"The agent cannot see the map if you don't set a view_size over 0!\"\n",
    "    \n",
    "    cliffs = np.ones((observation.shape[0]+2,observation.shape[1]+2))\n",
    "    cliffs *= 100\n",
    "    cliffs[1:cliffs.shape[0]-1,1:cliffs.shape[1]-1] = observation\n",
    "    \n",
    "    observation = cliffs\n",
    "    \n",
    "    localization = np.argwhere(observation == 101).reshape(-1)\n",
    "    \n",
    "    fruit_localization = np.argwhere(observation == 255).reshape(-1)\n",
    "    high = (localization[0] - fruit_localization[0])\n",
    "    width = (localization[1] - fruit_localization[1])\n",
    "    high = min(max(-1,high),1)\n",
    "    width = min(max(-1,width),1)\n",
    "    \n",
    "    observation = np.roll(observation,int(observation.shape[0]/2)-localization[0], axis = 0)\n",
    "    observation = np.roll(observation,int(observation.shape[1]/2)-localization[1], axis = 1)\n",
    "    \n",
    "    \n",
    "    localization = np.argwhere(observation == 101).reshape(-1)\n",
    "    \n",
    "    observation = observation[localization[0]-view_size:localization[0]+view_size+1,\n",
    "                       localization[1]-view_size:localization[1]+view_size+1]\n",
    "    \n",
    "    observation = np.reshape(observation, (-1)) \n",
    "    localization = np.argwhere(observation == 101).reshape(-1)[0]\n",
    "    observation = np.delete(observation, localization)\n",
    "    \n",
    "    \n",
    "    observation = np.where(observation == 100, -101, observation) #We replace the wall & tail by a negative value.\n",
    "    \n",
    "    observation = np.concatenate((observation, [high, width]))\n",
    "    return observation"
   ]
  },
  {
   "cell_type": "markdown",
   "metadata": {},
   "source": [
    "If you think about our way to update weights, we do it at a very slow magnitude.<br>\n",
    "Because we update our weights by less than 0.5 in the hidden layers, it would take a longer time for the model to change the meaning of an input neurons. Let's consider the good as an example:<br>\n",
    "- Weight is between -1 and 1.\n",
    "- Input is at 255.\n",
    "- Biases are between 1 and -1.\n",
    "\n",
    "Let's imagine that, in the current architecture, a neuron of the snake is responsible of fleeing the food. If it is 1, the snake will try to get close. If -1, it will flee it. Let's think about the following weights:\n",
    "- Weights of the input is -1\n",
    "- Bias is at 1.\n",
    "- Input is 255.\n",
    "\n",
    "The total sum is -254. This means the bias does not mean much (nothing, let's make it clear!) compared to the other strength.<br>\n",
    "If we consider the optimal change where each step update the weights of the input neuron at its maximum (0.25)... We would need 4 generations to change this behavior... but we are working with randomness.<br>\n",
    "This means for every probability we have to go in this direction, we have the same probability to go in the other. Let's imagine the best magnitude, everytime, and let's calculate the probability we have to fix this problem:"
   ]
  },
  {
   "cell_type": "code",
   "execution_count": 56,
   "metadata": {},
   "outputs": [
    {
     "data": {
      "text/plain": [
       "0.0625"
      ]
     },
     "execution_count": 56,
     "metadata": {},
     "output_type": "execute_result"
    }
   ],
   "source": [
    "(1/2)**4"
   ]
  },
  {
   "cell_type": "markdown",
   "metadata": {},
   "source": [
    "Also, even if the Not that much!... Let's make it easier : let's put all value between 1 and 0, so that all of them has a same strength."
   ]
  },
  {
   "cell_type": "code",
   "execution_count": 57,
   "metadata": {},
   "outputs": [
    {
     "data": {
      "image/png": "[encoded data removed]",
      "text/plain": [
       "<Figure size 432x288 with 1 Axes>"
      ]
     },
     "metadata": {
      "needs_background": "light"
     },
     "output_type": "display_data"
    },
    {
     "data": {
      "image/png": "[encoded data removed]",
      "text/plain": [
       "<Figure size 432x288 with 1 Axes>"
      ]
     },
     "metadata": {
      "needs_background": "light"
     },
     "output_type": "display_data"
    }
   ],
   "source": [
    "def update_observations(observation, view_size = 2):\n",
    "    assert view_size > 0, \"The agent cannot see the map if you don't set a view_size over 0!\"\n",
    "    \n",
    "    cliffs = np.ones((observation.shape[0]+2,observation.shape[1]+2))\n",
    "    cliffs *= 100\n",
    "    cliffs[1:cliffs.shape[0]-1,1:cliffs.shape[1]-1] = observation\n",
    "    \n",
    "    observation = cliffs\n",
    "    \n",
    "    localization = np.argwhere(observation == 101).reshape(-1)\n",
    "    \n",
    "    fruit_localization = np.argwhere(observation == 255).reshape(-1)\n",
    "    high = (localization[0] - fruit_localization[0])\n",
    "    width = (localization[1] - fruit_localization[1])\n",
    "    high = min(max(-1,high),1)\n",
    "    width = min(max(-1,width),1)\n",
    "    \n",
    "    observation = np.roll(observation,int(observation.shape[0]/2)-localization[0], axis = 0)\n",
    "    observation = np.roll(observation,int(observation.shape[1]/2)-localization[1], axis = 1)\n",
    "    \n",
    "    \n",
    "    localization = np.argwhere(observation == 101).reshape(-1)\n",
    "    \n",
    "    observation = observation[localization[0]-view_size:localization[0]+view_size+1,\n",
    "                       localization[1]-view_size:localization[1]+view_size+1]\n",
    "    \n",
    "    observation = np.reshape(observation, (-1)) \n",
    "    localization = np.argwhere(observation == 101).reshape(-1)[0]\n",
    "    observation = np.delete(observation, localization)\n",
    "    \n",
    "    \n",
    "    observation = np.where(observation == 255, 1, observation) #We replace the fruit by 1.\n",
    "    observation = np.where(observation == 100, -1, observation) #We replace the wall & tail by 1.\n",
    "    \n",
    "    observation = np.concatenate((observation, [high, width]))\n",
    "    return observation\n",
    "\n",
    "observations = env.reset()\n",
    "\n",
    "plt.hist(observations, bins=15);\n",
    "plt.show();\n",
    "plt.hist(update_observations(observations), bins=15);\n",
    "plt.show();"
   ]
  },
  {
   "cell_type": "markdown",
   "metadata": {},
   "source": [
    "Isn't the difference significative ?... Let's run to see the difference!"
   ]
  },
  {
   "cell_type": "code",
   "execution_count": 58,
   "metadata": {},
   "outputs": [],
   "source": [
    "neurons = 10 #We reduce the size of the network.\n",
    "obs_size = update_observations(env.reset()).shape[0] #We reduce the size of the input...\n",
    "                                                        #which is used for the definition of the snakes!"
   ]
  },
  {
   "cell_type": "code",
   "execution_count": 59,
   "metadata": {},
   "outputs": [],
   "source": [
    "class NeuralNetwork():\n",
    "    def __init__(self, observation_size, isACopy=False):\n",
    "        self._rewards = 0\n",
    "        self._layers = []\n",
    "        self._biases = []\n",
    "        \n",
    "        if(not isACopy):\n",
    "            for i in range(nb_layers):\n",
    "                entry_size = neurons if i != 0 else observation_size\n",
    "                self._layers.append(np.random.rand(neurons,entry_size)*2-1)\n",
    "                self._biases.append(np.random.rand(neurons,1)*2-1)\n",
    "\n",
    "\n",
    "            self._outputs = np.random.rand(4,neurons)*2-1\n",
    "\n",
    "\n",
    "    def forward(self, inputs):\n",
    "        inputs = update_observations(inputs) #We update the observation size.\n",
    "        inputs = inputs.reshape((-1,1))\n",
    "        \n",
    "\n",
    "        for layer, bias in zip(self._layers, self._biases):\n",
    "            inputs = np.matmul(layer,inputs)\n",
    "            inputs = inputs+bias\n",
    "            inputs = sigmoid_activate(inputs)\n",
    "            \n",
    "        inputs = np.matmul(self._outputs, inputs)\n",
    "        inputs = inputs.reshape(-1)\n",
    "        \n",
    "        \n",
    "        return softmax_activate(inputs)\n",
    "\n",
    "    def mutate(self):\n",
    "        new_snake = NeuralNetwork(self._layers[0].shape[1],isACopy=True)\n",
    "        \n",
    "        for l in self._layers:\n",
    "            random_mutation_probs = np.random.rand(l.shape[0], l.shape[1])\n",
    "            \n",
    "            random_mutation_probs = np.where(random_mutation_probs < chances_of_mutation,\n",
    "                                             (np.random.rand()-0.5)/2, 0)\n",
    "            new_l = l + random_mutation_probs\n",
    "            new_snake._layers.append(new_l)\n",
    "            \n",
    "            \n",
    "        for b in self._biases:\n",
    "            random_mutation_probs = np.random.rand(b.shape[0], 1)\n",
    "            random_mutation_probs = np.where(random_mutation_probs < chances_of_mutation,\n",
    "                                             (np.random.rand()-0.5)/2, 0)\n",
    "            new_l = b + random_mutation_probs\n",
    "            new_snake._biases.append(new_l)\n",
    "    \n",
    "    \n",
    "        random_mutation_probs = np.random.rand(self._outputs.shape[0],self._outputs.shape[1])\n",
    "        random_mutation_probs = np.where(random_mutation_probs < chances_of_mutation,\n",
    "                                         (np.random.rand()-0.5)/2, 0)\n",
    "        \n",
    "        new_l = self._outputs + random_mutation_probs\n",
    "        new_snake._outputs = new_l\n",
    "        return new_snake\n",
    "\n",
    "    def set_reward(self, r):\n",
    "        self._reward = r"
   ]
  },
  {
   "cell_type": "code",
   "execution_count": 60,
   "metadata": {},
   "outputs": [
    {
     "data": {
      "application/vnd.jupyter.widget-view+json": {
       "model_id": "130bfc8eafa841feba736de26ca79495",
       "version_major": 2,
       "version_minor": 0
      },
      "text/plain": [
       "  0%|          | 0/10 [00:00<?, ?it/s]"
      ]
     },
     "metadata": {},
     "output_type": "display_data"
    }
   ],
   "source": [
    "restart_simulation() #cleaning previous models.\n",
    "\n",
    "rewards = []\n",
    "for _ in tqdm(range(10)):\n",
    "    rewards.append(run_global_simulation(False, False, False))\n",
    "    darwin_cleaner()"
   ]
  },
  {
   "cell_type": "code",
   "execution_count": 61,
   "metadata": {},
   "outputs": [
    {
     "data": {
      "image/png": "[encoded data removed]",
      "text/plain": [
       "<Figure size 432x288 with 1 Axes>"
      ]
     },
     "metadata": {
      "needs_background": "light"
     },
     "output_type": "display_data"
    }
   ],
   "source": [
    "plt.plot(rewards);"
   ]
  },
  {
   "cell_type": "markdown",
   "metadata": {},
   "source": [
    "We did not gather much improvement on this training... let's use more snakes and calculate more generations!<br>\n",
    "Right now, we are performing our training as a sequence : 1 environment at a time.<br>\n",
    "The more we train, the stronger will become our model, so let's speed up the process."
   ]
  },
  {
   "cell_type": "markdown",
   "metadata": {},
   "source": [
    "# Increasing speed\n",
    "\n",
    "In the above run, each epoch was ran in sequence... this is not very effective. What we could (and will!) do, would be to run in parallel each snake."
   ]
  },
  {
   "cell_type": "code",
   "execution_count": 62,
   "metadata": {},
   "outputs": [],
   "source": [
    "from joblib import Parallel, delayed\n",
    "import multiprocessing #Required for computation.\n",
    "\n",
    "num_cores = multiprocessing.cpu_count()"
   ]
  },
  {
   "cell_type": "code",
   "execution_count": 63,
   "metadata": {},
   "outputs": [],
   "source": [
    "def run_simulation_parallel(snake, nb_of_simulations=10):\n",
    "    import sneks\n",
    "    \n",
    "    total_reward = 0 #Used to track the performance of the Snake.\n",
    "    local_env = gym.make(\"babysnek-raw-16-v1\")\n",
    "    for _ in range(nb_of_simulations):\n",
    "        \n",
    "        observation = local_env.reset()\n",
    "        done = False\n",
    "        \n",
    "        while(not done):\n",
    "            observation, reward, done, info = local_env.step(snake.forward(observation).argmax()) #We exectue an action.\n",
    "            #env.render() #We DO NOT CALL RENDER HERE, we now need speed!\n",
    "            total_reward += reward\n",
    "    \n",
    "    snake.set_reward(total_reward)\n",
    "    \n",
    "    return snake\n",
    "\n",
    "def run_global_simulation_parallel(display_tqdm = True, track_best = True, nb_of_simulations = 10): #We create a function which gives a run.\n",
    "    global farm\n",
    "    \n",
    "    rewards = []\n",
    "    \n",
    "    if(display_tqdm):\n",
    "        farm = Parallel(n_jobs=num_cores)(delayed(run_simulation_parallel)(S, nb_of_simulations) for S in tqdm(farm))\n",
    "    else:\n",
    "        farm = Parallel(n_jobs=num_cores)(delayed(run_simulation_parallel)(S, nb_of_simulations) for S in farm)\n",
    "    \n",
    "    \n",
    "    farm.sort(key=lambda snake: snake._reward, reverse=True) #We order our list based on reward.\n",
    "    \n",
    "    if(track_best):\n",
    "        print(\"Best reward this time \"+str(farm[0]._reward)+\" ; worst was \"+str(farm[-1]._reward))"
   ]
  },
  {
   "cell_type": "code",
   "execution_count": 64,
   "metadata": {},
   "outputs": [],
   "source": [
    "number_of_snakes = 2000"
   ]
  },
  {
   "cell_type": "code",
   "execution_count": 65,
   "metadata": {},
   "outputs": [],
   "source": [
    "restart_simulation() #cleaning previous models and generating new ones."
   ]
  },
  {
   "cell_type": "code",
   "execution_count": 66,
   "metadata": {},
   "outputs": [
    {
     "data": {
      "application/vnd.jupyter.widget-view+json": {
       "model_id": "984a5667f9964a83a27faafae1cdde9f",
       "version_major": 2,
       "version_minor": 0
      },
      "text/plain": [
       "  0%|          | 0/2000 [00:00<?, ?it/s]"
      ]
     },
     "metadata": {},
     "output_type": "display_data"
    },
    {
     "name": "stdout",
     "output_type": "stream",
     "text": [
      "Wall time: 4.47 s\n"
     ]
    }
   ],
   "source": [
    "%%time\n",
    "run_global_simulation_parallel(True, False)"
   ]
  },
  {
   "cell_type": "code",
   "execution_count": 67,
   "metadata": {},
   "outputs": [],
   "source": [
    "restart_simulation() #cleaning previous models and generating new ones."
   ]
  },
  {
   "cell_type": "code",
   "execution_count": 68,
   "metadata": {
    "scrolled": false
   },
   "outputs": [
    {
     "data": {
      "application/vnd.jupyter.widget-view+json": {
       "model_id": "8591520fdae148ceafdc923d6e2e7e6a",
       "version_major": 2,
       "version_minor": 0
      },
      "text/plain": [
       "  0%|          | 0/2000 [00:00<?, ?it/s]"
      ]
     },
     "metadata": {},
     "output_type": "display_data"
    },
    {
     "name": "stdout",
     "output_type": "stream",
     "text": [
      "Wall time: 31.1 s\n"
     ]
    },
    {
     "data": {
      "text/plain": [
       "-2"
      ]
     },
     "execution_count": 68,
     "metadata": {},
     "output_type": "execute_result"
    }
   ],
   "source": [
    "%%time\n",
    "run_global_simulation(True, False, False)"
   ]
  },
  {
   "cell_type": "markdown",
   "metadata": {},
   "source": [
    "On my computer, I got 85.6% increase speed thanks to parallelization and code adjusting. We can now run the final training!"
   ]
  },
  {
   "cell_type": "code",
   "execution_count": 69,
   "metadata": {},
   "outputs": [],
   "source": [
    "import pickle #used to store the different generations\n",
    "\n",
    "#We create function to compare our snakes.\n",
    "def save_snake(id_iteration):\n",
    "    with open(\"snake_{}.obj\".format(id_iteration),'wb') as file_save:\n",
    "        #We create a dict of the snake parameters\n",
    "        to_save = {\"layers\":farm[0]._layers,\n",
    "                     \"biases\":farm[0]._biases,\n",
    "                     \"outputs\":farm[0]._outputs}\n",
    "        #And save it using picke\n",
    "        pickle.dump(to_save,file_save, protocol=pickle.HIGHEST_PROTOCOL)\n",
    "\n",
    "def load_snake(id_iteration):\n",
    "    with open(\"snake_{}.obj\".format(id_iteration),'rb') as file_save:\n",
    "        \n",
    "        snake_params = pickle.load(file_save)\n",
    "\n",
    "        snake = NeuralNetwork(obs_size)\n",
    "        snake._layers = snake_params[\"layers\"]\n",
    "        snake._biases = snake_params[\"biases\"]\n",
    "        snake._outputs = snake_params[\"outputs\"]\n",
    "        \n",
    "        return snake"
   ]
  },
  {
   "cell_type": "code",
   "execution_count": 70,
   "metadata": {},
   "outputs": [],
   "source": [
    "%matplotlib notebook\n",
    "\n",
    "def interactive_plot():\n",
    "    ax.set_ylim(min(generation_results)-1,max(generation_results)+1)\n",
    "    ax.set_xlim(-1,len(generation_results)+1)\n",
    "    x = np.arange(len(generation_results))\n",
    "    if ax.lines:\n",
    "        for line in ax.lines:\n",
    "            line.set_xdata(x)\n",
    "            line.set_ydata(generation_results)\n",
    "    else:\n",
    "        ax.plot(x, generation_results)\n",
    "    fig.canvas.draw()"
   ]
  },
  {
   "cell_type": "markdown",
   "metadata": {},
   "source": [
    "We will run the paralellize simulation and stop once the model reaches an adequate value (let's consider a cumulative score of 40)"
   ]
  },
  {
   "cell_type": "code",
   "execution_count": 72,
   "metadata": {
    "scrolled": false
   },
   "outputs": [
    {
     "data": {
      "application/javascript": [
       "/* Put everything inside the global mpl namespace */\n",
       "/* global mpl */\n",
       "window.mpl = {};\n",
       "\n",
       "mpl.get_websocket_type = function () {\n",
       "    if (typeof WebSocket !== 'undefined') {\n",
       "        return WebSocket;\n",
       "    } else if (typeof MozWebSocket !== 'undefined') {\n",
       "        return MozWebSocket;\n",
       "    } else {\n",
       "        alert(\n",
       "            'Your browser does not have WebSocket support. ' +\n",
       "                'Please try Chrome, Safari or Firefox ≥ 6. ' +\n",
       "                'Firefox 4 and 5 are also supported but you ' +\n",
       "                'have to enable WebSockets in about:config.'\n",
       "        );\n",
       "    }\n",
       "};\n",
       "\n",
       "mpl.figure = function (figure_id, websocket, ondownload, parent_element) {\n",
       "    this.id = figure_id;\n",
       "\n",
       "    this.ws = websocket;\n",
       "\n",
       "    this.supports_binary = this.ws.binaryType !== undefined;\n",
       "\n",
       "    if (!this.supports_binary) {\n",
       "        var warnings = document.getElementById('mpl-warnings');\n",
       "        if (warnings) {\n",
       "            warnings.style.display = 'block';\n",
       "            warnings.textContent =\n",
       "                'This browser does not support binary websocket messages. ' +\n",
       "                'Performance may be slow.';\n",
       "        }\n",
       "    }\n",
       "\n",
       "    this.imageObj = new Image();\n",
       "\n",
       "    this.context = undefined;\n",
       "    this.message = undefined;\n",
       "    this.canvas = undefined;\n",
       "    this.rubberband_canvas = undefined;\n",
       "    this.rubberband_context = undefined;\n",
       "    this.format_dropdown = undefined;\n",
       "\n",
       "    this.image_mode = 'full';\n",
       "\n",
       "    this.root = document.createElement('div');\n",
       "    this.root.setAttribute('style', 'display: inline-block');\n",
       "    this._root_extra_style(this.root);\n",
       "\n",
       "    parent_element.appendChild(this.root);\n",
       "\n",
       "    this._init_header(this);\n",
       "    this._init_canvas(this);\n",
       "    this._init_toolbar(this);\n",
       "\n",
       "    var fig = this;\n",
       "\n",
       "    this.waiting = false;\n",
       "\n",
       "    this.ws.onopen = function () {\n",
       "        fig.send_message('supports_binary', { value: fig.supports_binary });\n",
       "        fig.send_message('send_image_mode', {});\n",
       "        if (fig.ratio !== 1) {\n",
       "            fig.send_message('set_dpi_ratio', { dpi_ratio: fig.ratio });\n",
       "        }\n",
       "        fig.send_message('refresh', {});\n",
       "    };\n",
       "\n",
       "    this.imageObj.onload = function () {\n",
       "        if (fig.image_mode === 'full') {\n",
       "            // Full images could contain transparency (where diff images\n",
       "            // almost always do), so we need to clear the canvas so that\n",
       "            // there is no ghosting.\n",
       "            fig.context.clearRect(0, 0, fig.canvas.width, fig.canvas.height);\n",
       "        }\n",
       "        fig.context.drawImage(fig.imageObj, 0, 0);\n",
       "    };\n",
       "\n",
       "    this.imageObj.onunload = function () {\n",
       "        fig.ws.close();\n",
       "    };\n",
       "\n",
       "    this.ws.onmessage = this._make_on_message_function(this);\n",
       "\n",
       "    this.ondownload = ondownload;\n",
       "};\n",
       "\n",
       "mpl.figure.prototype._init_header = function () {\n",
       "    var titlebar = document.createElement('div');\n",
       "    titlebar.classList =\n",
       "        'ui-dialog-titlebar ui-widget-header ui-corner-all ui-helper-clearfix';\n",
       "    var titletext = document.createElement('div');\n",
       "    titletext.classList = 'ui-dialog-title';\n",
       "    titletext.setAttribute(\n",
       "        'style',\n",
       "        'width: 100%; text-align: center; padding: 3px;'\n",
       "    );\n",
       "    titlebar.appendChild(titletext);\n",
       "    this.root.appendChild(titlebar);\n",
       "    this.header = titletext;\n",
       "};\n",
       "\n",
       "mpl.figure.prototype._canvas_extra_style = function (_canvas_div) {};\n",
       "\n",
       "mpl.figure.prototype._root_extra_style = function (_canvas_div) {};\n",
       "\n",
       "mpl.figure.prototype._init_canvas = function () {\n",
       "    var fig = this;\n",
       "\n",
       "    var canvas_div = (this.canvas_div = document.createElement('div'));\n",
       "    canvas_div.setAttribute(\n",
       "        'style',\n",
       "        'border: 1px solid #ddd;' +\n",
       "            'box-sizing: content-box;' +\n",
       "            'clear: both;' +\n",
       "            'min-height: 1px;' +\n",
       "            'min-width: 1px;' +\n",
       "            'outline: 0;' +\n",
       "            'overflow: hidden;' +\n",
       "            'position: relative;' +\n",
       "            'resize: both;'\n",
       "    );\n",
       "\n",
       "    function on_keyboard_event_closure(name) {\n",
       "        return function (event) {\n",
       "            return fig.key_event(event, name);\n",
       "        };\n",
       "    }\n",
       "\n",
       "    canvas_div.addEventListener(\n",
       "        'keydown',\n",
       "        on_keyboard_event_closure('key_press')\n",
       "    );\n",
       "    canvas_div.addEventListener(\n",
       "        'keyup',\n",
       "        on_keyboard_event_closure('key_release')\n",
       "    );\n",
       "\n",
       "    this._canvas_extra_style(canvas_div);\n",
       "    this.root.appendChild(canvas_div);\n",
       "\n",
       "    var canvas = (this.canvas = document.createElement('canvas'));\n",
       "    canvas.classList.add('mpl-canvas');\n",
       "    canvas.setAttribute('style', 'box-sizing: content-box;');\n",
       "\n",
       "    this.context = canvas.getContext('2d');\n",
       "\n",
       "    var backingStore =\n",
       "        this.context.backingStorePixelRatio ||\n",
       "        this.context.webkitBackingStorePixelRatio ||\n",
       "        this.context.mozBackingStorePixelRatio ||\n",
       "        this.context.msBackingStorePixelRatio ||\n",
       "        this.context.oBackingStorePixelRatio ||\n",
       "        this.context.backingStorePixelRatio ||\n",
       "        1;\n",
       "\n",
       "    this.ratio = (window.devicePixelRatio || 1) / backingStore;\n",
       "\n",
       "    var rubberband_canvas = (this.rubberband_canvas = document.createElement(\n",
       "        'canvas'\n",
       "    ));\n",
       "    rubberband_canvas.setAttribute(\n",
       "        'style',\n",
       "        'box-sizing: content-box; position: absolute; left: 0; top: 0; z-index: 1;'\n",
       "    );\n",
       "\n",
       "    // Apply a ponyfill if ResizeObserver is not implemented by browser.\n",
       "    if (this.ResizeObserver === undefined) {\n",
       "        if (window.ResizeObserver !== undefined) {\n",
       "            this.ResizeObserver = window.ResizeObserver;\n",
       "        } else {\n",
       "            var obs = _JSXTOOLS_RESIZE_OBSERVER({});\n",
       "            this.ResizeObserver = obs.ResizeObserver;\n",
       "        }\n",
       "    }\n",
       "\n",
       "    this.resizeObserverInstance = new this.ResizeObserver(function (entries) {\n",
       "        var nentries = entries.length;\n",
       "        for (var i = 0; i < nentries; i++) {\n",
       "            var entry = entries[i];\n",
       "            var width, height;\n",
       "            if (entry.contentBoxSize) {\n",
       "                if (entry.contentBoxSize instanceof Array) {\n",
       "                    // Chrome 84 implements new version of spec.\n",
       "                    width = entry.contentBoxSize[0].inlineSize;\n",
       "                    height = entry.contentBoxSize[0].blockSize;\n",
       "                } else {\n",
       "                    // Firefox implements old version of spec.\n",
       "                    width = entry.contentBoxSize.inlineSize;\n",
       "                    height = entry.contentBoxSize.blockSize;\n",
       "                }\n",
       "            } else {\n",
       "                // Chrome <84 implements even older version of spec.\n",
       "                width = entry.contentRect.width;\n",
       "                height = entry.contentRect.height;\n",
       "            }\n",
       "\n",
       "            // Keep the size of the canvas and rubber band canvas in sync with\n",
       "            // the canvas container.\n",
       "            if (entry.devicePixelContentBoxSize) {\n",
       "                // Chrome 84 implements new version of spec.\n",
       "                canvas.setAttribute(\n",
       "                    'width',\n",
       "                    entry.devicePixelContentBoxSize[0].inlineSize\n",
       "                );\n",
       "                canvas.setAttribute(\n",
       "                    'height',\n",
       "                    entry.devicePixelContentBoxSize[0].blockSize\n",
       "                );\n",
       "            } else {\n",
       "                canvas.setAttribute('width', width * fig.ratio);\n",
       "                canvas.setAttribute('height', height * fig.ratio);\n",
       "            }\n",
       "            canvas.setAttribute(\n",
       "                'style',\n",
       "                'width: ' + width + 'px; height: ' + height + 'px;'\n",
       "            );\n",
       "\n",
       "            rubberband_canvas.setAttribute('width', width);\n",
       "            rubberband_canvas.setAttribute('height', height);\n",
       "\n",
       "            // And update the size in Python. We ignore the initial 0/0 size\n",
       "            // that occurs as the element is placed into the DOM, which should\n",
       "            // otherwise not happen due to the minimum size styling.\n",
       "            if (fig.ws.readyState == 1 && width != 0 && height != 0) {\n",
       "                fig.request_resize(width, height);\n",
       "            }\n",
       "        }\n",
       "    });\n",
       "    this.resizeObserverInstance.observe(canvas_div);\n",
       "\n",
       "    function on_mouse_event_closure(name) {\n",
       "        return function (event) {\n",
       "            return fig.mouse_event(event, name);\n",
       "        };\n",
       "    }\n",
       "\n",
       "    rubberband_canvas.addEventListener(\n",
       "        'mousedown',\n",
       "        on_mouse_event_closure('button_press')\n",
       "    );\n",
       "    rubberband_canvas.addEventListener(\n",
       "        'mouseup',\n",
       "        on_mouse_event_closure('button_release')\n",
       "    );\n",
       "    rubberband_canvas.addEventListener(\n",
       "        'dblclick',\n",
       "        on_mouse_event_closure('dblclick')\n",
       "    );\n",
       "    // Throttle sequential mouse events to 1 every 20ms.\n",
       "    rubberband_canvas.addEventListener(\n",
       "        'mousemove',\n",
       "        on_mouse_event_closure('motion_notify')\n",
       "    );\n",
       "\n",
       "    rubberband_canvas.addEventListener(\n",
       "        'mouseenter',\n",
       "        on_mouse_event_closure('figure_enter')\n",
       "    );\n",
       "    rubberband_canvas.addEventListener(\n",
       "        'mouseleave',\n",
       "        on_mouse_event_closure('figure_leave')\n",
       "    );\n",
       "\n",
       "    canvas_div.addEventListener('wheel', function (event) {\n",
       "        if (event.deltaY < 0) {\n",
       "            event.step = 1;\n",
       "        } else {\n",
       "            event.step = -1;\n",
       "        }\n",
       "        on_mouse_event_closure('scroll')(event);\n",
       "    });\n",
       "\n",
       "    canvas_div.appendChild(canvas);\n",
       "    canvas_div.appendChild(rubberband_canvas);\n",
       "\n",
       "    this.rubberband_context = rubberband_canvas.getContext('2d');\n",
       "    this.rubberband_context.strokeStyle = '#000000';\n",
       "\n",
       "    this._resize_canvas = function (width, height, forward) {\n",
       "        if (forward) {\n",
       "            canvas_div.style.width = width + 'px';\n",
       "            canvas_div.style.height = height + 'px';\n",
       "        }\n",
       "    };\n",
       "\n",
       "    // Disable right mouse context menu.\n",
       "    this.rubberband_canvas.addEventListener('contextmenu', function (_e) {\n",
       "        event.preventDefault();\n",
       "        return false;\n",
       "    });\n",
       "\n",
       "    function set_focus() {\n",
       "        canvas.focus();\n",
       "        canvas_div.focus();\n",
       "    }\n",
       "\n",
       "    window.setTimeout(set_focus, 100);\n",
       "};\n",
       "\n",
       "mpl.figure.prototype._init_toolbar = function () {\n",
       "    var fig = this;\n",
       "\n",
       "    var toolbar = document.createElement('div');\n",
       "    toolbar.classList = 'mpl-toolbar';\n",
       "    this.root.appendChild(toolbar);\n",
       "\n",
       "    function on_click_closure(name) {\n",
       "        return function (_event) {\n",
       "            return fig.toolbar_button_onclick(name);\n",
       "        };\n",
       "    }\n",
       "\n",
       "    function on_mouseover_closure(tooltip) {\n",
       "        return function (event) {\n",
       "            if (!event.currentTarget.disabled) {\n",
       "                return fig.toolbar_button_onmouseover(tooltip);\n",
       "            }\n",
       "        };\n",
       "    }\n",
       "\n",
       "    fig.buttons = {};\n",
       "    var buttonGroup = document.createElement('div');\n",
       "    buttonGroup.classList = 'mpl-button-group';\n",
       "    for (var toolbar_ind in mpl.toolbar_items) {\n",
       "        var name = mpl.toolbar_items[toolbar_ind][0];\n",
       "        var tooltip = mpl.toolbar_items[toolbar_ind][1];\n",
       "        var image = mpl.toolbar_items[toolbar_ind][2];\n",
       "        var method_name = mpl.toolbar_items[toolbar_ind][3];\n",
       "\n",
       "        if (!name) {\n",
       "            /* Instead of a spacer, we start a new button group. */\n",
       "            if (buttonGroup.hasChildNodes()) {\n",
       "                toolbar.appendChild(buttonGroup);\n",
       "            }\n",
       "            buttonGroup = document.createElement('div');\n",
       "            buttonGroup.classList = 'mpl-button-group';\n",
       "            continue;\n",
       "        }\n",
       "\n",
       "        var button = (fig.buttons[name] = document.createElement('button'));\n",
       "        button.classList = 'mpl-widget';\n",
       "        button.setAttribute('role', 'button');\n",
       "        button.setAttribute('aria-disabled', 'false');\n",
       "        button.addEventListener('click', on_click_closure(method_name));\n",
       "        button.addEventListener('mouseover', on_mouseover_closure(tooltip));\n",
       "\n",
       "        var icon_img = document.createElement('img');\n",
       "        icon_img.src = '_images/' + image + '.png';\n",
       "        icon_img.srcset = '_images/' + image + '_large.png 2x';\n",
       "        icon_img.alt = tooltip;\n",
       "        button.appendChild(icon_img);\n",
       "\n",
       "        buttonGroup.appendChild(button);\n",
       "    }\n",
       "\n",
       "    if (buttonGroup.hasChildNodes()) {\n",
       "        toolbar.appendChild(buttonGroup);\n",
       "    }\n",
       "\n",
       "    var fmt_picker = document.createElement('select');\n",
       "    fmt_picker.classList = 'mpl-widget';\n",
       "    toolbar.appendChild(fmt_picker);\n",
       "    this.format_dropdown = fmt_picker;\n",
       "\n",
       "    for (var ind in mpl.extensions) {\n",
       "        var fmt = mpl.extensions[ind];\n",
       "        var option = document.createElement('option');\n",
       "        option.selected = fmt === mpl.default_extension;\n",
       "        option.innerHTML = fmt;\n",
       "        fmt_picker.appendChild(option);\n",
       "    }\n",
       "\n",
       "    var status_bar = document.createElement('span');\n",
       "    status_bar.classList = 'mpl-message';\n",
       "    toolbar.appendChild(status_bar);\n",
       "    this.message = status_bar;\n",
       "};\n",
       "\n",
       "mpl.figure.prototype.request_resize = function (x_pixels, y_pixels) {\n",
       "    // Request matplotlib to resize the figure. Matplotlib will then trigger a resize in the client,\n",
       "    // which will in turn request a refresh of the image.\n",
       "    this.send_message('resize', { width: x_pixels, height: y_pixels });\n",
       "};\n",
       "\n",
       "mpl.figure.prototype.send_message = function (type, properties) {\n",
       "    properties['type'] = type;\n",
       "    properties['figure_id'] = this.id;\n",
       "    this.ws.send(JSON.stringify(properties));\n",
       "};\n",
       "\n",
       "mpl.figure.prototype.send_draw_message = function () {\n",
       "    if (!this.waiting) {\n",
       "        this.waiting = true;\n",
       "        this.ws.send(JSON.stringify({ type: 'draw', figure_id: this.id }));\n",
       "    }\n",
       "};\n",
       "\n",
       "mpl.figure.prototype.handle_save = function (fig, _msg) {\n",
       "    var format_dropdown = fig.format_dropdown;\n",
       "    var format = format_dropdown.options[format_dropdown.selectedIndex].value;\n",
       "    fig.ondownload(fig, format);\n",
       "};\n",
       "\n",
       "mpl.figure.prototype.handle_resize = function (fig, msg) {\n",
       "    var size = msg['size'];\n",
       "    if (size[0] !== fig.canvas.width || size[1] !== fig.canvas.height) {\n",
       "        fig._resize_canvas(size[0], size[1], msg['forward']);\n",
       "        fig.send_message('refresh', {});\n",
       "    }\n",
       "};\n",
       "\n",
       "mpl.figure.prototype.handle_rubberband = function (fig, msg) {\n",
       "    var x0 = msg['x0'] / fig.ratio;\n",
       "    var y0 = (fig.canvas.height - msg['y0']) / fig.ratio;\n",
       "    var x1 = msg['x1'] / fig.ratio;\n",
       "    var y1 = (fig.canvas.height - msg['y1']) / fig.ratio;\n",
       "    x0 = Math.floor(x0) + 0.5;\n",
       "    y0 = Math.floor(y0) + 0.5;\n",
       "    x1 = Math.floor(x1) + 0.5;\n",
       "    y1 = Math.floor(y1) + 0.5;\n",
       "    var min_x = Math.min(x0, x1);\n",
       "    var min_y = Math.min(y0, y1);\n",
       "    var width = Math.abs(x1 - x0);\n",
       "    var height = Math.abs(y1 - y0);\n",
       "\n",
       "    fig.rubberband_context.clearRect(\n",
       "        0,\n",
       "        0,\n",
       "        fig.canvas.width / fig.ratio,\n",
       "        fig.canvas.height / fig.ratio\n",
       "    );\n",
       "\n",
       "    fig.rubberband_context.strokeRect(min_x, min_y, width, height);\n",
       "};\n",
       "\n",
       "mpl.figure.prototype.handle_figure_label = function (fig, msg) {\n",
       "    // Updates the figure title.\n",
       "    fig.header.textContent = msg['label'];\n",
       "};\n",
       "\n",
       "mpl.figure.prototype.handle_cursor = function (fig, msg) {\n",
       "    var cursor = msg['cursor'];\n",
       "    switch (cursor) {\n",
       "        case 0:\n",
       "            cursor = 'pointer';\n",
       "            break;\n",
       "        case 1:\n",
       "            cursor = 'default';\n",
       "            break;\n",
       "        case 2:\n",
       "            cursor = 'crosshair';\n",
       "            break;\n",
       "        case 3:\n",
       "            cursor = 'move';\n",
       "            break;\n",
       "    }\n",
       "    fig.rubberband_canvas.style.cursor = cursor;\n",
       "};\n",
       "\n",
       "mpl.figure.prototype.handle_message = function (fig, msg) {\n",
       "    fig.message.textContent = msg['message'];\n",
       "};\n",
       "\n",
       "mpl.figure.prototype.handle_draw = function (fig, _msg) {\n",
       "    // Request the server to send over a new figure.\n",
       "    fig.send_draw_message();\n",
       "};\n",
       "\n",
       "mpl.figure.prototype.handle_image_mode = function (fig, msg) {\n",
       "    fig.image_mode = msg['mode'];\n",
       "};\n",
       "\n",
       "mpl.figure.prototype.handle_history_buttons = function (fig, msg) {\n",
       "    for (var key in msg) {\n",
       "        if (!(key in fig.buttons)) {\n",
       "            continue;\n",
       "        }\n",
       "        fig.buttons[key].disabled = !msg[key];\n",
       "        fig.buttons[key].setAttribute('aria-disabled', !msg[key]);\n",
       "    }\n",
       "};\n",
       "\n",
       "mpl.figure.prototype.handle_navigate_mode = function (fig, msg) {\n",
       "    if (msg['mode'] === 'PAN') {\n",
       "        fig.buttons['Pan'].classList.add('active');\n",
       "        fig.buttons['Zoom'].classList.remove('active');\n",
       "    } else if (msg['mode'] === 'ZOOM') {\n",
       "        fig.buttons['Pan'].classList.remove('active');\n",
       "        fig.buttons['Zoom'].classList.add('active');\n",
       "    } else {\n",
       "        fig.buttons['Pan'].classList.remove('active');\n",
       "        fig.buttons['Zoom'].classList.remove('active');\n",
       "    }\n",
       "};\n",
       "\n",
       "mpl.figure.prototype.updated_canvas_event = function () {\n",
       "    // Called whenever the canvas gets updated.\n",
       "    this.send_message('ack', {});\n",
       "};\n",
       "\n",
       "// A function to construct a web socket function for onmessage handling.\n",
       "// Called in the figure constructor.\n",
       "mpl.figure.prototype._make_on_message_function = function (fig) {\n",
       "    return function socket_on_message(evt) {\n",
       "        if (evt.data instanceof Blob) {\n",
       "            var img = evt.data;\n",
       "            if (img.type !== 'image/png') {\n",
       "                /* FIXME: We get \"Resource interpreted as Image but\n",
       "                 * transferred with MIME type text/plain:\" errors on\n",
       "                 * Chrome.  But how to set the MIME type?  It doesn't seem\n",
       "                 * to be part of the websocket stream */\n",
       "                img.type = 'image/png';\n",
       "            }\n",
       "\n",
       "            /* Free the memory for the previous frames */\n",
       "            if (fig.imageObj.src) {\n",
       "                (window.URL || window.webkitURL).revokeObjectURL(\n",
       "                    fig.imageObj.src\n",
       "                );\n",
       "            }\n",
       "\n",
       "            fig.imageObj.src = (window.URL || window.webkitURL).createObjectURL(\n",
       "                img\n",
       "            );\n",
       "            fig.updated_canvas_event();\n",
       "            fig.waiting = false;\n",
       "            return;\n",
       "        } else if (\n",
       "            typeof evt.data === 'string' &&\n",
       "            evt.data.slice(0, 21) === 'data:image/png;base64'\n",
       "        ) {\n",
       "            fig.imageObj.src = evt.data;\n",
       "            fig.updated_canvas_event();\n",
       "            fig.waiting = false;\n",
       "            return;\n",
       "        }\n",
       "\n",
       "        var msg = JSON.parse(evt.data);\n",
       "        var msg_type = msg['type'];\n",
       "\n",
       "        // Call the  \"handle_{type}\" callback, which takes\n",
       "        // the figure and JSON message as its only arguments.\n",
       "        try {\n",
       "            var callback = fig['handle_' + msg_type];\n",
       "        } catch (e) {\n",
       "            console.log(\n",
       "                \"No handler for the '\" + msg_type + \"' message type: \",\n",
       "                msg\n",
       "            );\n",
       "            return;\n",
       "        }\n",
       "\n",
       "        if (callback) {\n",
       "            try {\n",
       "                // console.log(\"Handling '\" + msg_type + \"' message: \", msg);\n",
       "                callback(fig, msg);\n",
       "            } catch (e) {\n",
       "                console.log(\n",
       "                    \"Exception inside the 'handler_\" + msg_type + \"' callback:\",\n",
       "                    e,\n",
       "                    e.stack,\n",
       "                    msg\n",
       "                );\n",
       "            }\n",
       "        }\n",
       "    };\n",
       "};\n",
       "\n",
       "// from http://stackoverflow.com/questions/1114465/getting-mouse-location-in-canvas\n",
       "mpl.findpos = function (e) {\n",
       "    //this section is from http://www.quirksmode.org/js/events_properties.html\n",
       "    var targ;\n",
       "    if (!e) {\n",
       "        e = window.event;\n",
       "    }\n",
       "    if (e.target) {\n",
       "        targ = e.target;\n",
       "    } else if (e.srcElement) {\n",
       "        targ = e.srcElement;\n",
       "    }\n",
       "    if (targ.nodeType === 3) {\n",
       "        // defeat Safari bug\n",
       "        targ = targ.parentNode;\n",
       "    }\n",
       "\n",
       "    // pageX,Y are the mouse positions relative to the document\n",
       "    var boundingRect = targ.getBoundingClientRect();\n",
       "    var x = e.pageX - (boundingRect.left + document.body.scrollLeft);\n",
       "    var y = e.pageY - (boundingRect.top + document.body.scrollTop);\n",
       "\n",
       "    return { x: x, y: y };\n",
       "};\n",
       "\n",
       "/*\n",
       " * return a copy of an object with only non-object keys\n",
       " * we need this to avoid circular references\n",
       " * http://stackoverflow.com/a/24161582/3208463\n",
       " */\n",
       "function simpleKeys(original) {\n",
       "    return Object.keys(original).reduce(function (obj, key) {\n",
       "        if (typeof original[key] !== 'object') {\n",
       "            obj[key] = original[key];\n",
       "        }\n",
       "        return obj;\n",
       "    }, {});\n",
       "}\n",
       "\n",
       "mpl.figure.prototype.mouse_event = function (event, name) {\n",
       "    var canvas_pos = mpl.findpos(event);\n",
       "\n",
       "    if (name === 'button_press') {\n",
       "        this.canvas.focus();\n",
       "        this.canvas_div.focus();\n",
       "    }\n",
       "\n",
       "    var x = canvas_pos.x * this.ratio;\n",
       "    var y = canvas_pos.y * this.ratio;\n",
       "\n",
       "    this.send_message(name, {\n",
       "        x: x,\n",
       "        y: y,\n",
       "        button: event.button,\n",
       "        step: event.step,\n",
       "        guiEvent: simpleKeys(event),\n",
       "    });\n",
       "\n",
       "    /* This prevents the web browser from automatically changing to\n",
       "     * the text insertion cursor when the button is pressed.  We want\n",
       "     * to control all of the cursor setting manually through the\n",
       "     * 'cursor' event from matplotlib */\n",
       "    event.preventDefault();\n",
       "    return false;\n",
       "};\n",
       "\n",
       "mpl.figure.prototype._key_event_extra = function (_event, _name) {\n",
       "    // Handle any extra behaviour associated with a key event\n",
       "};\n",
       "\n",
       "mpl.figure.prototype.key_event = function (event, name) {\n",
       "    // Prevent repeat events\n",
       "    if (name === 'key_press') {\n",
       "        if (event.key === this._key) {\n",
       "            return;\n",
       "        } else {\n",
       "            this._key = event.key;\n",
       "        }\n",
       "    }\n",
       "    if (name === 'key_release') {\n",
       "        this._key = null;\n",
       "    }\n",
       "\n",
       "    var value = '';\n",
       "    if (event.ctrlKey && event.key !== 'Control') {\n",
       "        value += 'ctrl+';\n",
       "    }\n",
       "    else if (event.altKey && event.key !== 'Alt') {\n",
       "        value += 'alt+';\n",
       "    }\n",
       "    else if (event.shiftKey && event.key !== 'Shift') {\n",
       "        value += 'shift+';\n",
       "    }\n",
       "\n",
       "    value += 'k' + event.key;\n",
       "\n",
       "    this._key_event_extra(event, name);\n",
       "\n",
       "    this.send_message(name, { key: value, guiEvent: simpleKeys(event) });\n",
       "    return false;\n",
       "};\n",
       "\n",
       "mpl.figure.prototype.toolbar_button_onclick = function (name) {\n",
       "    if (name === 'download') {\n",
       "        this.handle_save(this, null);\n",
       "    } else {\n",
       "        this.send_message('toolbar_button', { name: name });\n",
       "    }\n",
       "};\n",
       "\n",
       "mpl.figure.prototype.toolbar_button_onmouseover = function (tooltip) {\n",
       "    this.message.textContent = tooltip;\n",
       "};\n",
       "\n",
       "///////////////// REMAINING CONTENT GENERATED BY embed_js.py /////////////////\n",
       "// prettier-ignore\n",
       "var _JSXTOOLS_RESIZE_OBSERVER=function(A){var t,i=new WeakMap,n=new WeakMap,a=new WeakMap,r=new WeakMap,o=new Set;function s(e){if(!(this instanceof s))throw new TypeError(\"Constructor requires 'new' operator\");i.set(this,e)}function h(){throw new TypeError(\"Function is not a constructor\")}function c(e,t,i,n){e=0 in arguments?Number(arguments[0]):0,t=1 in arguments?Number(arguments[1]):0,i=2 in arguments?Number(arguments[2]):0,n=3 in arguments?Number(arguments[3]):0,this.right=(this.x=this.left=e)+(this.width=i),this.bottom=(this.y=this.top=t)+(this.height=n),Object.freeze(this)}function d(){t=requestAnimationFrame(d);var s=new WeakMap,p=new Set;o.forEach((function(t){r.get(t).forEach((function(i){var r=t instanceof window.SVGElement,o=a.get(t),d=r?0:parseFloat(o.paddingTop),f=r?0:parseFloat(o.paddingRight),l=r?0:parseFloat(o.paddingBottom),u=r?0:parseFloat(o.paddingLeft),g=r?0:parseFloat(o.borderTopWidth),m=r?0:parseFloat(o.borderRightWidth),w=r?0:parseFloat(o.borderBottomWidth),b=u+f,F=d+l,v=(r?0:parseFloat(o.borderLeftWidth))+m,W=g+w,y=r?0:t.offsetHeight-W-t.clientHeight,E=r?0:t.offsetWidth-v-t.clientWidth,R=b+v,z=F+W,M=r?t.width:parseFloat(o.width)-R-E,O=r?t.height:parseFloat(o.height)-z-y;if(n.has(t)){var k=n.get(t);if(k[0]===M&&k[1]===O)return}n.set(t,[M,O]);var S=Object.create(h.prototype);S.target=t,S.contentRect=new c(u,d,M,O),s.has(i)||(s.set(i,[]),p.add(i)),s.get(i).push(S)}))})),p.forEach((function(e){i.get(e).call(e,s.get(e),e)}))}return s.prototype.observe=function(i){if(i instanceof window.Element){r.has(i)||(r.set(i,new Set),o.add(i),a.set(i,window.getComputedStyle(i)));var n=r.get(i);n.has(this)||n.add(this),cancelAnimationFrame(t),t=requestAnimationFrame(d)}},s.prototype.unobserve=function(i){if(i instanceof window.Element&&r.has(i)){var n=r.get(i);n.has(this)&&(n.delete(this),n.size||(r.delete(i),o.delete(i))),n.size||r.delete(i),o.size||cancelAnimationFrame(t)}},A.DOMRectReadOnly=c,A.ResizeObserver=s,A.ResizeObserverEntry=h,A}; // eslint-disable-line\n",
       "mpl.toolbar_items = [[\"Home\", \"Reset original view\", \"fa fa-home icon-home\", \"home\"], [\"Back\", \"Back to previous view\", \"fa fa-arrow-left icon-arrow-left\", \"back\"], [\"Forward\", \"Forward to next view\", \"fa fa-arrow-right icon-arrow-right\", \"forward\"], [\"\", \"\", \"\", \"\"], [\"Pan\", \"Left button pans, Right button zooms\\nx/y fixes axis, CTRL fixes aspect\", \"fa fa-arrows icon-move\", \"pan\"], [\"Zoom\", \"Zoom to rectangle\\nx/y fixes axis, CTRL fixes aspect\", \"fa fa-square-o icon-check-empty\", \"zoom\"], [\"\", \"\", \"\", \"\"], [\"Download\", \"Download plot\", \"fa fa-floppy-o icon-save\", \"download\"]];\n",
       "\n",
       "mpl.extensions = [\"eps\", \"jpeg\", \"pgf\", \"pdf\", \"png\", \"ps\", \"raw\", \"svg\", \"tif\"];\n",
       "\n",
       "mpl.default_extension = \"png\";/* global mpl */\n",
       "\n",
       "var comm_websocket_adapter = function (comm) {\n",
       "    // Create a \"websocket\"-like object which calls the given IPython comm\n",
       "    // object with the appropriate methods. Currently this is a non binary\n",
       "    // socket, so there is still some room for performance tuning.\n",
       "    var ws = {};\n",
       "\n",
       "    ws.binaryType = comm.kernel.ws.binaryType;\n",
       "    ws.readyState = comm.kernel.ws.readyState;\n",
       "    function updateReadyState(_event) {\n",
       "        if (comm.kernel.ws) {\n",
       "            ws.readyState = comm.kernel.ws.readyState;\n",
       "        } else {\n",
       "            ws.readyState = 3; // Closed state.\n",
       "        }\n",
       "    }\n",
       "    comm.kernel.ws.addEventListener('open', updateReadyState);\n",
       "    comm.kernel.ws.addEventListener('close', updateReadyState);\n",
       "    comm.kernel.ws.addEventListener('error', updateReadyState);\n",
       "\n",
       "    ws.close = function () {\n",
       "        comm.close();\n",
       "    };\n",
       "    ws.send = function (m) {\n",
       "        //console.log('sending', m);\n",
       "        comm.send(m);\n",
       "    };\n",
       "    // Register the callback with on_msg.\n",
       "    comm.on_msg(function (msg) {\n",
       "        //console.log('receiving', msg['content']['data'], msg);\n",
       "        var data = msg['content']['data'];\n",
       "        if (data['blob'] !== undefined) {\n",
       "            data = {\n",
       "                data: new Blob(msg['buffers'], { type: data['blob'] }),\n",
       "            };\n",
       "        }\n",
       "        // Pass the mpl event to the overridden (by mpl) onmessage function.\n",
       "        ws.onmessage(data);\n",
       "    });\n",
       "    return ws;\n",
       "};\n",
       "\n",
       "mpl.mpl_figure_comm = function (comm, msg) {\n",
       "    // This is the function which gets called when the mpl process\n",
       "    // starts-up an IPython Comm through the \"matplotlib\" channel.\n",
       "\n",
       "    var id = msg.content.data.id;\n",
       "    // Get hold of the div created by the display call when the Comm\n",
       "    // socket was opened in Python.\n",
       "    var element = document.getElementById(id);\n",
       "    var ws_proxy = comm_websocket_adapter(comm);\n",
       "\n",
       "    function ondownload(figure, _format) {\n",
       "        window.open(figure.canvas.toDataURL());\n",
       "    }\n",
       "\n",
       "    var fig = new mpl.figure(id, ws_proxy, ondownload, element);\n",
       "\n",
       "    // Call onopen now - mpl needs it, as it is assuming we've passed it a real\n",
       "    // web socket which is closed, not our websocket->open comm proxy.\n",
       "    ws_proxy.onopen();\n",
       "\n",
       "    fig.parent_element = element;\n",
       "    fig.cell_info = mpl.find_output_cell(\"<div id='\" + id + \"'></div>\");\n",
       "    if (!fig.cell_info) {\n",
       "        console.error('Failed to find cell for figure', id, fig);\n",
       "        return;\n",
       "    }\n",
       "    fig.cell_info[0].output_area.element.on(\n",
       "        'cleared',\n",
       "        { fig: fig },\n",
       "        fig._remove_fig_handler\n",
       "    );\n",
       "};\n",
       "\n",
       "mpl.figure.prototype.handle_close = function (fig, msg) {\n",
       "    var width = fig.canvas.width / fig.ratio;\n",
       "    fig.cell_info[0].output_area.element.off(\n",
       "        'cleared',\n",
       "        fig._remove_fig_handler\n",
       "    );\n",
       "    fig.resizeObserverInstance.unobserve(fig.canvas_div);\n",
       "\n",
       "    // Update the output cell to use the data from the current canvas.\n",
       "    fig.push_to_output();\n",
       "    var dataURL = fig.canvas.toDataURL();\n",
       "    // Re-enable the keyboard manager in IPython - without this line, in FF,\n",
       "    // the notebook keyboard shortcuts fail.\n",
       "    IPython.keyboard_manager.enable();\n",
       "    fig.parent_element.innerHTML =\n",
       "        '<img src=\"' + dataURL + '\" width=\"' + width + '\">';\n",
       "    fig.close_ws(fig, msg);\n",
       "};\n",
       "\n",
       "mpl.figure.prototype.close_ws = function (fig, msg) {\n",
       "    fig.send_message('closing', msg);\n",
       "    // fig.ws.close()\n",
       "};\n",
       "\n",
       "mpl.figure.prototype.push_to_output = function (_remove_interactive) {\n",
       "    // Turn the data on the canvas into data in the output cell.\n",
       "    var width = this.canvas.width / this.ratio;\n",
       "    var dataURL = this.canvas.toDataURL();\n",
       "    this.cell_info[1]['text/html'] =\n",
       "        '<img src=\"' + dataURL + '\" width=\"' + width + '\">';\n",
       "};\n",
       "\n",
       "mpl.figure.prototype.updated_canvas_event = function () {\n",
       "    // Tell IPython that the notebook contents must change.\n",
       "    IPython.notebook.set_dirty(true);\n",
       "    this.send_message('ack', {});\n",
       "    var fig = this;\n",
       "    // Wait a second, then push the new image to the DOM so\n",
       "    // that it is saved nicely (might be nice to debounce this).\n",
       "    setTimeout(function () {\n",
       "        fig.push_to_output();\n",
       "    }, 1000);\n",
       "};\n",
       "\n",
       "mpl.figure.prototype._init_toolbar = function () {\n",
       "    var fig = this;\n",
       "\n",
       "    var toolbar = document.createElement('div');\n",
       "    toolbar.classList = 'btn-toolbar';\n",
       "    this.root.appendChild(toolbar);\n",
       "\n",
       "    function on_click_closure(name) {\n",
       "        return function (_event) {\n",
       "            return fig.toolbar_button_onclick(name);\n",
       "        };\n",
       "    }\n",
       "\n",
       "    function on_mouseover_closure(tooltip) {\n",
       "        return function (event) {\n",
       "            if (!event.currentTarget.disabled) {\n",
       "                return fig.toolbar_button_onmouseover(tooltip);\n",
       "            }\n",
       "        };\n",
       "    }\n",
       "\n",
       "    fig.buttons = {};\n",
       "    var buttonGroup = document.createElement('div');\n",
       "    buttonGroup.classList = 'btn-group';\n",
       "    var button;\n",
       "    for (var toolbar_ind in mpl.toolbar_items) {\n",
       "        var name = mpl.toolbar_items[toolbar_ind][0];\n",
       "        var tooltip = mpl.toolbar_items[toolbar_ind][1];\n",
       "        var image = mpl.toolbar_items[toolbar_ind][2];\n",
       "        var method_name = mpl.toolbar_items[toolbar_ind][3];\n",
       "\n",
       "        if (!name) {\n",
       "            /* Instead of a spacer, we start a new button group. */\n",
       "            if (buttonGroup.hasChildNodes()) {\n",
       "                toolbar.appendChild(buttonGroup);\n",
       "            }\n",
       "            buttonGroup = document.createElement('div');\n",
       "            buttonGroup.classList = 'btn-group';\n",
       "            continue;\n",
       "        }\n",
       "\n",
       "        button = fig.buttons[name] = document.createElement('button');\n",
       "        button.classList = 'btn btn-default';\n",
       "        button.href = '#';\n",
       "        button.title = name;\n",
       "        button.innerHTML = '<i class=\"fa ' + image + ' fa-lg\"></i>';\n",
       "        button.addEventListener('click', on_click_closure(method_name));\n",
       "        button.addEventListener('mouseover', on_mouseover_closure(tooltip));\n",
       "        buttonGroup.appendChild(button);\n",
       "    }\n",
       "\n",
       "    if (buttonGroup.hasChildNodes()) {\n",
       "        toolbar.appendChild(buttonGroup);\n",
       "    }\n",
       "\n",
       "    // Add the status bar.\n",
       "    var status_bar = document.createElement('span');\n",
       "    status_bar.classList = 'mpl-message pull-right';\n",
       "    toolbar.appendChild(status_bar);\n",
       "    this.message = status_bar;\n",
       "\n",
       "    // Add the close button to the window.\n",
       "    var buttongrp = document.createElement('div');\n",
       "    buttongrp.classList = 'btn-group inline pull-right';\n",
       "    button = document.createElement('button');\n",
       "    button.classList = 'btn btn-mini btn-primary';\n",
       "    button.href = '#';\n",
       "    button.title = 'Stop Interaction';\n",
       "    button.innerHTML = '<i class=\"fa fa-power-off icon-remove icon-large\"></i>';\n",
       "    button.addEventListener('click', function (_evt) {\n",
       "        fig.handle_close(fig, {});\n",
       "    });\n",
       "    button.addEventListener(\n",
       "        'mouseover',\n",
       "        on_mouseover_closure('Stop Interaction')\n",
       "    );\n",
       "    buttongrp.appendChild(button);\n",
       "    var titlebar = this.root.querySelector('.ui-dialog-titlebar');\n",
       "    titlebar.insertBefore(buttongrp, titlebar.firstChild);\n",
       "};\n",
       "\n",
       "mpl.figure.prototype._remove_fig_handler = function (event) {\n",
       "    var fig = event.data.fig;\n",
       "    if (event.target !== this) {\n",
       "        // Ignore bubbled events from children.\n",
       "        return;\n",
       "    }\n",
       "    fig.close_ws(fig, {});\n",
       "};\n",
       "\n",
       "mpl.figure.prototype._root_extra_style = function (el) {\n",
       "    el.style.boxSizing = 'content-box'; // override notebook setting of border-box.\n",
       "};\n",
       "\n",
       "mpl.figure.prototype._canvas_extra_style = function (el) {\n",
       "    // this is important to make the div 'focusable\n",
       "    el.setAttribute('tabindex', 0);\n",
       "    // reach out to IPython and tell the keyboard manager to turn it's self\n",
       "    // off when our div gets focus\n",
       "\n",
       "    // location in version 3\n",
       "    if (IPython.notebook.keyboard_manager) {\n",
       "        IPython.notebook.keyboard_manager.register_events(el);\n",
       "    } else {\n",
       "        // location in version 2\n",
       "        IPython.keyboard_manager.register_events(el);\n",
       "    }\n",
       "};\n",
       "\n",
       "mpl.figure.prototype._key_event_extra = function (event, _name) {\n",
       "    var manager = IPython.notebook.keyboard_manager;\n",
       "    if (!manager) {\n",
       "        manager = IPython.keyboard_manager;\n",
       "    }\n",
       "\n",
       "    // Check for shift+enter\n",
       "    if (event.shiftKey && event.which === 13) {\n",
       "        this.canvas_div.blur();\n",
       "        // select the cell after this one\n",
       "        var index = IPython.notebook.find_cell_index(this.cell_info[0]);\n",
       "        IPython.notebook.select(index + 1);\n",
       "    }\n",
       "};\n",
       "\n",
       "mpl.figure.prototype.handle_save = function (fig, _msg) {\n",
       "    fig.ondownload(fig, null);\n",
       "};\n",
       "\n",
       "mpl.find_output_cell = function (html_output) {\n",
       "    // Return the cell and output element which can be found *uniquely* in the notebook.\n",
       "    // Note - this is a bit hacky, but it is done because the \"notebook_saving.Notebook\"\n",
       "    // IPython event is triggered only after the cells have been serialised, which for\n",
       "    // our purposes (turning an active figure into a static one), is too late.\n",
       "    var cells = IPython.notebook.get_cells();\n",
       "    var ncells = cells.length;\n",
       "    for (var i = 0; i < ncells; i++) {\n",
       "        var cell = cells[i];\n",
       "        if (cell.cell_type === 'code') {\n",
       "            for (var j = 0; j < cell.output_area.outputs.length; j++) {\n",
       "                var data = cell.output_area.outputs[j];\n",
       "                if (data.data) {\n",
       "                    // IPython >= 3 moved mimebundle to data attribute of output\n",
       "                    data = data.data;\n",
       "                }\n",
       "                if (data['text/html'] === html_output) {\n",
       "                    return [cell, data, j];\n",
       "                }\n",
       "            }\n",
       "        }\n",
       "    }\n",
       "};\n",
       "\n",
       "// Register the function which deals with the matplotlib target/channel.\n",
       "// The kernel may be null if the page has been refreshed.\n",
       "if (IPython.notebook.kernel !== null) {\n",
       "    IPython.notebook.kernel.comm_manager.register_target(\n",
       "        'matplotlib',\n",
       "        mpl.mpl_figure_comm\n",
       "    );\n",
       "}\n"
      ],
      "text/plain": [
       "<IPython.core.display.Javascript object>"
      ]
     },
     "metadata": {},
     "output_type": "display_data"
    },
    {
     "data": {
      "text/html": [
       "<img src=\"data:image/png;base64,iVBORw0KGgoAAAANSUhEUgAAAoAAAAHgCAYAAAA10dzkAAAgAElEQVR4nOzdeXhU9dn/8RHqrnWrWrX1gEpxb61KcWlttS61rYhdfrYVtVqXYqv1afWwGhQFwV0RQRSUqqCoqD1AQtj3JUAgCQlrgAAJe/Z95vP7Y8iQhECWM2eZmffrus711GTmfL/T3E/vjzNznxMQAAAAEkrA6w0AAADAXQRAAACABEMABAAASDAEQAAAgARDAAQAAEgwBEAAAIAEQwAEAABIMARAAACABEMABAAASDAEQAAAgARDAAQAAEgwBEAAAIAEQwAEAABIMARAAACABEMABAAASDAEQAAAgARDAAQAAEgwBEAAAIAEQwAEAABIMARAAACABEMABAAASDAEQAAAgARDAAQAAEgwBEAAAIAEQwAEAABIMARAAACABEMABAAASDAEQAAAgARDAAQAAEgwBEAAAIAEQwAEAABIMARAAACABEMABAAASDAEQAAAgARDAAQAAEgwBEAAAIAEQwAEAABIMARAAACABEMABAAASDAEQAAAgARDAAQAAEgwBEAAAIAEQwAEAABIMARAAACABEMABAAASDAEQAAAgARDAAQAAEgwBEAAAIAEQwAEAABIMARAAACABEMABAAASDAEQAAAgARDAAQAAEgwBEAAAIAEQwAEAABIMARAAACABEMAtCEYDCovL0+FhYUqKiri4ODg4ODgiIGjsLBQeXl5CgaDXkcJzxAAbcjLy1MgEODg4ODg4OCIwSMvL8/rKOEZAqANhYWFkQLy+t9mODg4ODg4OFp21L2BU1hY6HWU8AwB0IaioiIFAgEVFRV5vRUAAKJi465S3f7GHH21YqvXW3EM/ZsAaAsFBACINwO+yZRhWvrlK7O83opj6N8EQFsoIABAvPn5SzNlmJYM09KWPWVeb8cR9G8CoC0UEAAgnmzcVRoJf4ZpaeyCXK+35Aj6NwHQFgoIABBP3p+7sUEA/OuYJV5vyRH0bwKgLRQQACCe3PPeIhmmpX9/li7DtNS532RVVNd6va2oo38TAG2hgAAA8aK0skad+kyWYVpat6NEXQdNk2FampGzw+utRR39mwBoCwUEAIgXKZn5MkxLPx0yQ6FQSL2/XCXDtNT/qwyvtxZ19G8CoC0UEAAgXvT6Ihz4ntkf+KZmFcgwLV334nSFQiGPdxdd9G8CoC0UEAAgHoRCochHvjP3f+RbVlWjTn3rPhIu9niH0UX/JgDaQgEBAKIpfcs+7SiqcH3drG1FTQ599Hh/sQzT0sjZ613fk5Po3wRAWyggAEC0ZGwtVIde4e/gVda4O3k7bMY6GaalBxpd9mX0vPBlYe4eudDV/TiN/k0AtIUCAgBEyyspOZHr7703d6Ora/9u+HwZpqX/LtzU4Oe5+y8MfX7vSSqqqHZ1T06ifxMAbaGAAADR8us350QC4BXPTVWxS4FrX1mVOvYKr7t1X/lBv//F/lvDTV613ZX9uIH+TQC0hQICAETDjqKKSPi7dvB0GaalV6aucWXtr1ZslWFauuXV2U3+/rn/ZckwLf3ns3RX9uMG+jcB0BYKCAAQDZ8u2SLDtHTHW3M1adV2Gaali/pP0c7iSsfX/tf4FTJMS4Mmr27y93PX7pJhWrrq+VQFg/FxORj6NwHQFgoIABANj4xNk2Faei11jUKhkH771lwZpqWkrzMdXbc2GNKPnk2RYVpatGF3k4+prKnVxf2nyDAtrcordHQ/bqF/EwBtoYAAAHZV1QR1yTPJMkxL6Vv2SZLmrQu/63ZBn0navLvMsbWXbd4rw7R0aVKyqmuDh3zcQx8ulWFaemPaWsf24ib6NwHQFgoIAGDX/P1h78qBUxt8xHrPe4tkmJaeGLfcsbVf3j953PPjZYd93LjFm2WYlroNm+fYXtxE/yYA2kIBAQDset4KD1n836cNhyxW5RXKMC116GUpa5szfaZu8nhCWt5hH5dfWBHZy+4S57+X6DT6NwHQFgoIAGDXjS+HL7NirTz4Mis9P14mw7R0/+jFUV+3/uTxrhaEul+9Hg6LXyw7fFiMBfRvAqAtFBAAwI7Nu8tkmJbO6z1JheUHX/dv465Snd970mGHNNqq/uRxSwxNzpZhWvrHJ859JO0W+jcB0BYKCABgxwfzc2WYlv44YsEhH9Pny1UyTEvd356nUCh6l2GpP3ncEmmb9sgwLV2WlKyawwyMxAL6NwHQFgoIAGDHfaMXyzAtvTNr/SEfU1BUoc79JsswLaVk5kdl3aYmj5tTGwzph/svGbMkd09U9uEV+jcB0BYKCADQVuVVtfpB33CwW1NQfNjHDpkS/vj1l6/MUm0ULsZ8YPK4dRd3fnzcchmmpRenZNveQ3Mqqmv17uwNqqiujfq56d8EQFsoIABAW03PLojc+q25j3YLy6t1+YDwu2+fLd1ie+26yeN/t/L2bnW3jbv1taZvGxct89fvityDeGhy9MMm/ZsAaAsFBABoq74Tw9/t6ztxVYseP2LWehmmpWsGTbP9rtjhJo8PZ29plTr2Ck8Ob9tXbmsPTdlTWqX/+zQ9Mp181fOpmrSqdXtsCfo3AdAWCggA0BahUEjXDp4uw7Q0bXVBi55TUV2rroOmyTAtjZqzoc1r1588Lqo4ePK4OXcNny/DtPTxos1t3kNjoVBIny7dEvmOYYdelvpNzGjT/lqC/p0gAXDw4MEKBAJ64oknIj+rqKhQz549deqpp+r444/XXXfdpYKClv0/YR0KCADQFmsKimWYljr1nazyqpa/mzd+SfiOHD96NqXN4aglk8eH89b0tTJMSw9+sLRNz29s3Y4S/XHEgsi7fre+NlvLN++NyrkPhf6dAAFwyZIl6tChgy6//PIGAfDRRx/V97//fU2fPl1paWnq2rWrrr322ladmwICALRF3ce5977fugs819QGIx/fvpyS06a16yaPRxxm8vhwMreF71ByYb8pqqxp+0fRFdW1emXqGl3QZ1LkfCNnrz/sPYmjhf4d5wGwpKREnTp1Umpqqm644YZIACwsLNSRRx6pCRMmRB6bnZ2tQCCghQsXtvj8FBAAoC3q3vH6YH5uq587JWN7JDDtLG7dbdlaM3l8KKFQSF1eSJVhWpq9ZmebzjF/3S79fP+QR92dTrbsKWvTudqC/h3nAfDee+/Vv/71L0lqEACnT5+uQCCgffsaXvvo3HPP1auvvtri81NAABAfdpdUak9plStrFVVU67z9d/fYvLv1oScUCumOYfNkmJb6f5XRque2ZvL4cMzPV8owLQ34JrNVz9tdUqknP10RCX5X7x/yiOYFrluC/h3HAXDcuHG69NJLVVFRIalhAPz444911FFHHfScq6++Wk8//fQhz1lZWamioqLIkZeXl/AFBACxLr+wQj96NkWd+k7WG9PW2vpYsyWsleF38G58eWabzzF/ffg6fh17WRr4vyyVVta06HmtnTw+lCkZ+TJMSzcMndGixzc15NH/K+eGPJpDAIzTALhlyxadccYZWrlyZeRn0QiASUlJCgQCBx2JXEAAEMtCoZAe/GBp5B0pw7T0i5dnamGU77tb378/C1/mZOD/smydpy7M1V0aJjXr8IOM9SePp2e3buixsZLKmsh39zbsLDnsY9ftKNYfXB7yaA4BME4D4MSJExUIBNS+ffvIEQgEdMQRR6h9+/aaNm1amz4C5h1AAIgvk1aF3427oM8kjZi1XlcOTI0Elf98lq69Uf5YOBgM6cqBU2WYluav22X7fDNydui6F6dH9vzw2KXaXtj09fnqJo9/0MrJ40P586iFMkxL783d2OTvK6pr9UpKjidDHs0hAMZpACwuLlZGRkaD46qrrtI999yjjIyMyBDI559/HnlOTk4OQyAAkEAKy6ojge+VqWvCPyuvVp8vD7yzdsVzU/V5Wl7UvqO2Mm+fDNPSJc8kq6omOkGovKpWgydnR75XeHH/KRo9b+NBt4x7Z//k8X2jWzd5fCij5myQYVr6y6hFB/1uXqMhj7+OWaK8ve4NeTSH/h2nAbAp9T8ClsKXgTn33HM1Y8YMpaWl6ZprrtE111zTqnNSQAAQu56esDLyXbzG3/tL27RHt7w6OxJg7h65sNmPOlvitdQ1MkxLj4xNs32uxlZvL9Kdb8+L7Pm3b81VxtbCyO/tTB43Zf3Oksi7p3XfQdxVUql/jW845DHZgyGP5tC/EzgA1l0I+pRTTtFxxx2n7t27Kz8/v1XnpIAAIDbNX7crElKW5u5p8jHVtUENn7lenfuFL5vSqc9kvZa6xtaQSN307vgl0buLRn3BYEj/XbhJlyYlR4ZEnvtflrYXlkfeIYzW5VZCoZB+NnSGDNPSlIx8jV+yOXK/4g69LD3j4ZBHc+jfCRQAnUABAUDsqaiujQSXlkzDbt5dpnvfX9xgSGTB+tYPiewqqVSH/ffRLSiqaMvWW2xHUYUe+3hZZM8X9Z8iw7R00yuzorpO0teZDc5vmJZue32OVmzZ1/yTPUT/JgDaQgEBQOwZPDlbhmnpJy9Ma/E7VKFQSP9buU1XPX9gSKS19+OdkJYnw7R0+xtz2rLtNpmZs0PXDzkwJPK8ZW/yuLFZa3ZGzn1hvykaNWeDanww5NEc+jcB0BYKCABiS8bWwshHoVObuWxKUwrLqyMXQa4bHmnp99t67n9Hrq23cGur8qpaDU3O1h9HLIj63Taqa4N6fNxyPT5uua+GPJpD/yYA2kIBAUDsqKkN6tdvzpFhWur50bI2nycUCumt6WsjITDp60wFg4cPgdW1wcj38tI2eXsNPNC/JQKgLRQQAMSOkbPDl0G5LClZO4rtfwfvg/m5kRD4f5+mH/ajz0UbdsswLf3o2ZSDLs8C99G/CYC2UEAAEBs27S6NTPN+umRL1M77xbK8yEfKD49desgJ4UGTV8swLT0xbnnU1kbb0b8JgLZQQADgf6FQKHLXij+9uzDq16RLzsxXpz7hcHnPe4uavC9v3TUFv1qxNapro23o3wRAWyggAPC/z5ZuidwCLXdXqSNrzFu3K3IplDvfnqfCsgPTxVv3lUeuybevLLq3lkPb0L8JgLZQQADgbzuLKyMXJ35n1npH11q2eW9krVtfmx35nuF/F26SYVr63fD5jq6PlqN/EwBtoYAAwN/qLoZ8+xtzXLk+XXZ+UeRagTcMnaG8vWV6YMwSGaalYTPWOb4+Wob+TQC0hQICAP+atrpAhmnpvN6TGtwT12m5u0p17eDwxZe7DpoWGT7J2kav8Av6NwHQFgoIABqqrg3q7ZnrNCEtL+rDFq1RXFGtroOmyTAtDZq02vX1txeW68aXZ0YuE/OTF6Z5+t8HGqJ/EwBtoYAA4ICK6lo9+MGSSOgZNHm1J6EnGAzpbx8ulWFa+umQGSqvavrSLE7bXVKp37w5V4Zpqd/EDE/2gKbRvwmAtlBAABBWUlmju0eGL7VSd0kUw7TU64tVrl/4+PXU8F06OvWdrBVb9rm6dmOllTX6asVWFZa37J7DcAf9mwBoCwUEANLe0ird8Vb4na5LnknWwg27NX7JZnXsFQ6Bj328TFU1zg9gSFJqVkEkfH66NHoXfEZ8oX8TAG2hgAAkuoKiCt386qzIbc5W5h14x81auV0X9AnfJeP+0Ysd/yh2/c4SXfpM+H67/b/iI1ccGv2bAGgLBQQgkW3eXabrh4SnXbu8kKq1BcUHPWZmzo7IFOwfRixQcYUzH4UWV1RHhi7+8M4CVbtwyRfELvo3AdAWCghAolpTUKyr91/v7mdDZ2jLnrJDPnZJ7p7IO3O/fnOOdpdURnUvwWBID36wNDJtu7M4uudH/KF/EwBtoYAA+ElyZr7em7vR8aGL9C379MNnw3e8uOXV2dpRVNHsczK2FurHz02VYVq68eWZ2l5YHrX9vJa6xjdDH4gN9G8CoC0UEAC/2F1SGfm+XU8Hhy7mr9+li/ff87bbsHmturft+p0lkWvzXTt4elTuyzuVoQ+0Af2bAGgLBQTAL0bMWh8JQoZp6T4Hhi5SswrUqW/4+3x/enehSitrWn2OvL1l+vlL4e/qXTkwVau3t/1/P9ftKNElDH2gDejfBEBbKCAgtoRCobi8G0MoFNINQ2fIMC39+7P0yNDF79+Zr6IoDV18tWKrzusdfofxbx8uVUV128PlzuJK3fb6HBmmpcuSkrVs895Wn6Ooolq/YOgDbUT/JgDaQgEBsSN3V6kufSZZz/0vy+utRN38dbsi1+ArrazR0tw9ujQp/M7Y7W/YG7ooqazRgG8y1WH/Nf2eHL9CNVEIW4Vl1er+9jwZpqXze0/SPe8t0tiFm5Rf2Pz3CcNDH0si99pl6AOtRf8mANpCAQGxY9ScDZFBgWi9K+YXj328TIZpqe/EVZGfZW6zP3SRnJmvn7wwLfKxctLXmQpGccCkrKqmwa3j6o47hs3TsBnrtG5HcZPv2NYf+khn6ANtQP8mANpCAQGx4/Fxy+NyWGBXveGPzG2FDX63fmeJrqk3dLGxhUMX2/aVR+6lW3c/3dlrdjqx/cg+35m1Xt3fnhd5p7Hu+MVLMzVo8mqlbdqrYDDUYOjjszj6O8Jd9G8CoC0UEBA7frF/8MAwLf151EKvtxM1dcMfdwyb1+Tvt+4rb/HQRU1tUO/N3aiL9k/5nt97koYmZ9v6vl9r7Siq0MeLNuu+0Ysb3FO4bv91E8jPMPQBG+jfBEBbKCAgNhRXVDcIEh16WSpowbXr/C4YPDD8MX7J5kM+rvHQRdqmg4cuVubt06/fnBP57+h3w+drTRN39nBTSWWNrJXb9fi45ZHvNDL0gWigfxMAbaGAgNiwcMPuyMegdw2fL8O0NGrOBq+3ZVv94Y+yqsNfkqWwvDry2i/sN0Vz1oY/0i2uqFbS15nquP+j18uSkjVu8eaoftcvGqpqgpqzdqdGzl7fqmsPAk2hfxMAbaGAgNhQNwDy8NilGrtwU2Q6Ntb1bGL443DKqmp0z3uLwgMUfSbrlalrGgx5PDFuORO1SAj0bwKgLRQQEBv++Ul4AOSt6Wu1p7RK5++/nt26Hd5+xGlH/eGPrG0t/9+gyppaPfrftAYfif9s6IzIO4JAIqB/EwBtoYCA2FA3ADJr/yTrA2PClx55KTnH45213TvNDH8cTk1tUL2/XKWL+k/RS8k5rg55AH5A/yYA2kIBAf5XfwBkT2n4u2Nfp2+TYVq6fsj0mLwzSP3hj0+XtP1SKH77nh/gFvo3AdAWCgjwv/oDIHXKq2ojlxNJ27TH1f0UV1TrvbkbtaO47VPI81ox/AHgYPRvAqAtFBDgf+/OPjAAUt+T41fIMC31m+ju9eSGTMmWYVq65dXZKq1sW3hr7fAHgIbo3wRAWyggwP/qBkCGzVjX4Oez1uyUYVq64rmprl5T7pZXZ0c+kv77R2mt/gi6rcMfAA6gfxMAbaGAAP9rPABSp6Y2qCsHhu+VOz27wJW9bN1XLsO01LGXFQlxw2eub9U57Ax/AAijfxMAbaGAAH9ragCkvqSvM2WYlv75yXJX9vPf/dcg/P078yP/uUOvg8PpoQSDIf0sCsMfQKKjfxMAbaGAAH9bsP7gAZD60rfsk2Fa6txvskra+H281qi7/MzbM9cpFArJ/Hxl5O4bm3aXNvv8uuGPSxn+AGyhfxMAbaGAAH871ABInVAopJ/v/4j4i2V5ju6lorpWnftNlmFaWr09/L8ZlTW1uvPteS0eCun50TJPBleAeEP/JgDaQgEB/naoAZD6XktdI8O01OP9xY7uZWbODhmmpa6DpjUY/CgoqtBVz6c2OxSys7gycgcThj8Ae+jfBEBbKCDA3w41AFJf7q7SyGCGk/fBfearDBmmpV5fHHzplrRNeyJDIW/PbDqsDp8ZHv7oxvAHYBv9mwBoCwUE+FdRMwMg9d0xLPwx7Oh5Gx3ZSygU0k+HhIc3pmY1PXH80aIDQyEzc3Y0+B3DH0B00b8JgLZQQIB/NTcAUt/oeRsdvbTKuh0lMkxLnfpMPuz3/Hp9cWAoJHfXgaGQuWsZ/gCiif5NALSFAgL8q24A5JGxac0+dmdxpc7b//26jbuan8ZtrVFzwnu5571Fh31c/aGQm1+dFQmLDH8A0UX/JgDaQgEB/tWSAZD6ery/WIZp6bXUNVHfy5/eXSjDtPT+3OY/Ym48FLKjuILhDyDK6N8EQFsoIMC/WjIAUt+Xy/NkmJZ+/tLMVt+e7XCKK6ojAx65LXx3sf5QyK2vzWb4A4gy+jcB0BYKCPCn1gyA1CmtrNGF/abIMC2lb9kXtb1MydgeCZatUTcUUnd8upThDyBa6N8EQFsoIMCfWjMAUl/dx8YDvsmM2l6enhAe7Hj2m6xWP7duKIThDyC66N8EQFsoIMCfWjMAUt/07AIZpqUrB05VTW3Q9j5CoZCu3v99vjlrW/ZRdH2VNbV6LXWNZmTvaP7BAFqM/k0AtIUCAvyptQMgdaprg7riuamt+u7g4WRsLZRhWrqo/xRV1tTaPh+A6KB/EwBtoYAAf/p5KwdA6us3MXzHjifHr7C9jzenrZVhWnrow6bvRQzAG/RvAqAtFBDgP20ZAKkvbdMeGaali/tPUXmVvXft6q7p98nizbbOAyC66N8EQFsoIMB/2joAUicUCun6IdNlmJa+Tt/W5n3sKa1Sh17hIJpfWNHm8wCIPvo3AdAWCgjwn7YOgNT3UnKODNPSA2OWtPkcddcVvO31OW0+BwBn0L8JgLZQQID//KONAyD1rdtRLMO0dF7vScrJL27TOeoGUYYmZ7d5HwCcQf8mANpCAQH+Y2cApL6/fbg0cgeO2mDr7gxSUxvU5QNSZJiWlubusbUPANFH/yYA2kIBAf5idwCkvu2F5brkmWQZpqUx85q/h299S3PDgyQ/fDal1eERgPPo3wRAWyggwF/sDoA0Nnbhpsh1/LbuK2/x84ZMyZZhWvrnJ8ujsg8A0UX/JgDaQgEB/jJy9nrbAyD1BYMh/W74fBmmpftHL1Yo1LJ38257fY4M09LE5Vujsg8A0UX/JgDaQgEB/hKNAZDG1u0oVqc+k2WYlr5a0Xyg215YLsO01KGX/Y+hATiD/k0AtIUCAvylbgBkdhRu41bfG/vv6HHFc1ObDXUfL9osw7TU/e15Ud0DgOihf8dxABw0aJCuuuoqnXDCCTr99NPVrVs35eTkNHhMRUWFevbsqVNPPVXHH3+87rrrLhUUFLR4DQoI8I/6AyB7o/zOW1VNUDe/Oit8i7hPD3+LuLrp4TenrY3qHgBED/07jgPgrbfeqjFjxigzM1Pp6em6/fbbde6556q0tDTymEcffVTf//73NX36dKWlpalr16669tprW7wGBQT4x/z1u6I6ANLYss17I3f2ONQ7jJU1tbqo/xQZpqWMrYWO7AOAffTvOA6Aje3cuVOBQECzZ8+WJBUWFurII4/UhAkTIo/Jzs5WIBDQwoULW3ROCgjwj2gPgDQl6etMGaal616crrKqmoN+P2ftThmmpaufT23xwAgA99G/EygArlu3ToFAQBkZGZKk6dOnKxAIaN++fQ0ed+655+rVV19t8hyVlZUqKiqKHHl5eQlfQEC0DZ+5Xo/+N027Sypb9TwnBkAaK6ms0bWDw/cJHvi/rIN+P+CbcEB8esJKx/YAwD4CYIIEwGAwqF//+te67rrrIj/7+OOPddRRRx302KuvvlpPP/10k+dJSkpSIBA46EjkAgKiqW6AwjAt3T1yoWpqgy1+rlMDII3NyNkhw7TUsZel9C0N/wWybg9TMrY7ugcA9hAAEyQAPvroozIMQ3l5eZGftSUA8g4g4Jy0TXt1QZ9JkXBlmJaea+JdtqY4OQDSlMfHhd9tvPW12areH1I37iqVYVq6oM8kFVdUO74HAG1HAEyAAPjYY4/pe9/7njZubHgrp7Z8BNwYBQRER0FRha5+PlWGaenR/6ZpSsb2SKD7cnles893egCksd0llfrRsykNPnJ+f+5GGaalP73bsu8QA/AO/TuOA2AoFNJjjz2ms88+W2vXHnw5hrohkM8//zzys5ycHIZAAJdV1tSq+9vzZJiWbn51lkorw8MVL6fkyDAt/aDv5GYnat0YAGnsi2V5MkxLnfpO1oadJbrnvUUyTEuj5mxwbQ8A2ob+HccB8O9//7tOOukkzZo1S/n5+ZGjvPzA/TwfffRRnXvuuZoxY4bS0tJ0zTXX6JprrmnxGhQQYF+vL1bJMC1dlpSs3F0HLtMUDIb01zFLIu/sHW4oxI0BkMZCoVAk9HV/e17kbiHrdpS4tgcAbUP/juMA2NSwRiAQ0JgxYyKPqbsQ9CmnnKLjjjtO3bt3V35+fovXoIAAe+qGPjr0sjQzZ8dBvy8sr44MVhxuKOSGoTNcGQBpbMueMl3Yb0rk4+qfDpnB5V+AGED/juMA6AYKCGi7tE17IkMfh3vnbm1BsS7ef3HlZ785eCjE7QGQxkbN2RBZ/5mvMlxfH0Dr0b8JgLZQQEDbFBRV6Kr9Qx9//yit2XfNpmTkR0LWF8saDoW4PQDSWG0wFPkO45LcPZ7sAUDr0L8JgLZQQEDrVdbU6s79gemWV2dHhj6ac6ihkLoBkEf/694ASGPlVbVaU1Ds2foAWof+TQC0hQICWq/XFysjQx+bdpc2/4T9DjUU8tjHy1wfAAEQ2+jfBEBbKCCgdT5atOmwQx/NqT8U8v9GLlB1bdCzARAAsYv+TQC0hQICWm5p7oGhj7dntv3duvpDIU9NSPd0AARAbKJ/EwBtoYCAlqk/9NHzo2W2L5WSnHlgKMTLARAAsYn+TQC0hQICmld/6OPW11o+9NGcV/YPhXg9AAIg9tC/CYC2UEDA4YVCIZmft23ooznBYEgPfhAeChm7IDdq5wUQ/+jfBEBbKCDg8OqGPjr2sjTLgSGN6tqg0jbtOeQdQgCgKfRvAqAtFBBwaPWHPobPXO/1dgAggv5NALSFAgKa1mDo42P7Qx8AEE30bwKgLRQQcLDGQx9lVdEZ+tG74wIAACAASURBVACAaKF/EwBtoYCAhuoPfVw+IEWbd5d5vSUAOAj9mwBoCwUENPTfhQeGPrgzBwC/on8TAG2hgIAD6g99vDOLoQ8A/kX/JgDaQgEBYfmFFbpyIEMfAGID/ZsAaAsFBISHProNY+gDQOygfxMAbaGAkOhCoZCensDQB4DYQv8mANpCASHRjWXoA0AMon8TAG2hgJDIluTu0fm9GfoAEHvo3wRAWyggJKLdJZX6dOmWyNDHYwx9AIgx9G8CoC0UEBLF5t1lGjVng/4wYoE69rJkmBZDHwBiFv2bAGgLBYR4FQqFlLG1UK9MXaNbX5sdCXx1x+1vzNFrqWu0t7TK660CQKvRvwmAtlBAiCfBYEjz1+9S0teZunbw9AaB77zek3T3yIUaPW+j8vYy6QsgttG/CYC2UECIF2VVNbr3/cUNQl/nfpP18Nil+jwtj3f6AMQV+jcB0BYKCPGgsLxavxs+PxL6/vNZuqZmFai8qtbrrQGAI+jfBEBbKCDEul0llfrV63NkmJYuS0pW2qY9Xm8JABxH/yYA2kIBIZZt3VeuX7w0U4Zp6cqBU5W1jToGkBjo3wRAWyggxKoNO0t0zaBpMkxL1w6ero27Sr3eEgC4hv5NALSFAkIsytxWqCsHTpVhWvrFyzO1bV+511sCAFfRvwmAtlBAiDVLc/fo0qRkGaalX70+R7tKKr3eEgC4jv5NALSFAkIsmb1mpy7sN0WGaen378xXYXm111sCAE/Qvx0KgCtXrmzxEcsoIMSKSau264I+k2SYlu59fzGXeAGQ0OjfDgXAI444Qu3atYv838MdsYwCQiz4dMmWyP17e360TFU1Qa+3BACeon87FAA3bdoUOSZOnKjzzz9fI0aMiLzrN2LECHXq1EkTJ050YnnXUEA4lOnZBXpr+lpP32mrDYb09sx1kTt7PD1hpWqDIc/2AwB+Qf924TuAV199tSZNmnTQzydNmqQf//jHTi/vKAoIjW3bV66HPlwaCV2PfbxMoZD7oStzW6HueGtuZB/PW1me7AMA/Ij+7UIAPOaYY7R69eqDfr569Wodc8wxTi/vKAoIdWpqg3pv7kZd3D88ZHF+70k6v3f4O3cjZq13bR+llTV63srSefvXvvSZZH20aBPhDwDqoX+7EACvuOIK9ejRQ1VVB24mX1VVpR49euiKK65wenlHUUCQpFV5hfr1m3Mi77bdNXy+cvKLNXZBrgzTUsdeluas3en4PlKzCiIXdzZMSz0/XqYdRRWOrwsAsYb+7UIAXLx4sc444wydfvrpuummm3TTTTfp9NNP1xlnnKHFixc7vbyjKKDEVlJZowHfZEYGLC5LStYnizcruP97dqFQSE9NSJdhWrp8QIo27y5zZB/5hRV6ZGxaJPhd9+J0zcjZ4chaABAP6N8uXQewtLRUI0eO1JNPPqknn3xS7777rkpLY//WUxRQ4krOzFfXeu+2PT5uuXYWH3xR5YrqWt0xbJ4M09Ktr81WWVVN1PZQGwxpzLyNuuSZ8IWdz+s9SYMnZ3OJFwBoBv3b4QBYXV2t8847r8nvAMYDCijxbNtXrr/VG/L46ZAZmr3m8B/v5hdW6MqBqZGPZaPxfbyMrYX6bb0hjzvfnqfV26lDAGgJ+rcL7wCeffbZBED4UnVtUMNmrNOAbzJbdPT+cpUuqjfkMTQ5WxXVLXu3bfHGPZGhkHdsDIWUVtZo4P+yIh87X5qUrP8u3BT52BkA0Dz6twsB8IUXXtB9992nmproffTlFxRQbPto0abIO2itOX43fL7WFBS3er36QyHNvWvYlMZDHo8x5AEAbUL/diEA3nnnnTrxxBN11lln6ZZbblH37t0bHLGMAopdoVBIt78Rntz924dLNWRKdouOr9O3tfndtsZDIZt2t+x7sNsLy/Xw2KUMeQBAlNC/XQiA999//2GPWEYBxa6VeftkmJY69Z2svaVVzT8hSlozFFIbDGn0vIbXFnxxCkMeAGAX/dulKeB4RQHFLvPzlTJMS0+MW+762i0ZCmk85NH97XnKzqfOACAa6N8EQFsooNhUXFEdGeZYtGG3J3tYkntgKGT4zANDIaWVNXqu0ZDHR4sY8gCAaKJ/uxQAJ0yYoD/84Q/6yU9+oiuuuKLBEcsooNj034Xh4Y8bX57p6S3Sxu7fR4delmat2amUzPwGQx7//GS5dhQz5AEA0Ub/diEAvvHGGzrhhBP0j3/8Q0cddZQeeeQR/fKXv9RJJ52kPn36OL28oyig2BMKhfSr18PDH6PmbPB8L09PCH8UfUGfSZHgd/2Q6ZrVhilhAEDL0L9dCICdO3fWJ598Ikk64YQTtGFDuOn2799fjz32mNPLO4oCij3pW7wZ/jiU+kMh5/eepCEMeQCA4+jfLgTAY489Vps2bZIknX766UpPT5ckrV27VqeeeqrTyzuKAoo9Xg5/HMrukkq9PXOdcvJbf21BAEDr0b9dCIAdO3bU8uXhZnvllVdqxIgRkqSUlBSdcsopTi/vKAoottQf/li8cY/X2wEAeIT+7UIAfPDBBzVgwABJ0rBhw3Tsscfql7/8pU4++WQ98MADTi/vKAoottQNf9z0yixPhz8AAN6if7sQAIPBYIPbwI0bN07//Oc/9eabb6qqyvvvYNlBAcWO+sMf783d6PV2AAAeon9zHUBbKKDYUX/4Y19ZbP+LBwDAHvq3CwHwpz/9qfr3769p06apoiK+rmlGAcWOusut/Gv8Cq+3AgDwGP3bhQA4cOBA3XzzzTr++ON19NFH67rrrlPfvn01depUlZWVOb28oyig2FBcUa0L+zH8AQAIo3+7+BFwTU2NFixYoMGDB+vWW2/VkUceqaOPPtqt5R1BAcWGsQx/AADqoX+7GADXrFmjkSNH6u6779ZZZ52lU089VXfeeadbyzuCAvK/UCik2xj+AADUQ/92IQD+6U9/0tlnn63TTjtN3bt31+uvv6709HTfvBMzbNgwGYaho48+Wl26dNHixYtb/FwKyP9WMPwBAGiE/u1CADziiCN0+umnyzRNpaSk+Op7f+PHj9dRRx2l0aNHKysrSw899JBOPvlk7dixo0XPp4D8j+EPAEBj9G8XAuDevXv19ddf68knn9SPf/xjHXvssbrmmmvUu3dvpaSkOL38YXXp0qXB/YiDwaDOPvtsDR48uEXPp4D8raje8MeSXIY/AABh9G8PrgO4bt063XffffrWt76ldu3aub18RFVVldq3b6+JEyc2+Pm9996rO+64o0XnoID8jeEPAEBT6N8uBMDdu3friy++0D//+U9ddtllat++fYPvA3pl27ZtCgQCWrBgQYOfP/XUU+rSpUuTz6msrFRRUVHkyMvLS/gC8qv6wx/vM/wBAKiHAOhCAGzXrp3OOOMM/e53v9Obb76pVatWOb1ki7QlACYlJSkQCBx0JHIB+RXDHwCAQyEAuhAAMzMznV6iTdryETDvAMaOpyakyzAtPcnwBwCgEQKgS98BrKmpUWpqqkaMGKHi4mJJ4XfgSkpK3Fj+kLp06aJ//OMfkX8OBoM655xzGAKJcQx/AAAOh/7tQgDctGmTLrzwQh133HFq3769NmzYIEl6/PHH9cgjjzi9/GGNHz9eRx99tD744AOtXr1aDz/8sE4++WQVFBS06PkUkD+NXZArw7T0S4Y/AABNoH+7EAC7deume+65R1VVVTrhhBMiAXDmzJm64IILnF6+WW+99ZbOPfdcHXXUUerSpYsWLVrU4udSQP4TCoV062uzGf4AABwS/duFAHjqqacqJydHkhoEwNzcXB177LFOL+8oCsh/6oY/fsDwBwDgEOjfLgTAk08+WVlZWZIaBsC5c+fqjDPOcHp5R1FA/tNvYgbDHwCAw6J/uxAA//jHP+qhhx6SFA6AGzduVElJiW688Ubdf//9Ti/vKArIf24YOkOGaSk1q2Xf4wQAJB76twsBcMuWLbr44ot10UUX6Vvf+pa6du2q0047TZ07d27xPXf9igLyly17ymSYls7rPUnFFdVebwcA4FP0bxcvA/PRRx/pqaee0t///neNGjVK5eXlbiztKArIX8Yv2SzDtHTX8PlebwUA4GP0b4cDYHV1tc477zytXr3ayWU8QwH5y2MfL5NhWnp16hqvtwIA8DH6twvvAJ599tkEQDguGAzpiuemcvFnAECz6N8uBMAXXnhB9913n2pqapxeynUUkH9kbiuUYVq6uP8UVdcGvd4OAMDH6N8uBMA777xTJ554os466yzdcsst6t69e4MjllFA/jFi1noZpqUHxizxeisAAJ+jf7sQAO+///7DHrGMAvKPe95bxN0/AAAtQv92aQo4XlFA/lBRXavO/SbLMC2tKSj2ejsAAJ+jfxMAbaGA/GH+ul0yTEtXP5+qUCjk9XYAAD5H/yYA2kIB+cOQKdnc/g0A0GL0bwKgLRSQP9zx1lwZpqXP0/K83goAIAbQvwmAtlBAbbd+Z4nyCytsn2dfWZU69LJkmJYKiuyfDwAQ/+jfLgTADz/8UJWVlQf9vKqqSh9++KHTyzuKAmqbzbvL9IO+k9V10DRV1tTaOtfkVdtlmJZ++cqsKO0OABDv6N8uBMB27dppx44dB/189+7dateundPLO4oCapsX939nzzAtfZO+zda5+ny5SoZpKenrzCjtDgAQ7+jfLgTAI444Qjt37jzo5+np6TrllFOcXt5RFFDrVdUEdeXAqZEAePfIhbbO97OhM2SYlqatLojSDgEA8Y7+7WAA/NGPfqQrrrhC7dq102WXXaYrrrgiclx++eU68cQT9Yc//MGp5V1BAbXepP0f2f7o2RR13P/dvQ07S9p0ri17ymSYls7rPUkllfF3q0EAgDPo3w4GwAEDBmjAgAE64ogj9J///CfyzwMGDNCgQYP0ySefqKqqyqnlXUEBtd5fRoXv2DE0OVt/HbNEhmnphUmr23SucYs3yzAt/W74/CjvEgAQz+jfLnwE/MEHHzQ5BBIPKKDW2bS7VIZpqUMvS1v2lCk1q0CGaemK56a2aRik58fLZJiWXktd48BuAQDxiv7tQgDcsmWL8vIOXJ9t8eLFeuKJJzRy5Einl3YcBdQ6gyeHhz96vL9YklRTG9RPXpgmw7T0dSuHQYLBkH70bIoM09LS3D1ObBcAEKfo3y4EwOuvv15jx46VJOXn5+vEE0/UNddco+985zt69tlnnV7eURRQy9Uf/piSkR/5+atT17RpGCRja6EM09LF/aeoujYY7e0CAOIY/duFAHjyyScrJydHkvTGG2/o2muvlSSlpKSoY8eOTi/vKAqo5ayV4eGPq55PbRDYtu0rb9MwyDuz1sswLT0wZokT2wUAxDH6twsB8Pjjj1dubq4k6be//a1efPFFSdLmzZt1zDHHOL28oyiglqsb/ngpOeeg3z3QhmGQe94Ln2/0vI3R3CYAIAHQv10IgF26dJFpmpozZ46OOeYYpaenS5IWLlyoc845x+nlHUUBtUzurobDH421dhikorpWP+g7WYZpaW1BsRNbBgDEMfq3CwFw5syZOvnkk9WuXTv99a9/jfy8d+/e6t69u9PLO4oCapm64Y979w9/NFZTG1TXQS0fBpm3bpcM01KXF1IVCoWivV0AQJyjf7sQACWptrZWe/fubfCz3NzcJm8RF0sooOYdavijsbphkP83ckGz56y7ldyTn66I5lYBAAmC/u1SAKypqVFqaqpGjBih4uLwR3bbtm1TSUnb7gDhFxRQ8+qGP65uNPzRWGuGQX771lwZpqUvluUd9nEAADSF/u1CANy0aZMuvPBCHXfccWrfvr02bNggSXr88cf1yCOPOL28oyig5tUNf7yccvDwR2N1wyDPW1mHfMze0ip12B8UC4oqorlVAECCoH+7EAC7deume+65R1VVVTrhhBMiAXDmzJm64IILnF7eURTQ4dUf/sjbe/DwR2PTVhdE7hN8qGGQunsJ3/zqrGhvFwCQIOjfLgTAU089NXIdwPoBMDc3V8cee6zTyzuKAjq8uuGP+0Y3PfzRWP1hkK9WbG3yMb2/XCXDtDTgm8xobhUAkEDo3y5dCDorK/yRXv0AOHfuXJ1xxhlOL+8oCujQ6g9/JGceevijsddSDz8M8rOhM2SYlqatLojWVgEACYb+7UIA/OMf/6iHHnpIUjgAbty4USUlJbrxxht1//33O728oyigQ6s//FHTilu1bS88MAyyvtEwyJY9ZTJMS+f3nqSSyppobxkAkCDo3y4EwLy8PF188cW66KKL9K1vfUtdu3bVaaedps6dO3MZmDj251ELWzz80diDHzQ9DPLJ4s0yTEu/f2d+tLYJAEhA9G8XLwPz0Ucf6amnntLf//53jRo1SuXl5W4s7SgKqGmtHf5orP4wSEX1gWGQnh8vk2Faei11TTS3CwBIMPRvlwJgvKKAmjZo8upWDX801tQwSDAY0o+eTZFhWkrbtCea2wUAJBj6twsBcPfu3ZH/vGXLFvXv31//+c9/NHv2bKeXdhwFdLCqmqB+/Fx4+COlFcMfjdUNg/xxRHgYJGNroQzT0iXPJB/2gtIAADSH/u1gAFy1apUMw1C7du3UuXNnrVixQmeeeaZOOOEEffvb31b79u01ceJEp5Z3BQV0sLrhjy4vtG74o7HGwyDvzFovw7T04AdLorhbAEAion87GABvu+02/eY3v9G8efP0yCOP6JxzztEDDzygYDCoYDConj176ic/+YlTy7uCAjpY3fDHK20Y/misbhhk4P+yIncUGTNvYxR2CQBIZPRvBwPgaaedppUrV0qSSkpKdMQRRygtLS3y++zsbJ100klOLe8KCqghu8MfjdUNg/zw2RT9oO9kGaaldTuKo7BTAEAio387GACPOOKIBpd5qX8RaEkqKChQu3btnFreFRRQQ3XDH/e3cfijsdpgKDIMUvexcigUisq5AQCJi/7tcADcuXNn5J/rLgJdhwAYX6I1/NFY3TCIYVr6v0/To3ZeAEDion87HABvv/12de/eXd27d9e3vvUt3XLLLZF/vv322wmAcWTi8q1RGf5orP4wyJfL86J2XgBA4qJ/OxgA77///hYdsYwCCquqCUbu0fvW9LVRP/8rKTn6fyMXqLiiOurnBgAkHvo3F4K2hQIKG7twkwzT0pUDU1XKPXoBAD5H/yYA2kIBSWVVNbrq+VQZpqUPF+R6vR0AAJpF/yYA2kIBSW9NXyvDtPTTITNUVcMdOgAA/kf/JgDakugFtLe0Spc+k9zgnr0AAPhdovdviQBoS6IX0PNWlgzT0q9en6NgkOvzAQBiQ6L3b4kAaEsiF9DWfeXqtP/uHDNzdjT/BAAAfCKR+3cdAqANiVxAT01Il2Fa+uOIBdydAwAQUxK5f9chANqQqAW0tqA4cnHmZZv3er0dAABaJVH7d30EQBsStYAe+nCpDNPSw2OXer0VAABaLVH7d30EQBsSsYCWbd4rw7TUsZeldTuKvd4OAACtloj9uzECoA2JVkChUEh/HLFAhmnpqQnpXm8HAIA2SbT+3RQCoA2JVkAzcnbIMC116jtZ2/aVe70dAADaJNH6d1MIgDYkUgEFgyHd9vocGaal560sr7cDAECbJVL/PhQCoA2JVEBfrdgqw7R06TPJ2lta5fV2AABos0Tq34dCALQhUQqoqiaonw6ZIcO09Nb0tV5vBwAAWxKlfx8OAdCGRCmgDxfkyjAtXfV8qsqqarzeDgAAtiRK/z6cuAyAubm5euCBB9ShQwcdc8wxOu+88/TMM8+oqqrhR5crV67U9ddfr6OPPlrf+973NGTIkFatkwgFVFpZoysHTpVhWhq7cJPX2wEAwLZE6N/NicsAOGXKFN1///1KSUnRhg0b9PXXX+uMM87Qv//978hjioqKdOaZZ+ovf/mLMjMzNW7cOB177LEaOXJki9dJhAJ6Y9paGaalnw2doeraoNfbAQDAtkTo382JywDYlKFDh6pjx46Rfx4+fLhOOeWUBu8Kmqapzp07t/ic8V5Ae0qrdMkzyTJMS1+nb/N6OwAAREW89++WSJgA2LdvX1155ZWRf+7Ro4e6devW4DEzZsxQIBDQ3r1N39+2srJSRUVFkSMvLy9uC2jrvnL9ZdQiGaal29+Yo2Aw5PWWAACICgJgggTAdevW6dvf/rbefffdyM9uvvlmPfzwww0el5WVpUAgoNWrVzd5nqSkJAUCgYOOeCqgmtqgRs3ZoIv6T5FhWrqgzyQt3LDb620BABA1BMAYC4CmaTYZwOof2dnZDZ6zdetWnX/++XrwwQcb/LwtATDe3wFM37JPv9p/sWfDtPT7d+ZrbQH3+wUAxBcCYIwFwJ07dyo7O/uwR/3v9G3btk2dOnVSjx49FAw2HGBoy0fAjcVLARVXVCvp60x16BUOfpcPSNH4JZv52BcAEJfipX/bEVMBsDW2bt2qTp066e6771Ztbe1Bv68bAqmuro78rHfv3gk1BBIKhTQlY7u6vJAaedfvX+NXaFdJpddbAwDAMbHev6MhLgPg1q1bdcEFF+imm27S1q1blZ+fHznqFBYW6swzz1SPHj2UmZmp8ePH67jjjkuYy8Bs3VeuBz9YEgl+Pxs6Q3PX7vJ6WwAAOC6W+3e0xGUAHDNmzCG/I1hf/QtBn3POOXrxxRdbtU4sFlBTQx4vp+Soovrgd0kBAIhHsdi/oy0uA6BbYrGA6r/rx5AHACARxWL/jjYCoA2xVkDb9pXLMC117GUx5AEASFix1r+dQAC0IdYK6NOlW2SYlu58e57XWwEAwDOx1r+dQAC0IdYK6PFxy2WYll5OyfF6KwAAeCbW+rcTCIA2xFIBBYMhXTlwqgzT4s4eAICEFkv92ykEQBtiqYBWby+SYVq6sN8UVdYw8QsASFyx1L+dQgC0IZYKaNScDTJMS/eNXuz1VgAA8FQs9W+nEABtiKUCum/0YhmmpVFzNni9FQAAPBVL/dspBEAbYqWAKmtqdWG/8IWfV2/3914BAHBarPRvJxEAbYiVAlq4YbcM09KVA6cqFOLafwCAxBYr/dtJBEAbYqWAXk7JkWFaenzccq+3AgCA52KlfzuJAGhDrBRQt2HzZJiWPl26xeutAADguVjp304iANoQCwVUWF6tjr3C9/7dtq/c6+0AAOC5WOjfTiMA2hALBZScmS/DtPSLl2d6vRUAAHwhFvq30wiANsRCAfWbmCHDtNT/qwyvtwIAgC/EQv92GgHQhlgooF+8NFOGaSklM9/rrQAA4Aux0L+dRgC0we8FtHVfuQzTUsdelooqqr3eDgAAvuD3/u0GAqANfi+gT5dskWFauvPteV5vBQAA3/B7/3YDAdAGvxfQPz9ZLsO09EpKjtdbAQDAN/zev91AALTBzwUUDIb04+emyjAtLdqw2+vtAADgG37u324hANrg5wLK2lYkw7R0Uf8pqqoJer0dAAB8w8/92y0EQBv8XEDvzt4gw7R0/+jFXm8FAABf8XP/dgsB0AY/F9C97y+WYVoaNWeD11sBAMBX/Ny/3UIAtMGvBVRZU6vO/SbLMC1l5/trbwAAeM2v/dtNBEAb/FpAC9bvlmFaunJgqkKhkNfbAQDAV/zav91EALTBrwX0UnKODNPSE+OWe70VAAB8x6/9200EQBv8WkB3DJsnw7T02dItXm8FAADf8Wv/dhMB0AY/FlBhWbU69rJkmJa2F5Z7vR0AAHzHj/3bbQRAG/xYQFMy8mWYlm58eabXWwEAwJf82L/dRgC0wY8F1HfiKhmmpWe+yvB6KwAA+JIf+7fbCIA2+LGAfv7STBmmpalZBV5vBQAAX/Jj/3YbAdAGvxVQ3t4yGaal83pPUlFFtdfbAQDAl/zWv71AALTBbwU0fslmGaal7m/P83orAAD4lt/6txcIgDb4rYD+8clyGaalV6au8XorAAD4lt/6txcIgDb4qYCCwZB+/NxUGaalxRv3eL0dAAB8y0/92ysEQBv8VECZ2wplmJYu6j9FVTVBr7cDAIBv+al/e4UAaIOfCmjk7PUyTEt/HbPE660AAOBrfurfXiEA2uCnAurx/mIZpqX35m70eisAAPian/q3VwiANvilgCpratW532QZpqWc/GJP9wIAgN/5pX97iQBog18KaP76XTJMS1c9n6pQKOTpXgAA8Du/9G8vEQBt8EsBDU3OlmFa+tf4FZ7uAwCAWOCX/u0lAqANfimgO4bNk2FampCW5+k+AACIBX7p314iANrghwIqLKtWx16WDNNSfmGFZ/sAACBW+KF/e40AaIMfCmhmzg4ZpqVfvDTTsz0AABBL/NC/vUYAtMEPBfTOrPD1/3p+vMyzPQAAEEv80L+9RgC0wQ8F9K/xK2SYlt6avtazPQAAEEv80L+9RgC0wQ8FdOtrs2WYllKzCjzbAwAAscQP/dtrBEAbvC6g6tqgLugzSYZpacueMk/2AABArPG6f/sBAdAGrwsoJ79YhmnpkmeSuQA0AAAt5HX/9gMCoA1eF9BXK7bKMC3dNXy+J+sDABCLvO7ffkAAtMHrAnpxSvgOIH2+XOXJ+gAAxCKv+7cfEABt8LqA/jpmiQzT0tgFuZ6sDwBALPK6f/sBAdAGrwvomkHTZJiWluTu8WR9AABikdf92w8IgDZ4WUCF5dUyzPAt4ArLq11fHwCAWEUAJADa4mUBLd64R4Zp6drB011fGwCAWEYAJADa4mUBfbggV4Zp6YExS1xfGwCAWEYAJADa4mUB9f5ylQzT0pAp2a6vDQBALCMAEgBt8bKAur89T4Zp6ev0ba6vDQBALCMAEgBt8aqAgsGQLnkmWYZpaU1BsatrAwAQ6wiABEBbvCqgLXvKZJiWOvWZrOraoKtrAwAQ6wiACRAAKysr9cMf/lCBQEArVqxo8LuVK1fq+uuv19FHH63vfe97GjJkSKvO7VUBTc0qkGFauu31Oa6uCwBAPCAAJkAAfPzxskZFvAAAFUBJREFUx/WrX/3qoABYVFSkM888U3/5y1+UmZmpcePG6dhjj9XIkSNbfG6vCujNaWtlmJaeHL+i+QcDAIAGCIBxHgAnT56sCy+8UFlZWQcFwOHDh+uUU05RVVVV5Gemaapz584tPr9XBdTz42UyTEsjZq13dV0AAOIBATCOA2BBQYHOOeccLV26VLm5uQcFwB49eqhbt24NnjNjxgwFAgHt3bu3yXNWVlaqqKgocuTl5XlSQDe+PFOGaWnWmp2urgsAQDwgAMZpAAyFQrrttts0cOBASWoyAN588816+OGHGzyv7p3C1atXN3nepKQkBQKBgw43C6iiulYde4VvAVdQVOHaugAAxAsCYIwFQNM0mwxg9Y/s7Gy98cYbuu6661RbWyspegHQD+8AZmwtlGFa+tGzKQqFQq6tCwBAvCAAxlgA3Llzp7Kzsw97VFVVqVu3bmrXrp3at28fOQKBgNq3b697771XUts+Am7MiwL6bOkWGaalu0cudG1NAADiCQEwxgJgS23evFkZGRmRIyUlRYFAQJ9//rny8vIkHRgCqa6ujjyvd+/evh8CGfi/LBmmpaSvM11bEwCAeEIAjNMA2FhTHwEXFhbqzDPPVI8ePZSZmanx48fruOOO8/1lYP4yapEM09L4JZtdWxMAgHhCAEzgACg1vBD0OeecoxdffLFV5/WigK4cmCrDtLRiyz7X1gQAIJ4QABMkADrF7QLaVVIpw7TUoZelsqoaV9YEACDeEAAJgLa4XUDz1u2SYVq6YegMV9YDACAeEQAJgLa4XUCj5myQYVp6ZGyaK+sBABCPCIAEQFvcLqD/fJYuw7T06tQ1rqwHAEA8IgASAG1xu4B+8+ZcGaalKRnbXVkPAIB4RAAkANriZgHVBkP6Qd/JMkxLG3eVOr4eAADxigBIALTFzQJav7NEhmnpwn5TVBvkFnAAALQVAZAAaIubBWSt3C7DtHTHsHmOrwUAQDwjABIAbXGzgF5JyZFhWnp6wkrH1wIAIJ4RAAmAtrhZQH/7cKkM09LoeRsdXwsAgHhGACQA2uJmAf10yAwZpqX563c5vhYAAPGMAEgAtMWtAiqprJFhWjJMS3tKqxxdCwCAeEcAJADa4lYBLdu8V4Zp6ernUx1dBwCAREAAJADa4lYBfbxoswzTUo/3Fzu6DgAAiYAASAC0xa0CeuarDBmmpRcmrXZ0HQAAEgEBkABoi1sF9IcRC2SYlr5YlufoOgAAJAICIAHQFjcKKBQK6bKkZBmmpaxtiVuoAABECwGQAGiLGwW0vbBchmnpvN6TVFlT69g6AAAkCgIgAdAWNwpoRvYOGaalm1+d5dgaAAAkEgIgAdAWNwpo+Mz1MkxL//hkuWNrAACQSAiABEBb3Cigx8ctl2FaGjZjnWNrAACQSAiABEBb3CigW1+bLcO0NG11gWNrAACQSAiABEBbnC6gqpqgzu89SYZpaeu+ckfWAAAg0RAACYC2OF1A2flFMkxLlyYlKxQKObIGAACJhgBIALTF6QKauHyrDNPS79+Z78j5AQBIRARAAqAtThfQ4MnZMkxLfSeucuT8AAAkIgIgAdAWpwvovtGLZZiW/rtwkyPnBwAgEREACYC2OF1AP3lhmgzTUtqmPY6cHwCAREQAJADa4mQB7SurkmFaMkxLxRXVUT8/AACJigBIALTFyQJauGG3DNPSdS9Oj/q5AQBIZARAAqAtThbQB/NzZZiWHvxgSdTPDQBAIiMAEgBtcbKAen2xUoZp6aXknKifGwCAREYAJADa4mQB3fn2PBmmpW/St0X93AAAJDICIAHQFqcKKBgM6aL+U2SYltbtKI7quQEASHQEQAKgLU4V0ObdZTJMS536TlZNbTCq5wYAINERAAmAtjhVQMmZ+TJMS7e/MSeq5wUAAARAiQBoixMFlJyZH7kA9L8/S4/aeQEAQBgBkABoSzQLaOu+cj34wdLIxZ9/OmSGNuwsicIuAQBAfQRAAqAt0SigmtqgRs3ZEBn6OL/3JA1NzlZFdW0UdwoAAOoQAAmAttgtoJV5+3T7G3Mi7/r9bvh8rSlg6hcAACcRAAmAtrS1gIorqpX0daY69goHv8uSkvXJ4s0KBkMO7RQAANQhABIAbWltAYVCIU3J2K4uL6RG3vV7Ytxy7SyudHinAACgDgGQAGhLawooPOSxJBL8fjZ0huas3enCLgEAQH0EQAKgLS0toIrqWl05MPyu3wV9Juml5ByGPAAA8AgBkABoS2sKaNScDQx5AADgAwRAAqAtrSmg2mCIIQ8AAHyAAEgAtKWwsFCBQEB5eXkqKiri4ODg4ODgiIEjLy9PgUBAhYWFXkcJzxAAbagrIA4ODg4ODo7YO/Ly8ryOEp4hANoQDAaVl5enwsLCFv/bRjy/Wxjvr5HXF/tHvL9GXl/sH/H+Gv3y+goLC5WXl6dgMOh1lPAMAdAlRUXx/32DeH+NvL7YF++vkdcX++L9Ncb764slBECXJELRx/tr5PXFvnh/jby+2BfvrzHeX18sIQC6JBGKPt5fI68v9sX7a+T1xb54f43x/vpiCQHQJZWVlUpKSlJlZfze9i3eXyOvL/bF+2vk9cW+eH+N8f76YgkBEAAAIMEQAAEAABIMARAAACDBEAABAAASDAEQAAAgwRAAXTJs2DAZhqGjjz5aXbp00eLFi73eUlQkJSUddGudzp07e70tW2bPnq3f/OY3OuussxQIBDRx4sQGvw+FQurfv7+++93v6phjjtFNN92ktWvXerTb1mvu9d13330H/U1vvfVWj3bbeoMGDdJVV12lE044Qaeffrq6deumnJycBo+pqKhQz549deqpp+r444/XXXfdpYKCAo923DoteX033HDDQX/DRx55xKMdt97w4cN12WWX6cQTT9SJJ56orl27avLkyZHfx/LfT2r+9cX636+xwYMHKxAI6Iknnoj8LNb/hvGAAOiC8ePH66ijjtLo0aOVlZWlhx56SCeffLJ27Njh9dZsS0pK0iWXXKL8/PzIsWvXLq+3ZcvkyZPVt29fffnll00GpBdffFEnnXSSvvrqK61cuVJ33HGHOnbsqIqKCo923DrNvb777rtPt912W4O/6d69ez3abevdeuutGjNmjDIzM5Wenq7bb79d5557rkpLSyOPefTRR/X9739f06dPV1pamrp27aprr73Ww123XEte3w033KCHHnqowd8wlq679s0332jSpElau3at1qxZoz59+ujII49UZmampNj++0nNv75Y//vVt2TJEnXo0EGXX355gwAY63/DeEAAdEGXLl302GOPRf45GAzq7LPP1uDBgz3cVXQkJSXphz/8odfbcEzjgBQKhfTd735XL730UuRnhYWFOvroozVu3DgvtmjLoQJgt27dPNpR9O3cuVOBQECzZ8+WFP57HXnkkZowYULkMdnZ2QoEAlq4cKFX22yzxq9PCgeI+s02Hpxyyil677334u7vV6fu9Unx8/crKSlRp06dlJqa2uA1xevfMNYQAB1WVVWl9u3bH9Rk7733Xt1xxx0e7Sp6kpKSdNxxx+mss85Sx44d9ec//1mbN2/2eltR0zggbdiwQYFAQCtWrGjwuJ/97Gd6/PHH3d6ebYcKgCeddJJOP/10/eAHP9Cjjz6q3bt3e7RD+9atW6dAIKCMjAxJ0vTp0xUIBLRv374Gjzv33HP16quverFFWxq/PikcIL7zne/otNNO0yWXXKJevXqprKzMw122XW1trcaNG6ejjjpKWVlZcff3a/z69P/bu/+Yquo/juMH7y5XAbkSv0yQm6hF5aA5vA1rOobpptOizVir1ZbTbJq0CMbMrY21csvU0piuPyD7oVkD+SMjYoIV6iYNhGIKl+5Ck/WDsYAYreD5/cNx7MIl+CZwufe+Htv945z74fD+8P6D1z0/PpfA6d9TTz3FCy+8AHiG2kDrob9SAJxiP/30E4ZhcO7cOY/9+fn5OJ1OH1U1eU6fPs3Jkye5dOkSlZWVZGRkkJSURE9Pj69LmxQjA1JdXR2GYXD9+nWPcZs3b+axxx6b7vJumbcAePz4cSoqKmhqaqK8vJy7776bFStW8Pfff/uoyv9ucHCQDRs28MADD5j7PvzwQ0JDQ0eNXbFiBQUFBdNZ3i3zNj+Ao0ePUllZSVNTEx988AEJCQlkZ2f7qMr/pqmpifDwcCwWC3a7nc8++wwInP6NNT8IjP4dP36cZcuWmbfG/DMABkoP/Z0C4BQL9AA4Und3N5GRkealDH8XjAFwpOGzntXV1dNU1eTZvn07DoeDq1evmvsC6Z+Pt/l5M3zGxeVyTVNlt+7PP/+kra2N+vp6CgsLiYmJ4fvvvw+Y/o01P2/8rX8dHR3ExcVx6dIlc58C4MyjADjFAv0SsDfp6ekUFhb6uoxJEYyXgL2JiYnhyJEj01DR5NmxYweJiYn88MMPHvsD5fLTWPPzpq+vD8MwqKysnIbKpkZWVhbbtm0LmP6NNDw/b/ytf+Xl5RiGgcViMV+GYRASEoLFYqG6ujoge+hvFACngdPpZOfOneb24OAgCQkJAfEQyEi9vb1ERUXx1ltv+bqUSTHWQyD79u0z9/3+++8B9RDISFevXiUkJISKioppqurWDA0NsWPHDhYsWOB1eZ7hG9A//fRTc9/ly5f95gb08ebnzTfffINhGB5nZPxNZmYmTz/9tN/3byzD8/PG3/rX09NDc3Ozxys9PZ0nn3yS5ubmgO2hv1EAnAYnTpzAZrNRWlpKS0sL27ZtY968eQGx5lFeXh61tbW43W7q6upYs2YNMTEx/PLLL74u7T/r7e2loaGBhoYGDMNg//79NDQ0mA+37N27l3nz5pn3yT388MN+tQzMv82vt7eXl156ifPnz+N2u6murmb58uUsXbqUgYEBX5c+Ic899xx2u53a2lqPZTT6+/vNMdu3bycpKYkzZ85QX19PRkYGGRkZPqx64sabn8vloqioiPr6etxuNxUVFSQnJ7Nq1SofVz5xhYWFnD17FrfbTVNTE4WFhYSEhFBVVQX4d//g3+cXCP3zZuSTzf7ew0CgADhNDh06RFJSEqGhoTidTi5cuODrkiZFTk4Ot99+O6GhoSQkJJCTk+M396mMpaamZtQirIZhmJ/OhxeCjo+Px2azkZWVxZUrV3xb9P/h3+bX39/P2rVriY2NxWq14nA42Lp1q199WPE2N8MwKCkpMccML0IbFRVFWFgY2dnZdHZ2+q7o/8N48+vo6GDVqlXcdttt2Gw2lixZQn5+vl+tI/fMM8/gcDgIDQ0lNjaWrKwsM/yBf/cP/n1+gdA/b0YGQH/vYSBQABQREREJMgqAIiIiIkFGAVBEREQkyCgAioiIiAQZBUARERGRIKMAKCIiIhJkFABFREREgowCoIiIiEiQUQAUEZliJSUl2O12X5chImJSABSRGaOzs5Ndu3axePFibDYbcXFxrFy5kuLiYv744w9flzchDoeDAwcOeOzr7+/n559/9lFFIiKjKQCKyIzQ3t7O/PnzSUlJ4eOPP6alpYX29nZOnTrF+vXrqaio8FltQ0ND/PXXXxMa6y0AiojMNAqAIjIjrFu3jsTERPr6+ry+PzQ0BEB3dzdbtmwhJiaGuXPnkpmZSWNjoznulVdeIS0tjWPHjuFwOIiMjCQnJ4eenh5zzODgIK+99hp33HEHs2fPJjU1lU8++cR8f/j7kk+fPs3y5cuxWq3U1NTgcrnYtGkTcXFxhIeHk56ezpdffmn+3OrVq0d9Ry94vwRcXFxMcnIyVquVO++8k2PHjnm8bxgG7777Lo888ghz5sxhyZIlPg3BIhJYFABFxOd+++03QkJCeP3118cdu2bNGjZu3MjFixdpbW0lLy+P6Ohourq6gBsBMCIigkcffZTm5ma++uor5s+fz+7du81jvPrqq6SkpFBZWUl7ezslJSXYbDZqa2uBmwEwNTWVqqoqXC4XXV1dNDY2cuTIEZqbm2ltbWXPnj3Mnj2bH3/8EYCuri4SExMpKiqis7PT/HL7kQGwrKwMq9XKO++8w5UrV3jzzTexWCycOXPGHGMYBomJiXz00Ue0tbWxa9cuIiIizHmKiNwKBUAR8bkLFy5gGAZlZWUe+6OjowkPDyc8PJyCggK+/vprIiMjGRgY8Bi3ePFijh49CtwIgGFhYR5n/PLz87n//vsBGBgYICwsjHPnznkcY8uWLTz++OPAzQB46tSpcWu/9957OXTokLnt7RLwyAC4cuVKtm7d6jFm8+bNrF+/3tw2DIM9e/aY2319fRiGweeffz5uTSIi41EAFBGfGysAtre309bWhtPpJDc3l8OHDzNr1iwzFA6/Zs2aRUFBAXAjAN5zzz0ex9m/fz+LFi0C4LvvvsMwjFHHsFqtOJ1O4GYAvHbtmsdxent7ycvLIyUlBbvdbv7u/Px8c8xEAmBUVBSlpaUeYw4ePGjWCDcC4MmTJz3GREZG8t57743/BxURGYcCoIj43HiXgFevXk1ubi579+4lISGBtra2Ua9ff/0VuHkP4D8dOHAAh8MB3AybtbW1o47R0dEB3AyA3d3dHsd59tlnSU5OpqysjKamJtra2khLSyM3N9ccM5kBsLy83GOM3W6npKRkrD+jiMiEKQCKyIywdu1aEhISvD4EMhwAq6qqsFgsuN3uMY8zXgDs6enBZrONeujin8YKgMuWLaOoqMjc7u3txW63ewTApUuXsm/fPo+fm+gl4A0bNpjbCoAiMpUUAEVkRnC5XMTHx5OSksKJEydoaWnh8uXLvP/++8THx/Piiy8yNDTEgw8+SFpaGl988QVut5u6ujp2797NxYsXgfEDIMDLL79MdHQ0paWluFwuvv32W95++23zrNxYATA7O5v77ruPhoYGGhsb2bhxI3PnzvUIgA899BCbNm3i2rVr5lnJkQGwvLwcq9VKcXExra2t5kMgNTU15hgFQBGZSgqAIjJjXL9+nZ07d7Jo0SKsVisRERE4nU7eeOMNcyHonp4enn/+eRYsWIDVamXhwoU88cQT5uXbiQTAoaEhDh48yF133YXVaiU2NpZ169Zx9uxZYOwA6Ha7yczMZM6cOSxcuJDDhw+bZyeHnT9/ntTUVGw22y0vA6MAKCJTRQFQREREJMgoAIqIiIgEGQVAERERkSCjACgiIiISZBQARURERIKMAqCIiIhIkFEAFBEREQkyCoAiIiIiQUYBUERERCTIKACKiIiIBBkFQBEREZEgowAoIiIiEmQUAEVERESCzP8Ana/4A0CIX7wAAAAASUVORK5CYII=\" width=\"640\">"
      ],
      "text/plain": [
       "<IPython.core.display.HTML object>"
      ]
     },
     "metadata": {},
     "output_type": "display_data"
    },
    {
     "data": {
      "application/vnd.jupyter.widget-view+json": {
       "model_id": "1104a20f96f24b83aadb44d0677db135",
       "version_major": 2,
       "version_minor": 0
      },
      "text/plain": [
       "  0%|          | 0/1000 [00:00<?, ?generation/s]"
      ]
     },
     "metadata": {},
     "output_type": "display_data"
    },
    {
     "ename": "KeyboardInterrupt",
     "evalue": "",
     "output_type": "error",
     "traceback": [
      "\u001b[1;31m---------------------------------------------------------------------------\u001b[0m",
      "\u001b[1;31mKeyboardInterrupt\u001b[0m                         Traceback (most recent call last)",
      "\u001b[1;32m<ipython-input-72-c0fb41d9df89>\u001b[0m in \u001b[0;36m<module>\u001b[1;34m\u001b[0m\n\u001b[0;32m     11\u001b[0m \u001b[1;33m\u001b[0m\u001b[0m\n\u001b[0;32m     12\u001b[0m \u001b[1;32mfor\u001b[0m \u001b[0miteration\u001b[0m \u001b[1;32min\u001b[0m \u001b[0mtqdm\u001b[0m\u001b[1;33m(\u001b[0m\u001b[0mrange\u001b[0m\u001b[1;33m(\u001b[0m\u001b[1;36m1000\u001b[0m\u001b[1;33m)\u001b[0m\u001b[1;33m,\u001b[0m\u001b[0munit\u001b[0m\u001b[1;33m=\u001b[0m\u001b[1;34m\"generation\"\u001b[0m\u001b[1;33m)\u001b[0m\u001b[1;33m:\u001b[0m\u001b[1;33m\u001b[0m\u001b[1;33m\u001b[0m\u001b[0m\n\u001b[1;32m---> 13\u001b[1;33m     \u001b[0mrun_global_simulation_parallel\u001b[0m\u001b[1;33m(\u001b[0m\u001b[1;32mFalse\u001b[0m\u001b[1;33m,\u001b[0m \u001b[1;32mFalse\u001b[0m\u001b[1;33m,\u001b[0m \u001b[0mnb_of_simulations\u001b[0m\u001b[1;33m=\u001b[0m\u001b[1;36m100\u001b[0m\u001b[1;33m)\u001b[0m\u001b[1;33m\u001b[0m\u001b[1;33m\u001b[0m\u001b[0m\n\u001b[0m\u001b[0;32m     14\u001b[0m         \u001b[1;31m#We increase the number of simulation to get more data for each snake.\u001b[0m\u001b[1;33m\u001b[0m\u001b[1;33m\u001b[0m\u001b[1;33m\u001b[0m\u001b[0m\n\u001b[0;32m     15\u001b[0m     \u001b[0mgeneration_results\u001b[0m\u001b[1;33m.\u001b[0m\u001b[0mappend\u001b[0m\u001b[1;33m(\u001b[0m\u001b[0mfarm\u001b[0m\u001b[1;33m[\u001b[0m\u001b[1;36m0\u001b[0m\u001b[1;33m]\u001b[0m\u001b[1;33m.\u001b[0m\u001b[0m_reward\u001b[0m\u001b[1;33m)\u001b[0m\u001b[1;33m\u001b[0m\u001b[1;33m\u001b[0m\u001b[0m\n",
      "\u001b[1;32m<ipython-input-63-be2e11552682>\u001b[0m in \u001b[0;36mrun_global_simulation_parallel\u001b[1;34m(display_tqdm, track_best, nb_of_simulations)\u001b[0m\n\u001b[0;32m     26\u001b[0m         \u001b[0mfarm\u001b[0m \u001b[1;33m=\u001b[0m \u001b[0mParallel\u001b[0m\u001b[1;33m(\u001b[0m\u001b[0mn_jobs\u001b[0m\u001b[1;33m=\u001b[0m\u001b[0mnum_cores\u001b[0m\u001b[1;33m)\u001b[0m\u001b[1;33m(\u001b[0m\u001b[0mdelayed\u001b[0m\u001b[1;33m(\u001b[0m\u001b[0mrun_simulation_parallel\u001b[0m\u001b[1;33m)\u001b[0m\u001b[1;33m(\u001b[0m\u001b[0mS\u001b[0m\u001b[1;33m,\u001b[0m \u001b[0mnb_of_simulations\u001b[0m\u001b[1;33m)\u001b[0m \u001b[1;32mfor\u001b[0m \u001b[0mS\u001b[0m \u001b[1;32min\u001b[0m \u001b[0mtqdm\u001b[0m\u001b[1;33m(\u001b[0m\u001b[0mfarm\u001b[0m\u001b[1;33m)\u001b[0m\u001b[1;33m)\u001b[0m\u001b[1;33m\u001b[0m\u001b[1;33m\u001b[0m\u001b[0m\n\u001b[0;32m     27\u001b[0m     \u001b[1;32melse\u001b[0m\u001b[1;33m:\u001b[0m\u001b[1;33m\u001b[0m\u001b[1;33m\u001b[0m\u001b[0m\n\u001b[1;32m---> 28\u001b[1;33m         \u001b[0mfarm\u001b[0m \u001b[1;33m=\u001b[0m \u001b[0mParallel\u001b[0m\u001b[1;33m(\u001b[0m\u001b[0mn_jobs\u001b[0m\u001b[1;33m=\u001b[0m\u001b[0mnum_cores\u001b[0m\u001b[1;33m)\u001b[0m\u001b[1;33m(\u001b[0m\u001b[0mdelayed\u001b[0m\u001b[1;33m(\u001b[0m\u001b[0mrun_simulation_parallel\u001b[0m\u001b[1;33m)\u001b[0m\u001b[1;33m(\u001b[0m\u001b[0mS\u001b[0m\u001b[1;33m,\u001b[0m \u001b[0mnb_of_simulations\u001b[0m\u001b[1;33m)\u001b[0m \u001b[1;32mfor\u001b[0m \u001b[0mS\u001b[0m \u001b[1;32min\u001b[0m \u001b[0mfarm\u001b[0m\u001b[1;33m)\u001b[0m\u001b[1;33m\u001b[0m\u001b[1;33m\u001b[0m\u001b[0m\n\u001b[0m\u001b[0;32m     29\u001b[0m \u001b[1;33m\u001b[0m\u001b[0m\n\u001b[0;32m     30\u001b[0m \u001b[1;33m\u001b[0m\u001b[0m\n",
      "\u001b[1;32mc:\\users\\33616\\appdata\\local\\programs\\python\\python38\\lib\\site-packages\\joblib\\parallel.py\u001b[0m in \u001b[0;36m__call__\u001b[1;34m(self, iterable)\u001b[0m\n\u001b[0;32m   1052\u001b[0m \u001b[1;33m\u001b[0m\u001b[0m\n\u001b[0;32m   1053\u001b[0m             \u001b[1;32mwith\u001b[0m \u001b[0mself\u001b[0m\u001b[1;33m.\u001b[0m\u001b[0m_backend\u001b[0m\u001b[1;33m.\u001b[0m\u001b[0mretrieval_context\u001b[0m\u001b[1;33m(\u001b[0m\u001b[1;33m)\u001b[0m\u001b[1;33m:\u001b[0m\u001b[1;33m\u001b[0m\u001b[1;33m\u001b[0m\u001b[0m\n\u001b[1;32m-> 1054\u001b[1;33m                 \u001b[0mself\u001b[0m\u001b[1;33m.\u001b[0m\u001b[0mretrieve\u001b[0m\u001b[1;33m(\u001b[0m\u001b[1;33m)\u001b[0m\u001b[1;33m\u001b[0m\u001b[1;33m\u001b[0m\u001b[0m\n\u001b[0m\u001b[0;32m   1055\u001b[0m             \u001b[1;31m# Make sure that we get a last message telling us we are done\u001b[0m\u001b[1;33m\u001b[0m\u001b[1;33m\u001b[0m\u001b[1;33m\u001b[0m\u001b[0m\n\u001b[0;32m   1056\u001b[0m             \u001b[0melapsed_time\u001b[0m \u001b[1;33m=\u001b[0m \u001b[0mtime\u001b[0m\u001b[1;33m.\u001b[0m\u001b[0mtime\u001b[0m\u001b[1;33m(\u001b[0m\u001b[1;33m)\u001b[0m \u001b[1;33m-\u001b[0m \u001b[0mself\u001b[0m\u001b[1;33m.\u001b[0m\u001b[0m_start_time\u001b[0m\u001b[1;33m\u001b[0m\u001b[1;33m\u001b[0m\u001b[0m\n",
      "\u001b[1;32mc:\\users\\33616\\appdata\\local\\programs\\python\\python38\\lib\\site-packages\\joblib\\parallel.py\u001b[0m in \u001b[0;36mretrieve\u001b[1;34m(self)\u001b[0m\n\u001b[0;32m    931\u001b[0m             \u001b[1;32mtry\u001b[0m\u001b[1;33m:\u001b[0m\u001b[1;33m\u001b[0m\u001b[1;33m\u001b[0m\u001b[0m\n\u001b[0;32m    932\u001b[0m                 \u001b[1;32mif\u001b[0m \u001b[0mgetattr\u001b[0m\u001b[1;33m(\u001b[0m\u001b[0mself\u001b[0m\u001b[1;33m.\u001b[0m\u001b[0m_backend\u001b[0m\u001b[1;33m,\u001b[0m \u001b[1;34m'supports_timeout'\u001b[0m\u001b[1;33m,\u001b[0m \u001b[1;32mFalse\u001b[0m\u001b[1;33m)\u001b[0m\u001b[1;33m:\u001b[0m\u001b[1;33m\u001b[0m\u001b[1;33m\u001b[0m\u001b[0m\n\u001b[1;32m--> 933\u001b[1;33m                     \u001b[0mself\u001b[0m\u001b[1;33m.\u001b[0m\u001b[0m_output\u001b[0m\u001b[1;33m.\u001b[0m\u001b[0mextend\u001b[0m\u001b[1;33m(\u001b[0m\u001b[0mjob\u001b[0m\u001b[1;33m.\u001b[0m\u001b[0mget\u001b[0m\u001b[1;33m(\u001b[0m\u001b[0mtimeout\u001b[0m\u001b[1;33m=\u001b[0m\u001b[0mself\u001b[0m\u001b[1;33m.\u001b[0m\u001b[0mtimeout\u001b[0m\u001b[1;33m)\u001b[0m\u001b[1;33m)\u001b[0m\u001b[1;33m\u001b[0m\u001b[1;33m\u001b[0m\u001b[0m\n\u001b[0m\u001b[0;32m    934\u001b[0m                 \u001b[1;32melse\u001b[0m\u001b[1;33m:\u001b[0m\u001b[1;33m\u001b[0m\u001b[1;33m\u001b[0m\u001b[0m\n\u001b[0;32m    935\u001b[0m                     \u001b[0mself\u001b[0m\u001b[1;33m.\u001b[0m\u001b[0m_output\u001b[0m\u001b[1;33m.\u001b[0m\u001b[0mextend\u001b[0m\u001b[1;33m(\u001b[0m\u001b[0mjob\u001b[0m\u001b[1;33m.\u001b[0m\u001b[0mget\u001b[0m\u001b[1;33m(\u001b[0m\u001b[1;33m)\u001b[0m\u001b[1;33m)\u001b[0m\u001b[1;33m\u001b[0m\u001b[1;33m\u001b[0m\u001b[0m\n",
      "\u001b[1;32mc:\\users\\33616\\appdata\\local\\programs\\python\\python38\\lib\\site-packages\\joblib\\_parallel_backends.py\u001b[0m in \u001b[0;36mwrap_future_result\u001b[1;34m(future, timeout)\u001b[0m\n\u001b[0;32m    540\u001b[0m         AsyncResults.get from multiprocessing.\"\"\"\n\u001b[0;32m    541\u001b[0m         \u001b[1;32mtry\u001b[0m\u001b[1;33m:\u001b[0m\u001b[1;33m\u001b[0m\u001b[1;33m\u001b[0m\u001b[0m\n\u001b[1;32m--> 542\u001b[1;33m             \u001b[1;32mreturn\u001b[0m \u001b[0mfuture\u001b[0m\u001b[1;33m.\u001b[0m\u001b[0mresult\u001b[0m\u001b[1;33m(\u001b[0m\u001b[0mtimeout\u001b[0m\u001b[1;33m=\u001b[0m\u001b[0mtimeout\u001b[0m\u001b[1;33m)\u001b[0m\u001b[1;33m\u001b[0m\u001b[1;33m\u001b[0m\u001b[0m\n\u001b[0m\u001b[0;32m    543\u001b[0m         \u001b[1;32mexcept\u001b[0m \u001b[0mCfTimeoutError\u001b[0m \u001b[1;32mas\u001b[0m \u001b[0me\u001b[0m\u001b[1;33m:\u001b[0m\u001b[1;33m\u001b[0m\u001b[1;33m\u001b[0m\u001b[0m\n\u001b[0;32m    544\u001b[0m             \u001b[1;32mraise\u001b[0m \u001b[0mTimeoutError\u001b[0m \u001b[1;32mfrom\u001b[0m \u001b[0me\u001b[0m\u001b[1;33m\u001b[0m\u001b[1;33m\u001b[0m\u001b[0m\n",
      "\u001b[1;32mc:\\users\\33616\\appdata\\local\\programs\\python\\python38\\lib\\concurrent\\futures\\_base.py\u001b[0m in \u001b[0;36mresult\u001b[1;34m(self, timeout)\u001b[0m\n\u001b[0;32m    432\u001b[0m                 \u001b[1;32mreturn\u001b[0m \u001b[0mself\u001b[0m\u001b[1;33m.\u001b[0m\u001b[0m__get_result\u001b[0m\u001b[1;33m(\u001b[0m\u001b[1;33m)\u001b[0m\u001b[1;33m\u001b[0m\u001b[1;33m\u001b[0m\u001b[0m\n\u001b[0;32m    433\u001b[0m \u001b[1;33m\u001b[0m\u001b[0m\n\u001b[1;32m--> 434\u001b[1;33m             \u001b[0mself\u001b[0m\u001b[1;33m.\u001b[0m\u001b[0m_condition\u001b[0m\u001b[1;33m.\u001b[0m\u001b[0mwait\u001b[0m\u001b[1;33m(\u001b[0m\u001b[0mtimeout\u001b[0m\u001b[1;33m)\u001b[0m\u001b[1;33m\u001b[0m\u001b[1;33m\u001b[0m\u001b[0m\n\u001b[0m\u001b[0;32m    435\u001b[0m \u001b[1;33m\u001b[0m\u001b[0m\n\u001b[0;32m    436\u001b[0m             \u001b[1;32mif\u001b[0m \u001b[0mself\u001b[0m\u001b[1;33m.\u001b[0m\u001b[0m_state\u001b[0m \u001b[1;32min\u001b[0m \u001b[1;33m[\u001b[0m\u001b[0mCANCELLED\u001b[0m\u001b[1;33m,\u001b[0m \u001b[0mCANCELLED_AND_NOTIFIED\u001b[0m\u001b[1;33m]\u001b[0m\u001b[1;33m:\u001b[0m\u001b[1;33m\u001b[0m\u001b[1;33m\u001b[0m\u001b[0m\n",
      "\u001b[1;32mc:\\users\\33616\\appdata\\local\\programs\\python\\python38\\lib\\threading.py\u001b[0m in \u001b[0;36mwait\u001b[1;34m(self, timeout)\u001b[0m\n\u001b[0;32m    300\u001b[0m         \u001b[1;32mtry\u001b[0m\u001b[1;33m:\u001b[0m    \u001b[1;31m# restore state no matter what (e.g., KeyboardInterrupt)\u001b[0m\u001b[1;33m\u001b[0m\u001b[1;33m\u001b[0m\u001b[0m\n\u001b[0;32m    301\u001b[0m             \u001b[1;32mif\u001b[0m \u001b[0mtimeout\u001b[0m \u001b[1;32mis\u001b[0m \u001b[1;32mNone\u001b[0m\u001b[1;33m:\u001b[0m\u001b[1;33m\u001b[0m\u001b[1;33m\u001b[0m\u001b[0m\n\u001b[1;32m--> 302\u001b[1;33m                 \u001b[0mwaiter\u001b[0m\u001b[1;33m.\u001b[0m\u001b[0macquire\u001b[0m\u001b[1;33m(\u001b[0m\u001b[1;33m)\u001b[0m\u001b[1;33m\u001b[0m\u001b[1;33m\u001b[0m\u001b[0m\n\u001b[0m\u001b[0;32m    303\u001b[0m                 \u001b[0mgotit\u001b[0m \u001b[1;33m=\u001b[0m \u001b[1;32mTrue\u001b[0m\u001b[1;33m\u001b[0m\u001b[1;33m\u001b[0m\u001b[0m\n\u001b[0;32m    304\u001b[0m             \u001b[1;32melse\u001b[0m\u001b[1;33m:\u001b[0m\u001b[1;33m\u001b[0m\u001b[1;33m\u001b[0m\u001b[0m\n",
      "\u001b[1;31mKeyboardInterrupt\u001b[0m: "
     ]
    }
   ],
   "source": [
    "fig,ax = plt.subplots(1,1)\n",
    "ax.set_xlabel('Generation')\n",
    "ax.set_ylabel('Best reward')\n",
    "\n",
    "\n",
    "generation_results = [] #Will be used to track the best element at each step.\n",
    "\n",
    "number_of_snakes = 2000\n",
    "restart_simulation()\n",
    "\n",
    "\n",
    "for iteration in tqdm(range(1000),unit=\"generation\"):\n",
    "    run_global_simulation_parallel(False, False, nb_of_simulations=100)\n",
    "        #We increase the number of simulation to get more data for each snake.\n",
    "    generation_results.append(farm[0]._reward)\n",
    "    interactive_plot()\n",
    "    if(iteration % 10 == 0):\n",
    "        save_snake(iteration)\n",
    "    darwin_cleaner()"
   ]
  },
  {
   "cell_type": "code",
   "execution_count": 73,
   "metadata": {},
   "outputs": [
    {
     "data": {
      "text/plain": [
       "'Best reward:42'"
      ]
     },
     "execution_count": 73,
     "metadata": {},
     "output_type": "execute_result"
    }
   ],
   "source": [
    "\"Best reward:\"+str(farm[0]._reward)"
   ]
  },
  {
   "cell_type": "code",
   "execution_count": 74,
   "metadata": {},
   "outputs": [
    {
     "data": {
      "text/plain": [
       "'Success:71.0%'"
      ]
     },
     "execution_count": 74,
     "metadata": {},
     "output_type": "execute_result"
    }
   ],
   "source": [
    "\"Success:\"+str((100-farm[0]._reward)/2+farm[0]._reward)+\"%\""
   ]
  },
  {
   "cell_type": "markdown",
   "metadata": {},
   "source": [
    "The curves appears to progressively show an increasing reward... Which means the model has learnt. Let's see how it performs by displaying several environments!\n",
    "If your model does not perform as good at first run, no worry ! This code is extremely dependant of initialization/sample and the randomness applied to each network. Try re-run it to see if it does not perform better."
   ]
  },
  {
   "cell_type": "code",
   "execution_count": 75,
   "metadata": {},
   "outputs": [
    {
     "data": {
      "application/vnd.jupyter.widget-view+json": {
       "model_id": "e7694c2e6d024b8b9617c71629817bb8",
       "version_major": 2,
       "version_minor": 0
      },
      "text/plain": [
       "  0%|          | 0/10 [00:00<?, ?it/s]"
      ]
     },
     "metadata": {},
     "output_type": "display_data"
    }
   ],
   "source": [
    "for _ in tqdm(range(10)):\n",
    "    observation = env.reset()\n",
    "    done = False\n",
    "\n",
    "    while(not done):\n",
    "        env.render()\n",
    "        done = False\n",
    "        while(not done):\n",
    "            observation, res, done, info = env.step(farm[0].forward(observation).argmax())\n",
    "            env.render()\n",
    "            time.sleep(0.1)"
   ]
  },
  {
   "cell_type": "markdown",
   "metadata": {},
   "source": [
    "We see our agent does not simply run in the cliff anymore. It is now able to find (sometimes) the fruit and develop a real strategy to get it however, it looks like the same strategy everytime and not the most optimized. A strategy which does not work at all for some configuration (mine was not able to adopt an efficient behavior if the fruit was above his head).<br>\n",
    "What we could do is letting it running and expect it to find a solution to reach these other cases. And it might succeed.<br>\n",
    "However, since our environment consider that reaching the fruit stops the episode, we may not be able to select a new behavior which finds the new fruits but forgets about the other one (by having a large number of simulation at each generation, it remains possible...).<br>\n",
    "To improve this part, you can try to improve our conditions.<br><br>"
   ]
  },
  {
   "cell_type": "markdown",
   "metadata": {},
   "source": [
    "Special note :<br>\n",
    "I have drawn the neural networks using an online tool from ALEXANDER LENAIL. If you want to check this out, it's <a href=\"http://alexlenail.me/NN-SVG/LeNet.html\">here</a>."
   ]
  }
 ],
 "metadata": {
  "kernelspec": {
   "display_name": "Python 3",
   "language": "python",
   "name": "python3"
  },
  "language_info": {
   "codemirror_mode": {
    "name": "ipython",
    "version": 3
   },
   "file_extension": ".py",
   "mimetype": "text/x-python",
   "name": "python",
   "nbconvert_exporter": "python",
   "pygments_lexer": "ipython3",
   "version": "3.8.8"
  }
 },
 "nbformat": 4,
 "nbformat_minor": 2
}
